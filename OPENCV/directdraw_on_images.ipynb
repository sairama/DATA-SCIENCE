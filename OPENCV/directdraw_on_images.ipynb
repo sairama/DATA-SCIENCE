{
 "cells": [
  {
   "cell_type": "code",
   "execution_count": 3,
   "metadata": {},
   "outputs": [],
   "source": [
    "import cv2\n",
    "import numpy as np\n",
    "\n",
    "#variabbles\n",
    "#true for mouse botton down and false when mouse button up\n",
    "drawing = False\n",
    "ix =-1\n",
    "iy=-1\n",
    "\n",
    "\n",
    "\n",
    "#function\n",
    "def draw_rectangle(event,x,y,flags,params):\n",
    "    global ix,iy,drawing\n",
    "    \n",
    "    if event == cv2.EVENT_LBUTTONDOWN:\n",
    "        drawing ==True\n",
    "        ix,iy = x,y\n",
    "        \n",
    "    elif event == cv2.EVENT_MOUSEMOVE:\n",
    "        if drawing == True:\n",
    "            cv2.rectangle(img,(ix,iy),(x,y),(0,255,0),-1)\n",
    "    elif event == cv2.EVENT_LBUTTONUP:\n",
    "        drawing = False\n",
    "        cv2.rectangle(img,(ix,iy),(x,y),(0,255,0),-1)\n",
    "        \n",
    "\n",
    "#image\n",
    "\n",
    "\n",
    "#showing the image\n",
    "\n",
    "\n",
    "#black image\n",
    "img = np.zeros((512,512,3))\n",
    "cv2.namedWindow(winname = 'my_drawing')\n",
    "cv2.setMouseCallback('my_drawing',draw_rectangle)\n",
    "\n",
    "while True:\n",
    "    cv2.imshow('my_drawing',img)\n",
    "    if cv2.waitKey(1) & 0xFF ==27:\n",
    "        break\n",
    "        \n",
    "cv2.destroyAllWindows()"
   ]
  }
 ],
 "metadata": {
  "kernelspec": {
   "display_name": "Python 3",
   "language": "python",
   "name": "python3"
  },
  "language_info": {
   "codemirror_mode": {
    "name": "ipython",
    "version": 3
   },
   "file_extension": ".py",
   "mimetype": "text/x-python",
   "name": "python",
   "nbconvert_exporter": "python",
   "pygments_lexer": "ipython3",
   "version": "3.6.6"
  }
 },
 "nbformat": 4,
 "nbformat_minor": 2
}
