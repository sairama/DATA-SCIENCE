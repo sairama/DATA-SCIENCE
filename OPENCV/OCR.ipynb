{
 "cells": [
  {
   "cell_type": "code",
   "execution_count": 10,
   "metadata": {},
   "outputs": [],
   "source": [
    "import os\n",
    "os.chdir('C:\\\\Users\\\\E005347\\\\Documents\\\\ml work\\\\opencv tesseract\\\\tesseract-python-master')\n",
    "import matplotlib.pyplot as plt\n",
    "import cv2"
   ]
  },
  {
   "cell_type": "code",
   "execution_count": 4,
   "metadata": {},
   "outputs": [],
   "source": [
    "from PIL import Image\n",
    "import pytesseract"
   ]
  },
  {
   "cell_type": "code",
   "execution_count": 5,
   "metadata": {},
   "outputs": [],
   "source": [
    "im = Image.open(\"sample1.jpg\")"
   ]
  },
  {
   "cell_type": "code",
   "execution_count": 13,
   "metadata": {},
   "outputs": [
    {
     "data": {
      "text/plain": [
       "<matplotlib.image.AxesImage at 0x1e873de14e0>"
      ]
     },
     "execution_count": 13,
     "metadata": {},
     "output_type": "execute_result"
    },
    {
     "data": {
      "image/png": "[encoded data removed]",
      "text/plain": [
       "<Figure size 432x288 with 1 Axes>"
      ]
     },
     "metadata": {
      "needs_background": "light"
     },
     "output_type": "display_data"
    }
   ],
   "source": [
    "im = cv2.imread(\"sample1.jpg\")\n",
    "plt.imshow(im)\n"
   ]
  },
  {
   "cell_type": "code",
   "execution_count": 21,
   "metadata": {},
   "outputs": [],
   "source": [
    "pytesseract.pytesseract.tesseract_cmd = r'C:\\\\Program Files\\\\Tesseract-OCR\\\\tesseract.exe'"
   ]
  },
  {
   "cell_type": "code",
   "execution_count": 22,
   "metadata": {},
   "outputs": [],
   "source": [
    "text = pytesseract.image_to_string(im, lang = 'eng')"
   ]
  },
  {
   "cell_type": "code",
   "execution_count": 23,
   "metadata": {},
   "outputs": [
    {
     "name": "stdout",
     "output_type": "stream",
     "text": [
      "The quick brown fox\n",
      "jumped over the 5\n",
      "lazy dogs!\n"
     ]
    }
   ],
   "source": [
    "print(text)"
   ]
  },
  {
   "cell_type": "code",
   "execution_count": 26,
   "metadata": {},
   "outputs": [],
   "source": [
    "import io\n",
    "from PIL import Image\n",
    "import pytesseract\n",
    "\n"
   ]
  },
  {
   "cell_type": "code",
   "execution_count": 28,
   "metadata": {},
   "outputs": [],
   "source": [
    "from wand.image import Image as wi"
   ]
  },
  {
   "cell_type": "code",
   "execution_count": 33,
   "metadata": {},
   "outputs": [],
   "source": [
    "\n",
    "pdf = wi(filename = \"sample2.pdf\", resolution = 300)\n",
    "\n",
    "\n"
   ]
  },
  {
   "cell_type": "code",
   "execution_count": 34,
   "metadata": {},
   "outputs": [],
   "source": [
    "pdfImage = pdf.convert('jpeg')"
   ]
  },
  {
   "cell_type": "code",
   "execution_count": 35,
   "metadata": {},
   "outputs": [
    {
     "name": "stdout",
     "output_type": "stream",
     "text": [
      "['Python Basics\\n\\nS.R. Doty\\n\\nAugust 27, 2008\\n\\nContents\\n\\n1 Preliminaries\\n1.1. What is Python? «s.::e net ieee see eae we Ew RE\\n\\n1.2 Installation and documentation ..........0...0. 0.00 eee eee ee ae\\n\\n2 Getting started\\n\\n2.1 Running Python asacalculator ............ 0.200.000 000022 eee\\n2.2 Quitting the interpreter ... 2... 2.2. ..2020 02.0200 2 eee ee\\n2.3 Loading commands from the library... ........0..0.......0-2000005\\n2.4 Defining functions... . 2...\\n2.5 Files 2...\\n20 “TeSiWe GOUD. wc we we eR ERE EES ER BRE ERO HE TREE ES\\n2.7 Scripts .. 2... ee', '3 Python commands 9\\n\\n3.1\\n3.2\\n\\n3.3\\n3.4\\n3.9\\n3.6\\n3.7\\n\\n3.8\\n\\n3.9\\n\\nCOMTMEMIS ps: ee eet tek dE Et tet tee ee 9\\nNumbers and other data types... 2... 2 ee 9\\n3.2.1 Thetype function .............. 0... 200.200.000.008. 9\\n3.2.2 Strings... 2... ee 10\\n3.2.3 Listsandtuples..........0.. 2... 0002 eee ee ee 10\\nS24 The range fanetion. «.: ie wet tw wee te weet 11\\n3.2.5 Boolean values ..........0.0 00. eee ee 11\\nExpressions . 2... ee 11\\nOperators 2... 2. ee 11\\nVariables and assignment... 2... 2... ee 13\\nDOGSIOTS. os see eet te MRE ERE ER Eh wt km 13\\nLoops 2... ee 14\\n3.7.1 forloop..... 2.2... 2... ee 14\\n3.7.2 while loop... ....... 20.000 eee ee 15\\n3.7.8  elseinloops ...........0. 0.0 eee 15\\n3.7.4 break, continue, and pass ............. 0.20200. e ee enue 16\\nLists 2. ee 16\\n3.8.1 Length of a list; empty list... 2... ee 17\\n3.8.2 Sublists (slicing) ... 2... 02.20.00. ee 17\\n3.8.3 Joining two lists... 2... ee 18\\nSSA, Lishmetods ..:neet tweet twee se tee et em wee 18\\nStrings... ee 19']\n"
     ]
    }
   ],
   "source": [
    "imageBlobs = []\n",
    "\n",
    "for img in pdfImage.sequence:\n",
    "\timgPage = wi(image = img)\n",
    "\timageBlobs.append(imgPage.make_blob('jpeg'))\n",
    "\n",
    "recognized_text = []\n",
    "\n",
    "for imgBlob in imageBlobs:\n",
    "\tim = Image.open(io.BytesIO(imgBlob))\n",
    "\ttext = pytesseract.image_to_string(im, lang = 'eng')\n",
    "\trecognized_text.append(text)\n",
    "\n",
    "print(recognized_text)"
   ]
  }
 ],
 "metadata": {
  "kernelspec": {
   "display_name": "Python 3",
   "language": "python",
   "name": "python3"
  },
  "language_info": {
   "codemirror_mode": {
    "name": "ipython",
    "version": 3
   },
   "file_extension": ".py",
   "mimetype": "text/x-python",
   "name": "python",
   "nbconvert_exporter": "python",
   "pygments_lexer": "ipython3",
   "version": "3.6.6"
  }
 },
 "nbformat": 4,
 "nbformat_minor": 2
}
