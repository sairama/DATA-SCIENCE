{
 "cells": [
  {
   "cell_type": "code",
   "execution_count": 14,
   "metadata": {},
   "outputs": [],
   "source": [
    "import os\n",
    "os.chdir('G:\\\\bag of words')\n",
    "import nltk"
   ]
  },
  {
   "cell_type": "code",
   "execution_count": 2,
   "metadata": {},
   "outputs": [],
   "source": [
    "import pandas as pd\n",
    "\n",
    "# Read data from files \n",
    "train = pd.read_csv( \"labeledTrainData.tsv\", header=0, \n",
    " delimiter=\"\\t\", quoting=3 )\n",
    "test = pd.read_csv( \"testData.tsv\", header=0, delimiter=\"\\t\", quoting=3 )\n",
    "unlabeled_train = pd.read_csv( \"unlabeledTrainData.tsv\", header=0, \n",
    " delimiter=\"\\t\", quoting=3 )"
   ]
  },
  {
   "cell_type": "code",
   "execution_count": 7,
   "metadata": {},
   "outputs": [
    {
     "name": "stdout",
     "output_type": "stream",
     "text": [
      "Read 25000 labeled train reviews, 25000 labeled test reviews, and 50000 unlabeled reviews\n",
      "\n"
     ]
    }
   ],
   "source": [
    "# Verify the number of reviews that were read (100,000 in total)\n",
    "print(\"Read %d labeled train reviews, %d labeled test reviews, \" \\\n",
    " \"and %d unlabeled reviews\\n\" % (train[\"review\"].size,  \n",
    " test[\"review\"].size, unlabeled_train[\"review\"].size ))"
   ]
  },
  {
   "cell_type": "code",
   "execution_count": 11,
   "metadata": {},
   "outputs": [],
   "source": [
    "# Import various modules for string cleaning\n",
    "from bs4 import BeautifulSoup\n",
    "import re\n",
    "from nltk.corpus import stopwords\n"
   ]
  },
  {
   "cell_type": "code",
   "execution_count": 12,
   "metadata": {},
   "outputs": [],
   "source": [
    "def review_to_wordlist( review, remove_stopwords=False ):\n",
    "    # Function to convert a document to a sequence of words,\n",
    "    # optionally removing stop words.  Returns a list of words.\n",
    "    #\n",
    "    # 1. Remove HTML\n",
    "    review_text = BeautifulSoup(review).get_text()\n",
    "    #  \n",
    "    # 2. Remove non-letters\n",
    "    review_text = re.sub(\"[^a-zA-Z]\",\" \", review_text)\n",
    "    #\n",
    "    # 3. Convert words to lower case and split them\n",
    "    words = review_text.lower().split()\n",
    "    #\n",
    "    # 4. Optionally remove stop words (false by default)\n",
    "    if remove_stopwords:\n",
    "        stops = set(stopwords.words(\"english\"))\n",
    "        words = [w for w in words if not w in stops]\n",
    "    #\n",
    "    # 5. Return a list of words\n",
    "    return(words)"
   ]
  },
  {
   "cell_type": "code",
   "execution_count": 15,
   "metadata": {},
   "outputs": [],
   "source": [
    "tokenizer = nltk.data.load('tokenizers/punkt/english.pickle')\n"
   ]
  },
  {
   "cell_type": "code",
   "execution_count": 18,
   "metadata": {},
   "outputs": [],
   "source": [
    "# Define a function to split a review into parsed sentences\n",
    "def review_to_sentences( review, tokenizer, remove_stopwords=False ):\n",
    "    # Function to split a review into parsed sentences. Returns a \n",
    "    # list of sentences, where each sentence is a list of words\n",
    "    #\n",
    "    # 1. Use the NLTK tokenizer to split the paragraph into sentences\n",
    "    raw_sentences = tokenizer.tokenize(review.strip())\n",
    "    #\n",
    "    # 2. Loop over each sentence\n",
    "    sentences = []\n",
    "    for raw_sentence in raw_sentences:\n",
    "        # If a sentence is empty, skip it\n",
    "        if len(raw_sentence) > 0:\n",
    "            # Otherwise, call review_to_wordlist to get a list of words\n",
    "            sentences.append( review_to_wordlist( raw_sentence, \\\n",
    "              remove_stopwords ))\n",
    "    #\n",
    "    # Return the list of sentences (each sentence is a list of words,\n",
    "    # so this returns a list of lists\n",
    "    return sentences"
   ]
  },
  {
   "cell_type": "code",
   "execution_count": 19,
   "metadata": {},
   "outputs": [
    {
     "name": "stdout",
     "output_type": "stream",
     "text": [
      "Parsing sentences from training set\n"
     ]
    },
    {
     "name": "stderr",
     "output_type": "stream",
     "text": [
      "C:\\Users\\sai ram\\Anaconda3\\lib\\site-packages\\bs4\\__init__.py:181: UserWarning: No parser was explicitly specified, so I'm using the best available HTML parser for this system (\"lxml\"). This usually isn't a problem, but if you run this code on another system, or in a different virtual environment, it may use a different parser and behave differently.\n",
      "\n",
      "The code that caused this warning is on line 193 of the file C:\\Users\\sai ram\\Anaconda3\\lib\\runpy.py. To get rid of this warning, change code that looks like this:\n",
      "\n",
      " BeautifulSoup(YOUR_MARKUP})\n",
      "\n",
      "to this:\n",
      "\n",
      " BeautifulSoup(YOUR_MARKUP, \"lxml\")\n",
      "\n",
      "  markup_type=markup_type))\n",
      "C:\\Users\\sai ram\\Anaconda3\\lib\\site-packages\\bs4\\__init__.py:219: UserWarning: \"b'.'\" looks like a filename, not markup. You should probably open this file and pass the filehandle into Beautiful Soup.\n",
      "  ' Beautiful Soup.' % markup)\n",
      "C:\\Users\\sai ram\\Anaconda3\\lib\\site-packages\\bs4\\__init__.py:219: UserWarning: \"b'...'\" looks like a filename, not markup. You should probably open this file and pass the filehandle into Beautiful Soup.\n",
      "  ' Beautiful Soup.' % markup)\n",
      "C:\\Users\\sai ram\\Anaconda3\\lib\\site-packages\\bs4\\__init__.py:282: UserWarning: \"http://www.happierabroad.com\"\" looks like a URL. Beautiful Soup is not an HTTP client. You should probably use an HTTP client like requests to get the document behind the URL, and feed that document to Beautiful Soup.\n",
      "  ' that document to Beautiful Soup.' % decoded_markup\n"
     ]
    },
    {
     "name": "stdout",
     "output_type": "stream",
     "text": [
      "Parsing sentences from unlabeled set\n"
     ]
    },
    {
     "name": "stderr",
     "output_type": "stream",
     "text": [
      "C:\\Users\\sai ram\\Anaconda3\\lib\\site-packages\\bs4\\__init__.py:282: UserWarning: \"http://www.archive.org/details/LovefromaStranger\"\" looks like a URL. Beautiful Soup is not an HTTP client. You should probably use an HTTP client like requests to get the document behind the URL, and feed that document to Beautiful Soup.\n",
      "  ' that document to Beautiful Soup.' % decoded_markup\n",
      "C:\\Users\\sai ram\\Anaconda3\\lib\\site-packages\\bs4\\__init__.py:282: UserWarning: \"http://www.loosechangeguide.com/LooseChangeGuide.html\"\" looks like a URL. Beautiful Soup is not an HTTP client. You should probably use an HTTP client like requests to get the document behind the URL, and feed that document to Beautiful Soup.\n",
      "  ' that document to Beautiful Soup.' % decoded_markup\n",
      "C:\\Users\\sai ram\\Anaconda3\\lib\\site-packages\\bs4\\__init__.py:219: UserWarning: \"b'... ...'\" looks like a filename, not markup. You should probably open this file and pass the filehandle into Beautiful Soup.\n",
      "  ' Beautiful Soup.' % markup)\n",
      "C:\\Users\\sai ram\\Anaconda3\\lib\\site-packages\\bs4\\__init__.py:219: UserWarning: \"b'....'\" looks like a filename, not markup. You should probably open this file and pass the filehandle into Beautiful Soup.\n",
      "  ' Beautiful Soup.' % markup)\n",
      "C:\\Users\\sai ram\\Anaconda3\\lib\\site-packages\\bs4\\__init__.py:282: UserWarning: \"http://www.msnbc.msn.com/id/4972055/site/newsweek/\"\" looks like a URL. Beautiful Soup is not an HTTP client. You should probably use an HTTP client like requests to get the document behind the URL, and feed that document to Beautiful Soup.\n",
      "  ' that document to Beautiful Soup.' % decoded_markup\n",
      "C:\\Users\\sai ram\\Anaconda3\\lib\\site-packages\\bs4\\__init__.py:219: UserWarning: \"b'..'\" looks like a filename, not markup. You should probably open this file and pass the filehandle into Beautiful Soup.\n",
      "  ' Beautiful Soup.' % markup)\n",
      "C:\\Users\\sai ram\\Anaconda3\\lib\\site-packages\\bs4\\__init__.py:282: UserWarning: \"http://www.youtube.com/watch?v=a0KSqelmgN8\"\" looks like a URL. Beautiful Soup is not an HTTP client. You should probably use an HTTP client like requests to get the document behind the URL, and feed that document to Beautiful Soup.\n",
      "  ' that document to Beautiful Soup.' % decoded_markup\n",
      "C:\\Users\\sai ram\\Anaconda3\\lib\\site-packages\\bs4\\__init__.py:219: UserWarning: \"b'.. .'\" looks like a filename, not markup. You should probably open this file and pass the filehandle into Beautiful Soup.\n",
      "  ' Beautiful Soup.' % markup)\n",
      "C:\\Users\\sai ram\\Anaconda3\\lib\\site-packages\\bs4\\__init__.py:282: UserWarning: \"http://jake-weird.blogspot.com/2007/08/beneath.html\"\" looks like a URL. Beautiful Soup is not an HTTP client. You should probably use an HTTP client like requests to get the document behind the URL, and feed that document to Beautiful Soup.\n",
      "  ' that document to Beautiful Soup.' % decoded_markup\n"
     ]
    }
   ],
   "source": [
    "sentences = []  # Initialize an empty list of sentences\n",
    "\n",
    "print(\"Parsing sentences from training set\")\n",
    "for review in train[\"review\"]:\n",
    "    sentences += review_to_sentences(review, tokenizer)\n",
    "\n",
    "print(\"Parsing sentences from unlabeled set\")\n",
    "for review in unlabeled_train[\"review\"]:\n",
    "    sentences += review_to_sentences(review, tokenizer)\n"
   ]
  },
  {
   "cell_type": "code",
   "execution_count": 20,
   "metadata": {},
   "outputs": [
    {
     "name": "stdout",
     "output_type": "stream",
     "text": [
      "795538\n"
     ]
    }
   ],
   "source": [
    "print(len(sentences))"
   ]
  },
  {
   "cell_type": "code",
   "execution_count": 21,
   "metadata": {},
   "outputs": [
    {
     "name": "stdout",
     "output_type": "stream",
     "text": [
      "['with', 'all', 'this', 'stuff', 'going', 'down', 'at', 'the', 'moment', 'with', 'mj', 'i', 've', 'started', 'listening', 'to', 'his', 'music', 'watching', 'the', 'odd', 'documentary', 'here', 'and', 'there', 'watched', 'the', 'wiz', 'and', 'watched', 'moonwalker', 'again']\n"
     ]
    }
   ],
   "source": [
    "print(sentences[0])"
   ]
  },
  {
   "cell_type": "code",
   "execution_count": 22,
   "metadata": {},
   "outputs": [
    {
     "name": "stdout",
     "output_type": "stream",
     "text": [
      "['maybe', 'i', 'just', 'want', 'to', 'get', 'a', 'certain', 'insight', 'into', 'this', 'guy', 'who', 'i', 'thought', 'was', 'really', 'cool', 'in', 'the', 'eighties', 'just', 'to', 'maybe', 'make', 'up', 'my', 'mind', 'whether', 'he', 'is', 'guilty', 'or', 'innocent']\n"
     ]
    }
   ],
   "source": [
    "print(sentences[1])"
   ]
  },
  {
   "cell_type": "code",
   "execution_count": 23,
   "metadata": {},
   "outputs": [],
   "source": [
    "import logging"
   ]
  },
  {
   "cell_type": "code",
   "execution_count": 24,
   "metadata": {},
   "outputs": [],
   "source": [
    "logging.basicConfig(format='%(asctime)s : %(levelname)s : %(message)s',\\\n",
    "    level=logging.INFO)"
   ]
  },
  {
   "cell_type": "code",
   "execution_count": 25,
   "metadata": {},
   "outputs": [],
   "source": [
    "# Set values for various parameters\n",
    "num_features = 300    # Word vector dimensionality                      \n",
    "min_word_count = 40   # Minimum word count                        \n",
    "num_workers = 4       # Number of threads to run in parallel\n",
    "context = 10          # Context window size                                                                                    \n",
    "downsampling = 1e-3   # Downsample setting for frequent words"
   ]
  },
  {
   "cell_type": "code",
   "execution_count": 27,
   "metadata": {},
   "outputs": [
    {
     "name": "stderr",
     "output_type": "stream",
     "text": [
      "C:\\Users\\sai ram\\Anaconda3\\lib\\site-packages\\gensim\\utils.py:1212: UserWarning: detected Windows; aliasing chunkize to chunkize_serial\n",
      "  warnings.warn(\"detected Windows; aliasing chunkize to chunkize_serial\")\n",
      "2018-12-20 22:42:21,940 : INFO : 'pattern' package not found; tag filters are not available for English\n"
     ]
    }
   ],
   "source": [
    "from gensim.models import word2vec"
   ]
  },
  {
   "cell_type": "code",
   "execution_count": 28,
   "metadata": {},
   "outputs": [
    {
     "name": "stderr",
     "output_type": "stream",
     "text": [
      "2018-12-20 22:43:22,292 : INFO : collecting all words and their counts\n",
      "2018-12-20 22:43:22,307 : INFO : PROGRESS: at sentence #0, processed 0 words, keeping 0 word types\n",
      "2018-12-20 22:43:22,364 : INFO : PROGRESS: at sentence #10000, processed 225803 words, keeping 17776 word types\n",
      "2018-12-20 22:43:22,414 : INFO : PROGRESS: at sentence #20000, processed 451892 words, keeping 24948 word types\n",
      "2018-12-20 22:43:22,446 : INFO : PROGRESS: at sentence #30000, processed 671315 words, keeping 30034 word types\n",
      "2018-12-20 22:43:22,514 : INFO : PROGRESS: at sentence #40000, processed 897815 words, keeping 34348 word types\n",
      "2018-12-20 22:43:22,565 : INFO : PROGRESS: at sentence #50000, processed 1116963 words, keeping 37761 word types\n",
      "2018-12-20 22:43:22,615 : INFO : PROGRESS: at sentence #60000, processed 1338404 words, keeping 40723 word types\n",
      "2018-12-20 22:43:22,665 : INFO : PROGRESS: at sentence #70000, processed 1561580 words, keeping 43333 word types\n",
      "2018-12-20 22:43:22,712 : INFO : PROGRESS: at sentence #80000, processed 1780887 words, keeping 45714 word types\n",
      "2018-12-20 22:43:22,770 : INFO : PROGRESS: at sentence #90000, processed 2004996 words, keeping 48135 word types\n",
      "2018-12-20 22:43:22,814 : INFO : PROGRESS: at sentence #100000, processed 2226966 words, keeping 50207 word types\n",
      "2018-12-20 22:43:22,871 : INFO : PROGRESS: at sentence #110000, processed 2446580 words, keeping 52081 word types\n",
      "2018-12-20 22:43:22,915 : INFO : PROGRESS: at sentence #120000, processed 2668775 words, keeping 54119 word types\n",
      "2018-12-20 22:43:22,975 : INFO : PROGRESS: at sentence #130000, processed 2894303 words, keeping 55847 word types\n",
      "2018-12-20 22:43:23,027 : INFO : PROGRESS: at sentence #140000, processed 3107005 words, keeping 57346 word types\n",
      "2018-12-20 22:43:23,076 : INFO : PROGRESS: at sentence #150000, processed 3332627 words, keeping 59055 word types\n",
      "2018-12-20 22:43:23,114 : INFO : PROGRESS: at sentence #160000, processed 3555315 words, keeping 60617 word types\n",
      "2018-12-20 22:43:23,180 : INFO : PROGRESS: at sentence #170000, processed 3778655 words, keeping 62077 word types\n",
      "2018-12-20 22:43:23,214 : INFO : PROGRESS: at sentence #180000, processed 3999236 words, keeping 63496 word types\n",
      "2018-12-20 22:43:23,280 : INFO : PROGRESS: at sentence #190000, processed 4224449 words, keeping 64794 word types\n",
      "2018-12-20 22:43:23,339 : INFO : PROGRESS: at sentence #200000, processed 4448603 words, keeping 66087 word types\n",
      "2018-12-20 22:43:23,395 : INFO : PROGRESS: at sentence #210000, processed 4669967 words, keeping 67390 word types\n",
      "2018-12-20 22:43:23,450 : INFO : PROGRESS: at sentence #220000, processed 4894968 words, keeping 68697 word types\n",
      "2018-12-20 22:43:23,481 : INFO : PROGRESS: at sentence #230000, processed 5117545 words, keeping 69958 word types\n",
      "2018-12-20 22:43:23,560 : INFO : PROGRESS: at sentence #240000, processed 5345050 words, keeping 71167 word types\n",
      "2018-12-20 22:43:23,597 : INFO : PROGRESS: at sentence #250000, processed 5559165 words, keeping 72351 word types\n",
      "2018-12-20 22:43:23,663 : INFO : PROGRESS: at sentence #260000, processed 5779146 words, keeping 73478 word types\n",
      "2018-12-20 22:43:23,716 : INFO : PROGRESS: at sentence #270000, processed 6000435 words, keeping 74767 word types\n",
      "2018-12-20 22:43:23,772 : INFO : PROGRESS: at sentence #280000, processed 6226314 words, keeping 76369 word types\n",
      "2018-12-20 22:43:23,831 : INFO : PROGRESS: at sentence #290000, processed 6449474 words, keeping 77839 word types\n",
      "2018-12-20 22:43:23,892 : INFO : PROGRESS: at sentence #300000, processed 6674077 words, keeping 79171 word types\n",
      "2018-12-20 22:43:23,948 : INFO : PROGRESS: at sentence #310000, processed 6899391 words, keeping 80480 word types\n",
      "2018-12-20 22:43:23,998 : INFO : PROGRESS: at sentence #320000, processed 7124278 words, keeping 81808 word types\n",
      "2018-12-20 22:43:24,057 : INFO : PROGRESS: at sentence #330000, processed 7346021 words, keeping 83030 word types\n",
      "2018-12-20 22:43:24,097 : INFO : PROGRESS: at sentence #340000, processed 7575533 words, keeping 84280 word types\n",
      "2018-12-20 22:43:24,170 : INFO : PROGRESS: at sentence #350000, processed 7798803 words, keeping 85425 word types\n",
      "2018-12-20 22:43:24,213 : INFO : PROGRESS: at sentence #360000, processed 8019427 words, keeping 86596 word types\n",
      "2018-12-20 22:43:24,282 : INFO : PROGRESS: at sentence #370000, processed 8246619 words, keeping 87708 word types\n",
      "2018-12-20 22:43:24,328 : INFO : PROGRESS: at sentence #380000, processed 8471766 words, keeping 88878 word types\n",
      "2018-12-20 22:43:24,382 : INFO : PROGRESS: at sentence #390000, processed 8701497 words, keeping 89907 word types\n",
      "2018-12-20 22:43:24,429 : INFO : PROGRESS: at sentence #400000, processed 8924446 words, keeping 90916 word types\n",
      "2018-12-20 22:43:24,497 : INFO : PROGRESS: at sentence #410000, processed 9145796 words, keeping 91880 word types\n",
      "2018-12-20 22:43:24,551 : INFO : PROGRESS: at sentence #420000, processed 9366876 words, keeping 92912 word types\n",
      "2018-12-20 22:43:24,611 : INFO : PROGRESS: at sentence #430000, processed 9594413 words, keeping 93932 word types\n",
      "2018-12-20 22:43:24,677 : INFO : PROGRESS: at sentence #440000, processed 9821166 words, keeping 94906 word types\n",
      "2018-12-20 22:43:24,744 : INFO : PROGRESS: at sentence #450000, processed 10044928 words, keeping 96036 word types\n",
      "2018-12-20 22:43:24,813 : INFO : PROGRESS: at sentence #460000, processed 10277688 words, keeping 97088 word types\n",
      "2018-12-20 22:43:24,892 : INFO : PROGRESS: at sentence #470000, processed 10505613 words, keeping 97933 word types\n",
      "2018-12-20 22:43:24,956 : INFO : PROGRESS: at sentence #480000, processed 10725997 words, keeping 98862 word types\n",
      "2018-12-20 22:43:25,015 : INFO : PROGRESS: at sentence #490000, processed 10952741 words, keeping 99871 word types\n",
      "2018-12-20 22:43:25,075 : INFO : PROGRESS: at sentence #500000, processed 11174397 words, keeping 100765 word types\n",
      "2018-12-20 22:43:25,133 : INFO : PROGRESS: at sentence #510000, processed 11399672 words, keeping 101699 word types\n",
      "2018-12-20 22:43:25,180 : INFO : PROGRESS: at sentence #520000, processed 11623020 words, keeping 102598 word types\n",
      "2018-12-20 22:43:25,245 : INFO : PROGRESS: at sentence #530000, processed 11847418 words, keeping 103400 word types\n",
      "2018-12-20 22:43:25,304 : INFO : PROGRESS: at sentence #540000, processed 12072033 words, keeping 104265 word types\n",
      "2018-12-20 22:43:25,348 : INFO : PROGRESS: at sentence #550000, processed 12297571 words, keeping 105133 word types\n",
      "2018-12-20 22:43:25,412 : INFO : PROGRESS: at sentence #560000, processed 12518861 words, keeping 105997 word types\n",
      "2018-12-20 22:43:25,447 : INFO : PROGRESS: at sentence #570000, processed 12747916 words, keeping 106787 word types\n",
      "2018-12-20 22:43:25,517 : INFO : PROGRESS: at sentence #580000, processed 12969412 words, keeping 107665 word types\n",
      "2018-12-20 22:43:25,563 : INFO : PROGRESS: at sentence #590000, processed 13194937 words, keeping 108501 word types\n",
      "2018-12-20 22:43:25,633 : INFO : PROGRESS: at sentence #600000, processed 13417135 words, keeping 109218 word types\n",
      "2018-12-20 22:43:25,690 : INFO : PROGRESS: at sentence #610000, processed 13638158 words, keeping 110092 word types\n",
      "2018-12-20 22:43:25,731 : INFO : PROGRESS: at sentence #620000, processed 13864483 words, keeping 110837 word types\n",
      "2018-12-20 22:43:25,800 : INFO : PROGRESS: at sentence #630000, processed 14088769 words, keeping 111610 word types\n",
      "2018-12-20 22:43:25,855 : INFO : PROGRESS: at sentence #640000, processed 14309552 words, keeping 112416 word types\n",
      "2018-12-20 22:43:25,912 : INFO : PROGRESS: at sentence #650000, processed 14535308 words, keeping 113196 word types\n",
      "2018-12-20 22:43:25,967 : INFO : PROGRESS: at sentence #660000, processed 14758098 words, keeping 113945 word types\n",
      "2018-12-20 22:43:26,013 : INFO : PROGRESS: at sentence #670000, processed 14981482 words, keeping 114643 word types\n",
      "2018-12-20 22:43:26,076 : INFO : PROGRESS: at sentence #680000, processed 15206314 words, keeping 115354 word types\n",
      "2018-12-20 22:43:26,133 : INFO : PROGRESS: at sentence #690000, processed 15428507 words, keeping 116131 word types\n",
      "2018-12-20 22:43:26,180 : INFO : PROGRESS: at sentence #700000, processed 15657213 words, keeping 116943 word types\n",
      "2018-12-20 22:43:26,251 : INFO : PROGRESS: at sentence #710000, processed 15880202 words, keeping 117596 word types\n"
     ]
    },
    {
     "name": "stderr",
     "output_type": "stream",
     "text": [
      "2018-12-20 22:43:26,298 : INFO : PROGRESS: at sentence #720000, processed 16105489 words, keeping 118221 word types\n",
      "2018-12-20 22:43:26,366 : INFO : PROGRESS: at sentence #730000, processed 16331870 words, keeping 118954 word types\n",
      "2018-12-20 22:43:26,416 : INFO : PROGRESS: at sentence #740000, processed 16552903 words, keeping 119668 word types\n",
      "2018-12-20 22:43:26,463 : INFO : PROGRESS: at sentence #750000, processed 16771230 words, keeping 120295 word types\n",
      "2018-12-20 22:43:26,516 : INFO : PROGRESS: at sentence #760000, processed 16990622 words, keeping 120930 word types\n",
      "2018-12-20 22:43:26,563 : INFO : PROGRESS: at sentence #770000, processed 17217759 words, keeping 121703 word types\n",
      "2018-12-20 22:43:26,640 : INFO : PROGRESS: at sentence #780000, processed 17447905 words, keeping 122402 word types\n",
      "2018-12-20 22:43:26,697 : INFO : PROGRESS: at sentence #790000, processed 17674981 words, keeping 123066 word types\n",
      "2018-12-20 22:43:26,715 : INFO : collected 123504 word types from a corpus of 17798082 raw words and 795538 sentences\n",
      "2018-12-20 22:43:26,715 : INFO : Loading a fresh vocabulary\n",
      "2018-12-20 22:43:26,800 : INFO : effective_min_count=40 retains 16490 unique words (13% of original 123504, drops 107014)\n",
      "2018-12-20 22:43:26,800 : INFO : effective_min_count=40 leaves 17238940 word corpus (96% of original 17798082, drops 559142)\n",
      "2018-12-20 22:43:26,932 : INFO : deleting the raw counts dictionary of 123504 items\n",
      "2018-12-20 22:43:26,932 : INFO : sample=0.001 downsamples 48 most-common words\n",
      "2018-12-20 22:43:26,932 : INFO : downsampling leaves estimated 12749658 word corpus (74.0% of prior 17238940)\n",
      "2018-12-20 22:43:27,000 : INFO : estimated required memory for 16490 words and 300 dimensions: 47821000 bytes\n",
      "2018-12-20 22:43:27,000 : INFO : resetting layer weights\n",
      "2018-12-20 22:43:27,256 : INFO : training model with 4 workers on 16490 vocabulary and 300 features, using sg=0 hs=0 sample=0.001 negative=5 window=10\n",
      "2018-12-20 22:43:28,488 : INFO : EPOCH 1 - PROGRESS: at 1.28% examples, 164412 words/s, in_qsize 8, out_qsize 0\n",
      "2018-12-20 22:43:29,487 : INFO : EPOCH 1 - PROGRESS: at 6.96% examples, 441260 words/s, in_qsize 7, out_qsize 0\n",
      "2018-12-20 22:43:30,488 : INFO : EPOCH 1 - PROGRESS: at 12.74% examples, 536803 words/s, in_qsize 7, out_qsize 0\n",
      "2018-12-20 22:43:31,505 : INFO : EPOCH 1 - PROGRESS: at 18.52% examples, 583616 words/s, in_qsize 8, out_qsize 0\n",
      "2018-12-20 22:43:32,522 : INFO : EPOCH 1 - PROGRESS: at 24.33% examples, 612278 words/s, in_qsize 7, out_qsize 0\n",
      "2018-12-20 22:43:33,518 : INFO : EPOCH 1 - PROGRESS: at 30.04% examples, 631090 words/s, in_qsize 7, out_qsize 0\n",
      "2018-12-20 22:43:34,540 : INFO : EPOCH 1 - PROGRESS: at 36.00% examples, 646608 words/s, in_qsize 7, out_qsize 0\n",
      "2018-12-20 22:43:35,540 : INFO : EPOCH 1 - PROGRESS: at 41.65% examples, 655170 words/s, in_qsize 7, out_qsize 0\n",
      "2018-12-20 22:43:36,556 : INFO : EPOCH 1 - PROGRESS: at 47.39% examples, 663729 words/s, in_qsize 7, out_qsize 0\n",
      "2018-12-20 22:43:37,558 : INFO : EPOCH 1 - PROGRESS: at 53.16% examples, 670497 words/s, in_qsize 7, out_qsize 0\n",
      "2018-12-20 22:43:38,558 : INFO : EPOCH 1 - PROGRESS: at 58.79% examples, 675355 words/s, in_qsize 8, out_qsize 1\n",
      "2018-12-20 22:43:39,574 : INFO : EPOCH 1 - PROGRESS: at 64.50% examples, 679721 words/s, in_qsize 6, out_qsize 1\n",
      "2018-12-20 22:43:40,573 : INFO : EPOCH 1 - PROGRESS: at 70.33% examples, 684366 words/s, in_qsize 7, out_qsize 0\n",
      "2018-12-20 22:43:41,568 : INFO : EPOCH 1 - PROGRESS: at 75.88% examples, 685866 words/s, in_qsize 7, out_qsize 0\n",
      "2018-12-20 22:43:42,576 : INFO : EPOCH 1 - PROGRESS: at 81.64% examples, 689122 words/s, in_qsize 7, out_qsize 0\n",
      "2018-12-20 22:43:43,593 : INFO : EPOCH 1 - PROGRESS: at 87.53% examples, 692440 words/s, in_qsize 7, out_qsize 0\n",
      "2018-12-20 22:43:44,595 : INFO : EPOCH 1 - PROGRESS: at 93.40% examples, 695772 words/s, in_qsize 8, out_qsize 0\n",
      "2018-12-20 22:43:45,595 : INFO : EPOCH 1 - PROGRESS: at 99.16% examples, 697835 words/s, in_qsize 7, out_qsize 0\n",
      "2018-12-20 22:43:45,722 : INFO : worker thread finished; awaiting finish of 3 more threads\n",
      "2018-12-20 22:43:45,737 : INFO : worker thread finished; awaiting finish of 2 more threads\n",
      "2018-12-20 22:43:45,752 : INFO : worker thread finished; awaiting finish of 1 more threads\n",
      "2018-12-20 22:43:45,760 : INFO : worker thread finished; awaiting finish of 0 more threads\n",
      "2018-12-20 22:43:45,760 : INFO : EPOCH - 1 : training on 17798082 raw words (12748819 effective words) took 18.3s, 697707 effective words/s\n",
      "2018-12-20 22:43:46,777 : INFO : EPOCH 2 - PROGRESS: at 5.71% examples, 722114 words/s, in_qsize 8, out_qsize 0\n",
      "2018-12-20 22:43:47,795 : INFO : EPOCH 2 - PROGRESS: at 11.67% examples, 730987 words/s, in_qsize 8, out_qsize 0\n",
      "2018-12-20 22:43:48,797 : INFO : EPOCH 2 - PROGRESS: at 17.64% examples, 735726 words/s, in_qsize 7, out_qsize 0\n",
      "2018-12-20 22:43:49,797 : INFO : EPOCH 2 - PROGRESS: at 23.53% examples, 739069 words/s, in_qsize 7, out_qsize 0\n",
      "2018-12-20 22:43:50,813 : INFO : EPOCH 2 - PROGRESS: at 29.48% examples, 740514 words/s, in_qsize 7, out_qsize 0\n",
      "2018-12-20 22:43:51,822 : INFO : EPOCH 2 - PROGRESS: at 35.39% examples, 740567 words/s, in_qsize 7, out_qsize 0\n",
      "2018-12-20 22:43:52,831 : INFO : EPOCH 2 - PROGRESS: at 41.27% examples, 741193 words/s, in_qsize 8, out_qsize 0\n",
      "2018-12-20 22:43:53,847 : INFO : EPOCH 2 - PROGRESS: at 47.04% examples, 740338 words/s, in_qsize 7, out_qsize 0\n",
      "2018-12-20 22:43:54,848 : INFO : EPOCH 2 - PROGRESS: at 52.89% examples, 740285 words/s, in_qsize 8, out_qsize 0\n",
      "2018-12-20 22:43:55,855 : INFO : EPOCH 2 - PROGRESS: at 58.63% examples, 740344 words/s, in_qsize 7, out_qsize 0\n",
      "2018-12-20 22:43:56,851 : INFO : EPOCH 2 - PROGRESS: at 64.50% examples, 741222 words/s, in_qsize 7, out_qsize 0\n",
      "2018-12-20 22:43:57,854 : INFO : EPOCH 2 - PROGRESS: at 69.87% examples, 736542 words/s, in_qsize 6, out_qsize 1\n",
      "2018-12-20 22:43:58,852 : INFO : EPOCH 2 - PROGRESS: at 74.80% examples, 728131 words/s, in_qsize 7, out_qsize 0\n",
      "2018-12-20 22:43:59,868 : INFO : EPOCH 2 - PROGRESS: at 79.86% examples, 721765 words/s, in_qsize 7, out_qsize 0\n",
      "2018-12-20 22:44:00,867 : INFO : EPOCH 2 - PROGRESS: at 85.63% examples, 722775 words/s, in_qsize 8, out_qsize 0\n",
      "2018-12-20 22:44:01,868 : INFO : EPOCH 2 - PROGRESS: at 91.55% examples, 724699 words/s, in_qsize 7, out_qsize 0\n",
      "2018-12-20 22:44:02,872 : INFO : EPOCH 2 - PROGRESS: at 97.07% examples, 723190 words/s, in_qsize 8, out_qsize 0\n",
      "2018-12-20 22:44:03,417 : INFO : worker thread finished; awaiting finish of 3 more threads\n",
      "2018-12-20 22:44:03,429 : INFO : worker thread finished; awaiting finish of 2 more threads\n",
      "2018-12-20 22:44:03,444 : INFO : worker thread finished; awaiting finish of 1 more threads\n",
      "2018-12-20 22:44:03,449 : INFO : worker thread finished; awaiting finish of 0 more threads\n",
      "2018-12-20 22:44:03,450 : INFO : EPOCH - 2 : training on 17798082 raw words (12749535 effective words) took 17.7s, 721273 effective words/s\n",
      "2018-12-20 22:44:04,460 : INFO : EPOCH 3 - PROGRESS: at 5.09% examples, 648600 words/s, in_qsize 8, out_qsize 0\n",
      "2018-12-20 22:44:05,453 : INFO : EPOCH 3 - PROGRESS: at 10.20% examples, 645648 words/s, in_qsize 7, out_qsize 0\n",
      "2018-12-20 22:44:06,470 : INFO : EPOCH 3 - PROGRESS: at 15.50% examples, 652638 words/s, in_qsize 8, out_qsize 0\n",
      "2018-12-20 22:44:07,484 : INFO : EPOCH 3 - PROGRESS: at 20.73% examples, 651240 words/s, in_qsize 8, out_qsize 0\n",
      "2018-12-20 22:44:08,489 : INFO : EPOCH 3 - PROGRESS: at 25.97% examples, 653486 words/s, in_qsize 8, out_qsize 0\n",
      "2018-12-20 22:44:09,496 : INFO : EPOCH 3 - PROGRESS: at 31.14% examples, 653079 words/s, in_qsize 8, out_qsize 0\n",
      "2018-12-20 22:44:10,509 : INFO : EPOCH 3 - PROGRESS: at 36.51% examples, 654965 words/s, in_qsize 7, out_qsize 0\n",
      "2018-12-20 22:44:11,510 : INFO : EPOCH 3 - PROGRESS: at 41.70% examples, 656184 words/s, in_qsize 7, out_qsize 0\n",
      "2018-12-20 22:44:12,521 : INFO : EPOCH 3 - PROGRESS: at 46.83% examples, 655904 words/s, in_qsize 7, out_qsize 0\n",
      "2018-12-20 22:44:13,524 : INFO : EPOCH 3 - PROGRESS: at 51.99% examples, 655783 words/s, in_qsize 7, out_qsize 0\n",
      "2018-12-20 22:44:14,525 : INFO : EPOCH 3 - PROGRESS: at 57.04% examples, 655286 words/s, in_qsize 7, out_qsize 0\n",
      "2018-12-20 22:44:15,525 : INFO : EPOCH 3 - PROGRESS: at 62.13% examples, 655163 words/s, in_qsize 7, out_qsize 0\n"
     ]
    },
    {
     "name": "stderr",
     "output_type": "stream",
     "text": [
      "2018-12-20 22:44:16,526 : INFO : EPOCH 3 - PROGRESS: at 67.29% examples, 655330 words/s, in_qsize 7, out_qsize 0\n",
      "2018-12-20 22:44:17,542 : INFO : EPOCH 3 - PROGRESS: at 72.44% examples, 654972 words/s, in_qsize 7, out_qsize 0\n",
      "2018-12-20 22:44:18,543 : INFO : EPOCH 3 - PROGRESS: at 77.66% examples, 655468 words/s, in_qsize 7, out_qsize 0\n",
      "2018-12-20 22:44:19,558 : INFO : EPOCH 3 - PROGRESS: at 82.94% examples, 656267 words/s, in_qsize 8, out_qsize 0\n",
      "2018-12-20 22:44:20,560 : INFO : EPOCH 3 - PROGRESS: at 88.13% examples, 656403 words/s, in_qsize 7, out_qsize 0\n",
      "2018-12-20 22:44:21,577 : INFO : EPOCH 3 - PROGRESS: at 93.46% examples, 657128 words/s, in_qsize 7, out_qsize 0\n",
      "2018-12-20 22:44:22,578 : INFO : EPOCH 3 - PROGRESS: at 98.17% examples, 653962 words/s, in_qsize 7, out_qsize 0\n",
      "2018-12-20 22:44:22,923 : INFO : worker thread finished; awaiting finish of 3 more threads\n",
      "2018-12-20 22:44:22,942 : INFO : worker thread finished; awaiting finish of 2 more threads\n",
      "2018-12-20 22:44:22,950 : INFO : worker thread finished; awaiting finish of 1 more threads\n",
      "2018-12-20 22:44:22,961 : INFO : worker thread finished; awaiting finish of 0 more threads\n",
      "2018-12-20 22:44:22,962 : INFO : EPOCH - 3 : training on 17798082 raw words (12747393 effective words) took 19.5s, 653590 effective words/s\n",
      "2018-12-20 22:44:23,983 : INFO : EPOCH 4 - PROGRESS: at 5.03% examples, 638293 words/s, in_qsize 8, out_qsize 0\n",
      "2018-12-20 22:44:24,979 : INFO : EPOCH 4 - PROGRESS: at 10.37% examples, 653533 words/s, in_qsize 7, out_qsize 0\n",
      "2018-12-20 22:44:25,996 : INFO : EPOCH 4 - PROGRESS: at 15.56% examples, 653625 words/s, in_qsize 7, out_qsize 0\n",
      "2018-12-20 22:44:26,999 : INFO : EPOCH 4 - PROGRESS: at 20.84% examples, 655129 words/s, in_qsize 7, out_qsize 0\n",
      "2018-12-20 22:44:27,999 : INFO : EPOCH 4 - PROGRESS: at 26.07% examples, 656113 words/s, in_qsize 7, out_qsize 0\n",
      "2018-12-20 22:44:29,014 : INFO : EPOCH 4 - PROGRESS: at 31.32% examples, 656842 words/s, in_qsize 7, out_qsize 0\n",
      "2018-12-20 22:44:30,045 : INFO : EPOCH 4 - PROGRESS: at 36.56% examples, 655131 words/s, in_qsize 7, out_qsize 0\n",
      "2018-12-20 22:44:31,050 : INFO : EPOCH 4 - PROGRESS: at 41.76% examples, 655375 words/s, in_qsize 7, out_qsize 0\n",
      "2018-12-20 22:44:32,051 : INFO : EPOCH 4 - PROGRESS: at 46.88% examples, 655492 words/s, in_qsize 7, out_qsize 0\n",
      "2018-12-20 22:44:33,065 : INFO : EPOCH 4 - PROGRESS: at 52.10% examples, 655950 words/s, in_qsize 6, out_qsize 0\n",
      "2018-12-20 22:44:34,082 : INFO : EPOCH 4 - PROGRESS: at 57.26% examples, 655872 words/s, in_qsize 8, out_qsize 0\n",
      "2018-12-20 22:44:35,069 : INFO : EPOCH 4 - PROGRESS: at 62.37% examples, 656018 words/s, in_qsize 7, out_qsize 0\n",
      "2018-12-20 22:44:36,084 : INFO : EPOCH 4 - PROGRESS: at 67.51% examples, 655656 words/s, in_qsize 7, out_qsize 0\n",
      "2018-12-20 22:44:37,085 : INFO : EPOCH 4 - PROGRESS: at 72.72% examples, 656324 words/s, in_qsize 7, out_qsize 0\n",
      "2018-12-20 22:44:38,086 : INFO : EPOCH 4 - PROGRESS: at 77.94% examples, 656778 words/s, in_qsize 8, out_qsize 1\n",
      "2018-12-20 22:44:39,086 : INFO : EPOCH 4 - PROGRESS: at 83.28% examples, 658112 words/s, in_qsize 7, out_qsize 0\n",
      "2018-12-20 22:44:40,117 : INFO : EPOCH 4 - PROGRESS: at 88.63% examples, 659037 words/s, in_qsize 8, out_qsize 0\n",
      "2018-12-20 22:44:41,119 : INFO : EPOCH 4 - PROGRESS: at 94.03% examples, 660417 words/s, in_qsize 7, out_qsize 0\n",
      "2018-12-20 22:44:42,136 : INFO : EPOCH 4 - PROGRESS: at 99.38% examples, 660962 words/s, in_qsize 7, out_qsize 0\n",
      "2018-12-20 22:44:42,232 : INFO : worker thread finished; awaiting finish of 3 more threads\n",
      "2018-12-20 22:44:42,239 : INFO : worker thread finished; awaiting finish of 2 more threads\n",
      "2018-12-20 22:44:42,250 : INFO : worker thread finished; awaiting finish of 1 more threads\n",
      "2018-12-20 22:44:42,262 : INFO : worker thread finished; awaiting finish of 0 more threads\n",
      "2018-12-20 22:44:42,263 : INFO : EPOCH - 4 : training on 17798082 raw words (12749598 effective words) took 19.3s, 661101 effective words/s\n",
      "2018-12-20 22:44:43,281 : INFO : EPOCH 5 - PROGRESS: at 5.30% examples, 677305 words/s, in_qsize 7, out_qsize 0\n",
      "2018-12-20 22:44:44,303 : INFO : EPOCH 5 - PROGRESS: at 10.64% examples, 666647 words/s, in_qsize 7, out_qsize 0\n",
      "2018-12-20 22:44:45,308 : INFO : EPOCH 5 - PROGRESS: at 16.06% examples, 671920 words/s, in_qsize 8, out_qsize 0\n",
      "2018-12-20 22:44:46,305 : INFO : EPOCH 5 - PROGRESS: at 21.52% examples, 674597 words/s, in_qsize 7, out_qsize 0\n",
      "2018-12-20 22:44:47,306 : INFO : EPOCH 5 - PROGRESS: at 26.86% examples, 675471 words/s, in_qsize 7, out_qsize 0\n",
      "2018-12-20 22:44:48,307 : INFO : EPOCH 5 - PROGRESS: at 32.18% examples, 674487 words/s, in_qsize 7, out_qsize 0\n",
      "2018-12-20 22:44:49,324 : INFO : EPOCH 5 - PROGRESS: at 37.45% examples, 673303 words/s, in_qsize 8, out_qsize 0\n",
      "2018-12-20 22:44:50,323 : INFO : EPOCH 5 - PROGRESS: at 42.74% examples, 673741 words/s, in_qsize 7, out_qsize 0\n",
      "2018-12-20 22:44:51,340 : INFO : EPOCH 5 - PROGRESS: at 48.00% examples, 673054 words/s, in_qsize 8, out_qsize 0\n",
      "2018-12-20 22:44:52,341 : INFO : EPOCH 5 - PROGRESS: at 53.43% examples, 674654 words/s, in_qsize 7, out_qsize 0\n",
      "2018-12-20 22:44:53,342 : INFO : EPOCH 5 - PROGRESS: at 58.57% examples, 673524 words/s, in_qsize 7, out_qsize 0\n",
      "2018-12-20 22:44:54,343 : INFO : EPOCH 5 - PROGRESS: at 63.83% examples, 673006 words/s, in_qsize 7, out_qsize 0\n",
      "2018-12-20 22:44:55,344 : INFO : EPOCH 5 - PROGRESS: at 69.03% examples, 672418 words/s, in_qsize 7, out_qsize 0\n",
      "2018-12-20 22:44:56,359 : INFO : EPOCH 5 - PROGRESS: at 74.23% examples, 671729 words/s, in_qsize 8, out_qsize 0\n",
      "2018-12-20 22:44:57,361 : INFO : EPOCH 5 - PROGRESS: at 79.52% examples, 671253 words/s, in_qsize 7, out_qsize 0\n",
      "2018-12-20 22:44:58,378 : INFO : EPOCH 5 - PROGRESS: at 84.83% examples, 671632 words/s, in_qsize 8, out_qsize 0\n",
      "2018-12-20 22:44:59,379 : INFO : EPOCH 5 - PROGRESS: at 90.07% examples, 671408 words/s, in_qsize 8, out_qsize 0\n",
      "2018-12-20 22:45:00,379 : INFO : EPOCH 5 - PROGRESS: at 95.41% examples, 671380 words/s, in_qsize 7, out_qsize 0\n",
      "2018-12-20 22:45:01,223 : INFO : worker thread finished; awaiting finish of 3 more threads\n",
      "2018-12-20 22:45:01,235 : INFO : worker thread finished; awaiting finish of 2 more threads\n",
      "2018-12-20 22:45:01,248 : INFO : worker thread finished; awaiting finish of 1 more threads\n",
      "2018-12-20 22:45:01,255 : INFO : worker thread finished; awaiting finish of 0 more threads\n",
      "2018-12-20 22:45:01,256 : INFO : EPOCH - 5 : training on 17798082 raw words (12750189 effective words) took 19.0s, 671847 effective words/s\n",
      "2018-12-20 22:45:01,257 : INFO : training on a 88990410 raw words (63745534 effective words) took 94.0s, 678188 effective words/s\n"
     ]
    }
   ],
   "source": [
    "model = word2vec.Word2Vec(sentences, workers=num_workers, \\\n",
    "            size=num_features, min_count = min_word_count, \\\n",
    "            window = context, sample = downsampling)\n"
   ]
  },
  {
   "cell_type": "code",
   "execution_count": 29,
   "metadata": {},
   "outputs": [
    {
     "name": "stderr",
     "output_type": "stream",
     "text": [
      "2018-12-20 22:46:15,004 : INFO : precomputing L2-norms of word weight vectors\n"
     ]
    }
   ],
   "source": [
    "# If you don't plan to train the model any further, calling \n",
    "# init_sims will make the model much more memory-efficient.\n",
    "model.init_sims(replace=True)\n"
   ]
  },
  {
   "cell_type": "code",
   "execution_count": 30,
   "metadata": {},
   "outputs": [
    {
     "name": "stderr",
     "output_type": "stream",
     "text": [
      "2018-12-20 22:46:46,088 : INFO : saving Word2Vec object under 300features_40minwords_10context, separately None\n",
      "2018-12-20 22:46:46,090 : INFO : not storing attribute vectors_norm\n",
      "2018-12-20 22:46:46,116 : INFO : not storing attribute cum_table\n",
      "2018-12-20 22:46:47,484 : INFO : saved 300features_40minwords_10context\n"
     ]
    }
   ],
   "source": [
    "# It can be helpful to create a meaningful model name and \n",
    "# save the model for later use. You can load it later using Word2Vec.load()\n",
    "model_name = \"300features_40minwords_10context\"\n",
    "model.save(model_name)"
   ]
  },
  {
   "cell_type": "code",
   "execution_count": 31,
   "metadata": {},
   "outputs": [
    {
     "name": "stderr",
     "output_type": "stream",
     "text": [
      "C:\\Users\\sai ram\\Anaconda3\\lib\\site-packages\\ipykernel_launcher.py:1: DeprecationWarning: Call to deprecated `doesnt_match` (Method will be removed in 4.0.0, use self.wv.doesnt_match() instead).\n",
      "  \"\"\"Entry point for launching an IPython kernel.\n",
      "C:\\Users\\sai ram\\Anaconda3\\lib\\site-packages\\gensim\\matutils.py:737: FutureWarning: Conversion of the second argument of issubdtype from `int` to `np.signedinteger` is deprecated. In future, it will be treated as `np.int32 == np.dtype(int).type`.\n",
      "  if np.issubdtype(vec.dtype, np.int):\n"
     ]
    },
    {
     "data": {
      "text/plain": [
       "'kitchen'"
      ]
     },
     "execution_count": 31,
     "metadata": {},
     "output_type": "execute_result"
    }
   ],
   "source": [
    " model.doesnt_match(\"man woman child kitchen\".split())"
   ]
  },
  {
   "cell_type": "code",
   "execution_count": 32,
   "metadata": {},
   "outputs": [
    {
     "name": "stderr",
     "output_type": "stream",
     "text": [
      "C:\\Users\\sai ram\\Anaconda3\\lib\\site-packages\\ipykernel_launcher.py:1: DeprecationWarning: Call to deprecated `most_similar` (Method will be removed in 4.0.0, use self.wv.most_similar() instead).\n",
      "  \"\"\"Entry point for launching an IPython kernel.\n",
      "C:\\Users\\sai ram\\Anaconda3\\lib\\site-packages\\gensim\\matutils.py:737: FutureWarning: Conversion of the second argument of issubdtype from `int` to `np.signedinteger` is deprecated. In future, it will be treated as `np.int32 == np.dtype(int).type`.\n",
      "  if np.issubdtype(vec.dtype, np.int):\n"
     ]
    },
    {
     "data": {
      "text/plain": [
       "[('woman', 0.6334397792816162),\n",
       " ('lady', 0.5824787020683289),\n",
       " ('lad', 0.579102098941803),\n",
       " ('monk', 0.5246774554252625),\n",
       " ('men', 0.5227718949317932),\n",
       " ('person', 0.5140311121940613),\n",
       " ('guy', 0.5097619295120239),\n",
       " ('chap', 0.5096339583396912),\n",
       " ('millionaire', 0.5076737403869629),\n",
       " ('farmer', 0.5016855001449585)]"
      ]
     },
     "execution_count": 32,
     "metadata": {},
     "output_type": "execute_result"
    }
   ],
   "source": [
    "model.most_similar(\"man\")"
   ]
  },
  {
   "cell_type": "code",
   "execution_count": 33,
   "metadata": {},
   "outputs": [
    {
     "name": "stderr",
     "output_type": "stream",
     "text": [
      "C:\\Users\\sai ram\\Anaconda3\\lib\\site-packages\\ipykernel_launcher.py:1: DeprecationWarning: Call to deprecated `most_similar` (Method will be removed in 4.0.0, use self.wv.most_similar() instead).\n",
      "  \"\"\"Entry point for launching an IPython kernel.\n",
      "C:\\Users\\sai ram\\Anaconda3\\lib\\site-packages\\gensim\\matutils.py:737: FutureWarning: Conversion of the second argument of issubdtype from `int` to `np.signedinteger` is deprecated. In future, it will be treated as `np.int32 == np.dtype(int).type`.\n",
      "  if np.issubdtype(vec.dtype, np.int):\n"
     ]
    },
    {
     "data": {
      "text/plain": [
       "[('chicken', 0.6779242157936096),\n",
       " ('turtle', 0.6682215332984924),\n",
       " ('robot', 0.657378077507019),\n",
       " ('rabbit', 0.6402344703674316),\n",
       " ('dinosaur', 0.6398425102233887),\n",
       " ('rat', 0.6384816765785217),\n",
       " ('giant', 0.6384641528129578),\n",
       " ('gorilla', 0.6205796599388123),\n",
       " ('soup', 0.604804277420044),\n",
       " ('bowl', 0.6009451150894165)]"
      ]
     },
     "execution_count": 33,
     "metadata": {},
     "output_type": "execute_result"
    }
   ],
   "source": [
    "model.most_similar(\"monkey\")"
   ]
  },
  {
   "cell_type": "code",
   "execution_count": 34,
   "metadata": {},
   "outputs": [
    {
     "name": "stderr",
     "output_type": "stream",
     "text": [
      "C:\\Users\\sai ram\\Anaconda3\\lib\\site-packages\\ipykernel_launcher.py:1: DeprecationWarning: Call to deprecated `most_similar` (Method will be removed in 4.0.0, use self.wv.most_similar() instead).\n",
      "  \"\"\"Entry point for launching an IPython kernel.\n",
      "C:\\Users\\sai ram\\Anaconda3\\lib\\site-packages\\gensim\\matutils.py:737: FutureWarning: Conversion of the second argument of issubdtype from `int` to `np.signedinteger` is deprecated. In future, it will be treated as `np.int32 == np.dtype(int).type`.\n",
      "  if np.issubdtype(vec.dtype, np.int):\n"
     ]
    },
    {
     "data": {
      "text/plain": [
       "[('terrible', 0.782239556312561),\n",
       " ('horrible', 0.7387335896492004),\n",
       " ('dreadful', 0.7276715636253357),\n",
       " ('horrid', 0.7180150747299194),\n",
       " ('atrocious', 0.7161433696746826),\n",
       " ('abysmal', 0.6995251178741455),\n",
       " ('horrendous', 0.692312479019165),\n",
       " ('appalling', 0.657764196395874),\n",
       " ('lousy', 0.6431196928024292),\n",
       " ('amateurish', 0.617017924785614)]"
      ]
     },
     "execution_count": 34,
     "metadata": {},
     "output_type": "execute_result"
    }
   ],
   "source": [
    "model.most_similar(\"awful\")"
   ]
  },
  {
   "cell_type": "code",
   "execution_count": 36,
   "metadata": {},
   "outputs": [
    {
     "name": "stderr",
     "output_type": "stream",
     "text": [
      "2018-12-20 23:03:18,180 : INFO : loading Word2Vec object from 300features_40minwords_10context\n",
      "2018-12-20 23:03:19,126 : INFO : loading wv recursively from 300features_40minwords_10context.wv.* with mmap=None\n",
      "2018-12-20 23:03:19,127 : INFO : setting ignored attribute vectors_norm to None\n",
      "2018-12-20 23:03:19,128 : INFO : loading vocabulary recursively from 300features_40minwords_10context.vocabulary.* with mmap=None\n",
      "2018-12-20 23:03:19,131 : INFO : loading trainables recursively from 300features_40minwords_10context.trainables.* with mmap=None\n",
      "2018-12-20 23:03:19,134 : INFO : setting ignored attribute cum_table to None\n",
      "2018-12-20 23:03:19,136 : INFO : loaded 300features_40minwords_10context\n"
     ]
    }
   ],
   "source": [
    "from gensim.models import Word2Vec\n",
    "model = Word2Vec.load(\"300features_40minwords_10context\")"
   ]
  },
  {
   "cell_type": "code",
   "execution_count": 39,
   "metadata": {},
   "outputs": [
    {
     "name": "stderr",
     "output_type": "stream",
     "text": [
      "C:\\Users\\sai ram\\Anaconda3\\lib\\site-packages\\ipykernel_launcher.py:1: DeprecationWarning: Call to deprecated `__getitem__` (Method will be removed in 4.0.0, use self.wv.__getitem__() instead).\n",
      "  \"\"\"Entry point for launching an IPython kernel.\n"
     ]
    },
    {
     "data": {
      "text/plain": [
       "array([ 0.09055354,  0.1463171 , -0.06008542, -0.02154416, -0.00859701,\n",
       "       -0.00713478, -0.0015337 ,  0.02209278,  0.0482654 , -0.02417834,\n",
       "        0.01453944,  0.09131053, -0.01200016,  0.05707933,  0.0088407 ,\n",
       "        0.05334655,  0.13365936, -0.00328466, -0.02480497, -0.10646852,\n",
       "        0.03922846,  0.00381758,  0.0260873 ,  0.22292404, -0.03467258,\n",
       "        0.07119861, -0.08352372, -0.07849441,  0.03079041,  0.01104717,\n",
       "       -0.01417322, -0.04866726,  0.0359098 ,  0.06147364, -0.02884374,\n",
       "        0.01493174,  0.04310409,  0.07644881, -0.00189303, -0.07377511,\n",
       "        0.00888221,  0.05229086, -0.03775471, -0.04197915, -0.06843879,\n",
       "        0.06017553,  0.04128376,  0.01455795, -0.04861053, -0.00917148,\n",
       "       -0.02096473,  0.05581229, -0.06876916,  0.03942876, -0.14354055,\n",
       "        0.06027647,  0.03236742, -0.00854953,  0.08471157,  0.10710889,\n",
       "       -0.07508965, -0.07156443, -0.01123626,  0.05661638,  0.03756279,\n",
       "        0.05227413, -0.04571367,  0.015947  ,  0.02598168,  0.00038785,\n",
       "        0.02332589,  0.07823769,  0.03791343,  0.06358035,  0.05762271,\n",
       "       -0.01717205, -0.03148947,  0.02086614,  0.06022233, -0.04371269,\n",
       "        0.08066766,  0.07071758, -0.01096962, -0.03500794,  0.00269703,\n",
       "        0.02168229,  0.02147714,  0.00325996,  0.01969095,  0.03067327,\n",
       "       -0.06743909, -0.02187922,  0.01526187,  0.03143992,  0.02400476,\n",
       "        0.01207902,  0.01315973,  0.00058476,  0.00104874, -0.01314128,\n",
       "        0.0953903 , -0.00346332, -0.03017515,  0.02573843,  0.06904093,\n",
       "        0.10006891,  0.02177711, -0.0842037 ,  0.01913403, -0.02335878,\n",
       "       -0.09041335, -0.11872233, -0.03707264,  0.04620326,  0.01983474,\n",
       "        0.04002235,  0.03300463,  0.06132395, -0.07972611, -0.02655262,\n",
       "       -0.05959031,  0.14547004,  0.00758623, -0.02486256,  0.03077251,\n",
       "        0.10249706, -0.00648629,  0.03741883, -0.01072186,  0.0024991 ,\n",
       "        0.00052836,  0.08522873, -0.04317326,  0.03407518,  0.02378922,\n",
       "       -0.01465017,  0.020369  ,  0.11562092,  0.05972857,  0.01887643,\n",
       "        0.00997677,  0.05647505, -0.01941435, -0.05651779,  0.09018685,\n",
       "       -0.07974453, -0.00992156,  0.01452166,  0.03255521, -0.00961664,\n",
       "       -0.06559641,  0.00921143,  0.00238776, -0.0020995 ,  0.01102441,\n",
       "       -0.04016921, -0.00430543, -0.00176004, -0.05743995, -0.03709339,\n",
       "        0.03893849,  0.00347522, -0.00955511,  0.01414987, -0.00106027,\n",
       "       -0.04279249,  0.02052617,  0.01577316, -0.00580952, -0.15134028,\n",
       "       -0.04196946, -0.16427782, -0.01566798, -0.02033698,  0.02761438,\n",
       "       -0.06840394,  0.01041158,  0.03861941,  0.08524704, -0.02814305,\n",
       "        0.04517053, -0.02268109,  0.02832506,  0.09016961, -0.08381891,\n",
       "       -0.11760628, -0.08943006, -0.04121106, -0.00655501,  0.02760864,\n",
       "        0.01737193, -0.02637513, -0.06332153,  0.10582738,  0.03300691,\n",
       "       -0.04456387,  0.073189  ,  0.01064371, -0.04286112, -0.03813696,\n",
       "        0.02332885, -0.03012716, -0.05911431,  0.08756888,  0.09826896,\n",
       "       -0.00871666, -0.00139825, -0.06640507, -0.03982371,  0.06707926,\n",
       "       -0.0282385 ,  0.01458743,  0.11925152,  0.06896028,  0.11413696,\n",
       "       -0.14635351,  0.02156396, -0.09497441, -0.0639236 ,  0.01014612,\n",
       "        0.03213711,  0.0386169 , -0.02153118,  0.03822416, -0.00170386,\n",
       "        0.11977827, -0.00849886,  0.07753541,  0.04133181,  0.10111713,\n",
       "       -0.07784019, -0.01296786,  0.02199768,  0.07840245, -0.00779899,\n",
       "       -0.02991454, -0.03359417,  0.00435883,  0.01717219,  0.07659842,\n",
       "        0.00943335, -0.11801168,  0.03402065, -0.01706265, -0.10894572,\n",
       "        0.03155907,  0.07690185, -0.06964019, -0.03112981,  0.02781784,\n",
       "        0.01951965,  0.08318412,  0.11911906, -0.00591573,  0.06871196,\n",
       "       -0.05537294,  0.02642088, -0.04370634, -0.17082283, -0.07040472,\n",
       "        0.03021253,  0.01922871,  0.09805655, -0.05144382, -0.04311623,\n",
       "       -0.03257596, -0.00408134, -0.025089  ,  0.02834312, -0.05202539,\n",
       "        0.06603045,  0.06497654, -0.08356552, -0.04516532, -0.03095274,\n",
       "        0.01546718, -0.02689129,  0.03975075, -0.01505457, -0.02581502,\n",
       "        0.10848518, -0.07011574,  0.07940607, -0.02214537,  0.04637104,\n",
       "        0.0421109 , -0.02342478, -0.03735741,  0.04946322, -0.09551275,\n",
       "        0.03091496,  0.008094  ,  0.00533806,  0.08895119, -0.0262543 ,\n",
       "        0.01497429,  0.04069904,  0.06535109,  0.04911052,  0.01573445],\n",
       "      dtype=float32)"
      ]
     },
     "execution_count": 39,
     "metadata": {},
     "output_type": "execute_result"
    }
   ],
   "source": [
    "model[\"flower\"]"
   ]
  },
  {
   "cell_type": "code",
   "execution_count": 40,
   "metadata": {},
   "outputs": [],
   "source": [
    "import numpy as np"
   ]
  },
  {
   "cell_type": "code",
   "execution_count": 41,
   "metadata": {},
   "outputs": [],
   "source": [
    "def makeFeatureVec(words, model, num_features):\n",
    "    # Function to average all of the word vectors in a given\n",
    "    # paragraph\n",
    "    #\n",
    "    # Pre-initialize an empty numpy array (for speed)\n",
    "    featureVec = np.zeros((num_features,),dtype=\"float32\")\n",
    "    #\n",
    "    nwords = 0.\n",
    "    # \n",
    "    # Index2word is a list that contains the names of the words in \n",
    "    # the model's vocabulary. Convert it to a set, for speed \n",
    "    index2word_set = set(model.index2word)\n",
    "    #\n",
    "    # Loop over each word in the review and, if it is in the model's\n",
    "    # vocaublary, add its feature vector to the total\n",
    "    for word in words:\n",
    "        if word in index2word_set: \n",
    "            nwords = nwords + 1.\n",
    "            featureVec = np.add(featureVec,model[word])\n",
    "    # \n",
    "    # Divide the result by the number of words to get the average\n",
    "    featureVec = np.divide(featureVec,nwords)\n",
    "    return featureVec"
   ]
  },
  {
   "cell_type": "code",
   "execution_count": null,
   "metadata": {},
   "outputs": [],
   "source": []
  }
 ],
 "metadata": {
  "kernelspec": {
   "display_name": "Python 3",
   "language": "python",
   "name": "python3"
  },
  "language_info": {
   "codemirror_mode": {
    "name": "ipython",
    "version": 3
   },
   "file_extension": ".py",
   "mimetype": "text/x-python",
   "name": "python",
   "nbconvert_exporter": "python",
   "pygments_lexer": "ipython3",
   "version": "3.6.4"
  }
 },
 "nbformat": 4,
 "nbformat_minor": 2
}
