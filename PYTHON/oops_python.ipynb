{
  "nbformat": 4,
  "nbformat_minor": 0,
  "metadata": {
    "colab": {
      "name": "oops_python.ipynb",
      "version": "0.3.2",
      "provenance": [],
      "collapsed_sections": []
    },
    "kernelspec": {
      "name": "python3",
      "display_name": "Python 3"
    }
  },
  "cells": [
    {
      "cell_type": "code",
      "metadata": {
        "id": "rPXBBNPv_QaG",
        "colab_type": "code",
        "colab": {}
      },
      "source": [
        "import cv2\n",
        "import pandas as pd\n",
        "import numpy as np"
      ],
      "execution_count": 0,
      "outputs": []
    },
    {
      "cell_type": "code",
      "metadata": {
        "id": "VpX83sbp_eZa",
        "colab_type": "code",
        "colab": {}
      },
      "source": [
        "l  =[1,2,3]"
      ],
      "execution_count": 0,
      "outputs": []
    },
    {
      "cell_type": "code",
      "metadata": {
        "id": "ZVfDHNkhiPt_",
        "colab_type": "code",
        "colab": {}
      },
      "source": [
        "%config IPCompleter.greedy=True"
      ],
      "execution_count": 0,
      "outputs": []
    },
    {
      "cell_type": "code",
      "metadata": {
        "id": "5aQZZzmsfKNg",
        "colab_type": "code",
        "outputId": "87121649-6a00-4242-dd6a-f1ce68345d85",
        "colab": {
          "base_uri": "https://localhost:8080/",
          "height": 68
        }
      },
      "source": [
        "print(type(l))\n",
        "print(type([l]))\n",
        "print(type((l)))\n"
      ],
      "execution_count": 0,
      "outputs": [
        {
          "output_type": "stream",
          "text": [
            "<class 'list'>\n",
            "<class 'list'>\n",
            "<class 'list'>\n"
          ],
          "name": "stdout"
        }
      ]
    },
    {
      "cell_type": "code",
      "metadata": {
        "id": "CSqB1BqJfpDB",
        "colab_type": "code",
        "outputId": "7d249194-9955-44b9-db6e-57cacbfb334e",
        "colab": {
          "base_uri": "https://localhost:8080/",
          "height": 85
        }
      },
      "source": [
        "print(type(l))\n",
        "print(type([]))\n",
        "print(type(()))\n",
        "print(type({}))"
      ],
      "execution_count": 0,
      "outputs": [
        {
          "output_type": "stream",
          "text": [
            "<class 'list'>\n",
            "<class 'list'>\n",
            "<class 'tuple'>\n",
            "<class 'dict'>\n"
          ],
          "name": "stdout"
        }
      ]
    },
    {
      "cell_type": "code",
      "metadata": {
        "id": "F6eYSWgzhVTl",
        "colab_type": "code",
        "colab": {}
      },
      "source": [
        ""
      ],
      "execution_count": 0,
      "outputs": []
    },
    {
      "cell_type": "code",
      "metadata": {
        "id": "9tjtTFESf_v6",
        "colab_type": "code",
        "colab": {}
      },
      "source": [
        "class Dog():\n",
        "  def __init__(self,breed,color):\n",
        "    self.breed = breed\n",
        "    self.color = color\n",
        "  "
      ],
      "execution_count": 0,
      "outputs": []
    },
    {
      "cell_type": "code",
      "metadata": {
        "id": "N8LVXUWvg3W9",
        "colab_type": "code",
        "colab": {}
      },
      "source": [
        "Tom = Dog(breed= 'Lab',color = 'black')"
      ],
      "execution_count": 0,
      "outputs": []
    },
    {
      "cell_type": "code",
      "metadata": {
        "id": "LwB3jy6jhB11",
        "colab_type": "code",
        "outputId": "ff005a7d-f93d-46e7-c318-39c6dc63ae37",
        "colab": {
          "base_uri": "https://localhost:8080/",
          "height": 34
        }
      },
      "source": [
        "Tom.breed"
      ],
      "execution_count": 0,
      "outputs": [
        {
          "output_type": "execute_result",
          "data": {
            "text/plain": [
              "'Lab'"
            ]
          },
          "metadata": {
            "tags": []
          },
          "execution_count": 22
        }
      ]
    },
    {
      "cell_type": "code",
      "metadata": {
        "id": "FmiVsm5miLPw",
        "colab_type": "code",
        "outputId": "3d10a1ec-0d30-4ebc-c2ff-6689dfe1188b",
        "colab": {
          "base_uri": "https://localhost:8080/",
          "height": 34
        }
      },
      "source": [
        "Tom.color"
      ],
      "execution_count": 0,
      "outputs": [
        {
          "output_type": "execute_result",
          "data": {
            "text/plain": [
              "'black'"
            ]
          },
          "metadata": {
            "tags": []
          },
          "execution_count": 25
        }
      ]
    },
    {
      "cell_type": "code",
      "metadata": {
        "id": "-GuUflMmirLR",
        "colab_type": "code",
        "colab": {}
      },
      "source": [
        "class Dog(object):\n",
        "    \n",
        "    species='mammals'\n",
        "    \n",
        "    def __init__(self,breed, color):\n",
        "        self.breed=breed\n",
        "        self.color=color\n",
        "\n",
        "Tommy = Dog(breed='Lab', color='cream')"
      ],
      "execution_count": 0,
      "outputs": []
    },
    {
      "cell_type": "code",
      "metadata": {
        "id": "J4iZDidFi4A5",
        "colab_type": "code",
        "outputId": "ab8790e9-1d24-4387-f278-c266e413f025",
        "colab": {
          "base_uri": "https://localhost:8080/",
          "height": 34
        }
      },
      "source": [
        "Tommy.species"
      ],
      "execution_count": 0,
      "outputs": [
        {
          "output_type": "execute_result",
          "data": {
            "text/plain": [
              "'mammals'"
            ]
          },
          "metadata": {
            "tags": []
          },
          "execution_count": 27
        }
      ]
    },
    {
      "cell_type": "code",
      "metadata": {
        "id": "rnS6SrPQi7XK",
        "colab_type": "code",
        "colab": {}
      },
      "source": [
        "class Circle(object):\n",
        "  \n",
        "  pi = 3.14\n",
        "  \n",
        "  def __init__(self,radius=1):\n",
        "    self.radius = radius\n",
        "    \n",
        "  def area(self):\n",
        "    return Circle.pi * self.radius * self.radius\n",
        "    \n",
        "  def circum(self,radius):\n",
        "    return 2 * Circle.pi * self.radius\n",
        "  \n",
        "  def setRadius(self,radius):\n",
        "        self.radius=radius\n",
        "    \n",
        "  def getRadius(self,radius):\n",
        "        return self.radius\n",
        "    "
      ],
      "execution_count": 0,
      "outputs": []
    },
    {
      "cell_type": "code",
      "metadata": {
        "id": "sAxAcc_0lKxx",
        "colab_type": "code",
        "colab": {}
      },
      "source": [
        "m =Circle(3)"
      ],
      "execution_count": 0,
      "outputs": []
    },
    {
      "cell_type": "code",
      "metadata": {
        "id": "cWuIGgN7lqDK",
        "colab_type": "code",
        "outputId": "86ca3563-fcb3-43cf-9920-5271244da73b",
        "colab": {
          "base_uri": "https://localhost:8080/",
          "height": 34
        }
      },
      "source": [
        "m.area()"
      ],
      "execution_count": 0,
      "outputs": [
        {
          "output_type": "execute_result",
          "data": {
            "text/plain": [
              "28.259999999999998"
            ]
          },
          "metadata": {
            "tags": []
          },
          "execution_count": 69
        }
      ]
    },
    {
      "cell_type": "code",
      "metadata": {
        "id": "2FxeSUpdl3eU",
        "colab_type": "code",
        "outputId": "5c89eb83-7214-4c9a-f448-81781406db0b",
        "colab": {
          "base_uri": "https://localhost:8080/",
          "height": 34
        }
      },
      "source": [
        "m.circum(8)"
      ],
      "execution_count": 0,
      "outputs": [
        {
          "output_type": "execute_result",
          "data": {
            "text/plain": [
              "18.84"
            ]
          },
          "metadata": {
            "tags": []
          },
          "execution_count": 70
        }
      ]
    },
    {
      "cell_type": "code",
      "metadata": {
        "id": "hcsU3EFbnhyn",
        "colab_type": "code",
        "colab": {}
      },
      "source": [
        "m.setRadius(4)"
      ],
      "execution_count": 0,
      "outputs": []
    },
    {
      "cell_type": "code",
      "metadata": {
        "id": "gjcINa8Lnpo_",
        "colab_type": "code",
        "outputId": "44042cbc-eabe-4a43-e45b-c670c7b83d3b",
        "colab": {
          "base_uri": "https://localhost:8080/",
          "height": 34
        }
      },
      "source": [
        "m.area()"
      ],
      "execution_count": 0,
      "outputs": [
        {
          "output_type": "execute_result",
          "data": {
            "text/plain": [
              "50.24"
            ]
          },
          "metadata": {
            "tags": []
          },
          "execution_count": 73
        }
      ]
    },
    {
      "cell_type": "code",
      "metadata": {
        "id": "hOddent_ntUA",
        "colab_type": "code",
        "colab": {}
      },
      "source": [
        "m.setRadius(6)"
      ],
      "execution_count": 0,
      "outputs": []
    },
    {
      "cell_type": "code",
      "metadata": {
        "id": "kq8nyQf2nxtZ",
        "colab_type": "code",
        "outputId": "61dd2bca-5278-4aa0-e5ce-1f8df12a64ca",
        "colab": {
          "base_uri": "https://localhost:8080/",
          "height": 34
        }
      },
      "source": [
        "try:\n",
        "  m.area(6)\n",
        "except:\n",
        "  print(\"area() takes 1 positional argument\")"
      ],
      "execution_count": 0,
      "outputs": [
        {
          "output_type": "stream",
          "text": [
            "area() takes 1 positional argument\n"
          ],
          "name": "stdout"
        }
      ]
    },
    {
      "cell_type": "code",
      "metadata": {
        "id": "q_s6WezUo50U",
        "colab_type": "code",
        "colab": {}
      },
      "source": [
        "class Animal():\n",
        "  def __init__(self):\n",
        "    print('Animal Created')\n",
        "    \n",
        "  def barking(self):\n",
        "    print('Dog is barking')\n",
        "    \n",
        "  def Eating(self):\n",
        "    print('I am eating')\n",
        "    \n",
        "  def shout(self):\n",
        "    print('Shouting is not good !')\n",
        "    "
      ],
      "execution_count": 0,
      "outputs": []
    },
    {
      "cell_type": "code",
      "metadata": {
        "id": "iinlWwWzqfNQ",
        "colab_type": "code",
        "outputId": "6b8b824e-bb7e-4a74-a335-34bf3b7728d0",
        "colab": {
          "base_uri": "https://localhost:8080/",
          "height": 34
        }
      },
      "source": [
        "ronald = Animal()"
      ],
      "execution_count": 0,
      "outputs": [
        {
          "output_type": "stream",
          "text": [
            "Animal Created\n"
          ],
          "name": "stdout"
        }
      ]
    },
    {
      "cell_type": "code",
      "metadata": {
        "id": "sjPP-k13qkLg",
        "colab_type": "code",
        "outputId": "1436ca4d-5ab8-43cf-8145-d1e4c11caa8a",
        "colab": {
          "base_uri": "https://localhost:8080/",
          "height": 34
        }
      },
      "source": [
        "ronald.barking"
      ],
      "execution_count": 0,
      "outputs": [
        {
          "output_type": "execute_result",
          "data": {
            "text/plain": [
              "<bound method Animal.barking of <__main__.Animal object at 0x7ffb93fee400>>"
            ]
          },
          "metadata": {
            "tags": []
          },
          "execution_count": 83
        }
      ]
    },
    {
      "cell_type": "code",
      "metadata": {
        "id": "hY9y7gJSqpFt",
        "colab_type": "code",
        "outputId": "486a6a14-e0c3-4b24-92d1-1599c7e0bb93",
        "colab": {
          "base_uri": "https://localhost:8080/",
          "height": 34
        }
      },
      "source": [
        "ronald.barking()"
      ],
      "execution_count": 0,
      "outputs": [
        {
          "output_type": "stream",
          "text": [
            "Dog is barking\n"
          ],
          "name": "stdout"
        }
      ]
    },
    {
      "cell_type": "code",
      "metadata": {
        "id": "z8DqFE_dquok",
        "colab_type": "code",
        "colab": {}
      },
      "source": [
        "class dog(Animal):\n",
        "  def __init__(self):\n",
        "    Animal.__init__(self)\n",
        "    print('Dog created')\n",
        "    \n",
        "  def whoAmI(self):\n",
        "        print('Dog')\n",
        "    \n",
        "  def Bark(self):\n",
        "        print('Bow')\n",
        "  "
      ],
      "execution_count": 0,
      "outputs": []
    },
    {
      "cell_type": "code",
      "metadata": {
        "id": "AxMMU1PBvTfV",
        "colab_type": "code",
        "outputId": "bcb3e2a1-ff86-46f6-ff8d-f8221c197067",
        "colab": {
          "base_uri": "https://localhost:8080/",
          "height": 51
        }
      },
      "source": [
        "snoopy = dog()"
      ],
      "execution_count": 0,
      "outputs": [
        {
          "output_type": "stream",
          "text": [
            "Animal Created\n",
            "Dog created\n"
          ],
          "name": "stdout"
        }
      ]
    },
    {
      "cell_type": "code",
      "metadata": {
        "id": "Y96W0TKwvYk4",
        "colab_type": "code",
        "outputId": "121cd512-9282-44eb-8d47-581075211566",
        "colab": {
          "base_uri": "https://localhost:8080/",
          "height": 34
        }
      },
      "source": [
        "snoopy.barking()"
      ],
      "execution_count": 0,
      "outputs": [
        {
          "output_type": "stream",
          "text": [
            "Dog is barking\n"
          ],
          "name": "stdout"
        }
      ]
    },
    {
      "cell_type": "code",
      "metadata": {
        "id": "uoedl5K0vi0N",
        "colab_type": "code",
        "outputId": "20987539-5cf5-4e61-d4db-429a5740e3c5",
        "colab": {
          "base_uri": "https://localhost:8080/",
          "height": 34
        }
      },
      "source": [
        "snoopy.whoAmI()"
      ],
      "execution_count": 0,
      "outputs": [
        {
          "output_type": "stream",
          "text": [
            "Dog\n"
          ],
          "name": "stdout"
        }
      ]
    },
    {
      "cell_type": "code",
      "metadata": {
        "id": "VOzK1BlSvzfn",
        "colab_type": "code",
        "colab": {}
      },
      "source": [
        "class Book():\n",
        "  def __init__(self,title,author,pages):\n",
        "    self.title = title\n",
        "    self.author = author\n",
        "    self.pages = pages\n",
        "    \n",
        "  def __str__(self):\n",
        "      return \"Title of author is {} who wrote {} consists of {} pages\".format(self.author,self.title,self.pages)\n",
        "    \n",
        "  def __len__(self):\n",
        "      return self.pages\n",
        "    \n",
        "  def __del__(self):\n",
        "      print(\"Book is destroyed\")\n",
        "    \n",
        "    "
      ],
      "execution_count": 0,
      "outputs": []
    },
    {
      "cell_type": "code",
      "metadata": {
        "id": "uGEctd6Kx4Th",
        "colab_type": "code",
        "outputId": "9939d87c-6a74-4f62-ca1b-2eb3d69d85ce",
        "colab": {
          "base_uri": "https://localhost:8080/",
          "height": 34
        }
      },
      "source": [
        "b= Book('GOT','MARTIN','354')"
      ],
      "execution_count": 0,
      "outputs": [
        {
          "output_type": "stream",
          "text": [
            "Book is destroyed\n"
          ],
          "name": "stdout"
        }
      ]
    },
    {
      "cell_type": "code",
      "metadata": {
        "id": "phQA53Tf2ycS",
        "colab_type": "code",
        "outputId": "1feb63a0-7439-4e1f-8087-ac708d9c4f57",
        "colab": {
          "base_uri": "https://localhost:8080/",
          "height": 34
        }
      },
      "source": [
        "b.author"
      ],
      "execution_count": 0,
      "outputs": [
        {
          "output_type": "execute_result",
          "data": {
            "text/plain": [
              "'MARTIN'"
            ]
          },
          "metadata": {
            "tags": []
          },
          "execution_count": 94
        }
      ]
    },
    {
      "cell_type": "code",
      "metadata": {
        "id": "xymI43p622yp",
        "colab_type": "code",
        "outputId": "e93e7f53-77f3-40a7-f09b-5de161b5ec11",
        "colab": {
          "base_uri": "https://localhost:8080/",
          "height": 34
        }
      },
      "source": [
        "b.pages"
      ],
      "execution_count": 0,
      "outputs": [
        {
          "output_type": "execute_result",
          "data": {
            "text/plain": [
              "'354'"
            ]
          },
          "metadata": {
            "tags": []
          },
          "execution_count": 96
        }
      ]
    },
    {
      "cell_type": "code",
      "metadata": {
        "id": "xqnmihtf3gEB",
        "colab_type": "code",
        "outputId": "da4e2075-7d1a-4983-e963-3df000753a39",
        "colab": {
          "base_uri": "https://localhost:8080/",
          "height": 34
        }
      },
      "source": [
        "b.title"
      ],
      "execution_count": 0,
      "outputs": [
        {
          "output_type": "execute_result",
          "data": {
            "text/plain": [
              "'GOT'"
            ]
          },
          "metadata": {
            "tags": []
          },
          "execution_count": 97
        }
      ]
    },
    {
      "cell_type": "code",
      "metadata": {
        "id": "yf2SYQzg3j7X",
        "colab_type": "code",
        "outputId": "e6f2dadf-be44-4349-fe08-36119673a192",
        "colab": {
          "base_uri": "https://localhost:8080/",
          "height": 34
        }
      },
      "source": [
        "str(b)"
      ],
      "execution_count": 0,
      "outputs": [
        {
          "output_type": "execute_result",
          "data": {
            "text/plain": [
              "'Title of author is MARTIN who wrote GOT consists of 354 pages'"
            ]
          },
          "metadata": {
            "tags": []
          },
          "execution_count": 98
        }
      ]
    },
    {
      "cell_type": "code",
      "metadata": {
        "id": "YkOcGRUx3643",
        "colab_type": "code",
        "colab": {}
      },
      "source": [
        ""
      ],
      "execution_count": 0,
      "outputs": []
    },
    {
      "cell_type": "markdown",
      "metadata": {
        "id": "Jwl2j1CShpQX",
        "colab_type": "text"
      },
      "source": [
        ""
      ]
    }
  ]
}
