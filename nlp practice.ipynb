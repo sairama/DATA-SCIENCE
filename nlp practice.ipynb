{
 "cells": [
  {
   "cell_type": "code",
   "execution_count": 1,
   "metadata": {},
   "outputs": [],
   "source": [
    "import re"
   ]
  },
  {
   "cell_type": "code",
   "execution_count": 35,
   "metadata": {},
   "outputs": [],
   "source": [
    "pattern1 = \"abc\"\n",
    "\n",
    "\n"
   ]
  },
  {
   "cell_type": "code",
   "execution_count": 36,
   "metadata": {},
   "outputs": [
    {
     "name": "stdout",
     "output_type": "stream",
     "text": [
      "Occurences of any character:  <_sre.SRE_Match object; span=(0, 3), match='abc'>\n"
     ]
    }
   ],
   "source": [
    "#occurance of any character\n",
    "print(\"Occurences of any character: \",re.match(r\".+\",pattern1))\n"
   ]
  },
  {
   "cell_type": "code",
   "execution_count": 16,
   "metadata": {},
   "outputs": [
    {
     "name": "stdout",
     "output_type": "stream",
     "text": [
      "Occurences of A_Za-z:  <_sre.SRE_Match object; span=(5, 8), match='efg'>\n"
     ]
    }
   ],
   "source": [
    "pattern1 = \"9876 efg 98\"\n",
    "print(\"Occurences of A_Za-z: \",re.search(r\"[a-z]+\",pattern1))\n",
    "\n"
   ]
  },
  {
   "cell_type": "code",
   "execution_count": 40,
   "metadata": {},
   "outputs": [
    {
     "name": "stdout",
     "output_type": "stream",
     "text": [
      "Occurences of ab*:  <_sre.SRE_Match object; span=(0, 2), match='ab'>\n"
     ]
    }
   ],
   "source": [
    "pattern1 = \"ab\"\n",
    "print(\"Occurences of ab*: \",re.search(r\"ab?\",pattern1))\n",
    "\n"
   ]
  },
  {
   "cell_type": "code",
   "execution_count": 53,
   "metadata": {},
   "outputs": [
    {
     "name": "stdout",
     "output_type": "stream",
     "text": [
      "No Match!\n"
     ]
    }
   ],
   "source": [
    "pattern1 = \"12a\"\n",
    "if re.match(r\"[a-z]+\",pattern1) != None:\n",
    "    print(\"Match!\")\n",
    "else:\n",
    "    print(\"No Match!\")"
   ]
  },
  {
   "cell_type": "code",
   "execution_count": 54,
   "metadata": {},
   "outputs": [
    {
     "name": "stdout",
     "output_type": "stream",
     "text": [
      "Match!\n"
     ]
    }
   ],
   "source": [
    "pattern1 = \"a12\"\n",
    "if re.match(r\"[a-z]+\",pattern1) != None:\n",
    "    print(\"Match!\")\n",
    "else:\n",
    "    print(\"No Match!\")"
   ]
  },
  {
   "cell_type": "code",
   "execution_count": 55,
   "metadata": {},
   "outputs": [
    {
     "name": "stdout",
     "output_type": "stream",
     "text": [
      "No Match!\n"
     ]
    }
   ],
   "source": [
    "pattern1 = \"bac\"\n",
    "if re.match(r\"ab?\",pattern1) != None:\n",
    "    print(\"Match!\")\n",
    "else:\n",
    "    print(\"No Match!\")"
   ]
  },
  {
   "cell_type": "code",
   "execution_count": 58,
   "metadata": {},
   "outputs": [
    {
     "name": "stdout",
     "output_type": "stream",
     "text": [
      "Match!\n"
     ]
    }
   ],
   "source": [
    "pattern1 = \"abcc\"\n",
    "if re.match(r\"ab?\",pattern1) != None:\n",
    "    print(\"Match!\")\n",
    "else:\n",
    "    print(\"No Match!\")"
   ]
  },
  {
   "cell_type": "code",
   "execution_count": 63,
   "metadata": {},
   "outputs": [
    {
     "name": "stdout",
     "output_type": "stream",
     "text": [
      "Matches!\n"
     ]
    }
   ],
   "source": [
    "# Introduction to Python Regular Expressions\n",
    "\n",
    "# Importing Libraries\n",
    "import re\n",
    "\n",
    "pattern1 = \"Apples are tasty\"\n",
    "pattern2 = \"Today I feel like crying.\"\n",
    "\n",
    "if re.match(r\"^Apples\",pattern1):\n",
    "    print(\"Matches!\")\n",
    "else:\n",
    "    print(\"No Match!\")\n",
    "    \n"
   ]
  },
  {
   "cell_type": "code",
   "execution_count": 60,
   "metadata": {},
   "outputs": [
    {
     "name": "stdout",
     "output_type": "stream",
     "text": [
      "Match!\n"
     ]
    }
   ],
   "source": [
    "if re.search(r\"\\.$\",pattern2):\n",
    "    print(\"Match!\")\n",
    "else:\n",
    "    print(\"No Match!\")"
   ]
  },
  {
   "cell_type": "code",
   "execution_count": 7,
   "metadata": {},
   "outputs": [
    {
     "name": "stdout",
     "output_type": "stream",
     "text": [
      "I love Justice League\n",
      "0 0ove Avengers\n",
      "0 love Avengers\n",
      "0 00ve Avengers\n",
      "I 0000 A0000000\n"
     ]
    }
   ],
   "source": [
    "\n",
    "import re\n",
    "\n",
    "pattern1 = \"I love Avengers\" #I love Justice League\n",
    "\n",
    "print(re.sub(r\"Avengers\",\"Justice League\",pattern1))\n",
    "\n",
    "print(re.sub(r\"[a-z]\",\"0\",pattern1,2,flags=re.I))\n",
    "print(re.sub(r\"[a-z]\",\"0\",pattern1,1,flags=re.I))\n",
    "print(re.sub(r\"[a-z]\",\"0\",pattern1,3,flags=re.I))\n",
    "print(re.sub(r\"[a-z]\",\"0\",pattern1,))"
   ]
  },
  {
   "cell_type": "code",
   "execution_count": 8,
   "metadata": {},
   "outputs": [],
   "source": [
    "sentence1 = \"Welcome to the year 2018\"\n",
    "sentence2 = \"Just ~%* ++++--- arrived at @Jack's place. #fun\"\n",
    "sentence3 = \"I                  love                u\"\n",
    "\n"
   ]
  },
  {
   "cell_type": "code",
   "execution_count": 11,
   "metadata": {},
   "outputs": [
    {
     "name": "stdout",
     "output_type": "stream",
     "text": [
      "Welcome to the year \n"
     ]
    }
   ],
   "source": [
    "#substitute digits with space\n",
    "sentence1_modified = re.sub(r'\\d','',sentence1)\n",
    "print(sentence1_modified)"
   ]
  },
  {
   "cell_type": "code",
   "execution_count": 16,
   "metadata": {},
   "outputs": [
    {
     "name": "stdout",
     "output_type": "stream",
     "text": [
      "Just ~  arrived at Jacks place fun\n"
     ]
    }
   ],
   "source": [
    "sentence2_modified = re.sub(r'[@#+%\\*-.\\']','',sentence2)\n",
    "print(sentence2_modified)\n"
   ]
  },
  {
   "cell_type": "code",
   "execution_count": 39,
   "metadata": {},
   "outputs": [
    {
     "name": "stdout",
     "output_type": "stream",
     "text": [
      "Just             arrived at  Jack s place   fun\n"
     ]
    }
   ],
   "source": [
    "#to remove all special characters\n",
    "sentence2 = \"Just ~%* ++++--- arrived at @Jack's place. #fun\"\n",
    "sentence2_modified = re.sub(r'\\W',' ',sentence2)\n",
    "print(sentence2_modified)\n"
   ]
  },
  {
   "cell_type": "code",
   "execution_count": 38,
   "metadata": {},
   "outputs": [
    {
     "name": "stdout",
     "output_type": "stream",
     "text": [
      "     ~%* ++++---            @    '       . #   \n"
     ]
    }
   ],
   "source": [
    "#to remove normal characters\n",
    "sentence2 = \"Just ~%* ++++--- arrived at @Jack's place. #fun\"\n",
    "sentence2_modified = re.sub(r'\\w',' ',sentence2)\n",
    "print(sentence2_modified)"
   ]
  },
  {
   "cell_type": "code",
   "execution_count": 40,
   "metadata": {},
   "outputs": [
    {
     "name": "stdout",
     "output_type": "stream",
     "text": [
      "Just ~%* ++++--- arrived at @Jack's place. #fun\n"
     ]
    }
   ],
   "source": [
    "#to replace one or more spaces\n",
    "sentence2 = \"Just ~%*                     ++++--- arrived at @Jack's place. #fun\"\n",
    "sentence2_modified = re.sub(r'\\s+',' ',sentence2)                               \n",
    "print(sentence2_modified)\n",
    "\n"
   ]
  },
  {
   "cell_type": "code",
   "execution_count": 43,
   "metadata": {},
   "outputs": [
    {
     "name": "stdout",
     "output_type": "stream",
     "text": [
      "Just ~%* ++++--- arrived at @Jack's place. #fun\n"
     ]
    }
   ],
   "source": [
    "#remove more than one white spaces before and after letters\n",
    "sentence2_modified = re.sub(r\"\\s+[a-zA-Z]\\s+\",' ',sentence2_modified)\n",
    "print(sentence2_modified)"
   ]
  },
  {
   "cell_type": "code",
   "execution_count": 45,
   "metadata": {},
   "outputs": [
    {
     "name": "stdout",
     "output_type": "stream",
     "text": [
      "I love u\n"
     ]
    }
   ],
   "source": [
    "sentence3 = \"I                  love                u\"\n",
    "sentence3_modified = re.sub(r'\\s+',' ',sentence3) \n",
    "print(sentence3_modified)"
   ]
  },
  {
   "cell_type": "code",
   "execution_count": 57,
   "metadata": {},
   "outputs": [
    {
     "name": "stdout",
     "output_type": "stream",
     "text": [
      "This is a wolf  scary\n",
      "This is a wolf  scary\n",
      "This is wolf  scary\n",
      "This is wolf scary\n",
      "This is wolf scary\n",
      "This is wolf scary\n",
      "Welcome to the jungle  missing\n",
      "Welcome to the jungle  missing\n",
      "Welcome to the jungle  missing\n",
      "Welcome to the jungle missing\n",
      "Welcome to the jungle missing\n",
      "Welcome to the jungle missing\n",
      "111322 the number to know\n",
      "       the number to know\n",
      "       the number to know\n",
      " the number to know\n",
      "the number to know\n",
      "the number to know\n",
      "Remember the name s   John\n",
      "Remember the name s   John\n",
      "Remember the name John\n",
      "Remember the name John\n",
      "Remember the name John\n",
      "Remember the name John\n",
      "I                love               you\n",
      "I                love               you\n",
      "I                love               you\n",
      "I love you\n",
      "I love you\n",
      "I love you\n"
     ]
    }
   ],
   "source": [
    "X = [\"This is a wolf @scary\",\n",
    "     \"Welcome to the jungle #missing\",\n",
    "     \"111322 the number to know\",\n",
    "     \"Remember the name s - John\",\n",
    "     \"I                love               you\"]\n",
    "\n",
    "\n",
    "for i in range(len(X)):\n",
    "    #print all except special characters\n",
    "    X[i] = re.sub(r\"\\W\",\" \",X[i])\n",
    "    print(X[i] ) \n",
    "    X[i] = re.sub(r\"\\d\",\" \",X[i])\n",
    "    print(X[i])\n",
    "    X[i] = re.sub(r\"\\s+[a-z]\\s+\",\" \",X[i],flags=re.I)\n",
    "    print(X[i])\n",
    "    #subsitite more than one space\n",
    "    X[i] = re.sub(r\"\\s+\",\" \",X[i])\n",
    "    print(X[i])\n",
    "    X[i] = re.sub(r\"^\\s\",\"\",X[i])\n",
    "    print(X[i])\n",
    "    X[i] = re.sub(r\"\\s$\",\"\",X[i])\n",
    "    print(X[i])"
   ]
  },
  {
   "cell_type": "code",
   "execution_count": 59,
   "metadata": {},
   "outputs": [
    {
     "name": "stdout",
     "output_type": "stream",
     "text": [
      " I                love               you  \n"
     ]
    }
   ],
   "source": [
    "#substitte beginning spaces\n",
    "X =  \"  I                love               you  \"\n",
    "X = re.sub(r\"^\\s\",\"\",X)\n",
    "print(X)"
   ]
  },
  {
   "cell_type": "code",
   "execution_count": 60,
   "metadata": {},
   "outputs": [
    {
     "name": "stdout",
     "output_type": "stream",
     "text": [
      "  I                love               you \n"
     ]
    }
   ],
   "source": [
    "#substitte trailing spaces\n",
    "X =  \"  I                love               you  \"\n",
    "X = re.sub(r\"\\s$\",\"\",X)\n",
    "print(X)"
   ]
  },
  {
   "cell_type": "code",
   "execution_count": 61,
   "metadata": {},
   "outputs": [
    {
     "data": {
      "text/plain": [
       "array([0, 1, 2, 3, 4, 5, 6, 7, 8, 9])"
      ]
     },
     "execution_count": 61,
     "metadata": {},
     "output_type": "execute_result"
    }
   ],
   "source": [
    "import numpy as np\n",
    "\n",
    "# arange()\n",
    "# np.arange([start,] stop[, step,], dtype=None)\n",
    "np.arange(10)\n",
    "\n"
   ]
  },
  {
   "cell_type": "code",
   "execution_count": 62,
   "metadata": {},
   "outputs": [
    {
     "data": {
      "text/plain": [
       "array([1, 2, 3, 4, 5, 6, 7, 8, 9])"
      ]
     },
     "execution_count": 62,
     "metadata": {},
     "output_type": "execute_result"
    }
   ],
   "source": [
    "np.arange(1,10)\n",
    "\n"
   ]
  },
  {
   "cell_type": "code",
   "execution_count": 63,
   "metadata": {},
   "outputs": [
    {
     "data": {
      "text/plain": [
       "array([1, 3, 5, 7, 9])"
      ]
     },
     "execution_count": 63,
     "metadata": {},
     "output_type": "execute_result"
    }
   ],
   "source": [
    "np.arange(1,10,2)\n"
   ]
  },
  {
   "cell_type": "code",
   "execution_count": 64,
   "metadata": {},
   "outputs": [
    {
     "data": {
      "text/plain": [
       "array([1. , 1.5, 2. , 2.5, 3. , 3.5, 4. , 4.5, 5. , 5.5, 6. , 6.5, 7. ,\n",
       "       7.5, 8. , 8.5, 9. , 9.5])"
      ]
     },
     "execution_count": 64,
     "metadata": {},
     "output_type": "execute_result"
    }
   ],
   "source": [
    "np.arange(1,10,0.5)\n",
    "\n"
   ]
  },
  {
   "cell_type": "code",
   "execution_count": 65,
   "metadata": {},
   "outputs": [
    {
     "data": {
      "text/plain": [
       "array([1., 2., 3., 4., 5., 6., 7., 8., 9.])"
      ]
     },
     "execution_count": 65,
     "metadata": {},
     "output_type": "execute_result"
    }
   ],
   "source": [
    "np.arange(1,10,dtype='float64')\n"
   ]
  },
  {
   "cell_type": "code",
   "execution_count": 68,
   "metadata": {},
   "outputs": [
    {
     "name": "stdout",
     "output_type": "stream",
     "text": [
      "[1 2 3 4 5 6 7 8 9]\n"
     ]
    }
   ],
   "source": [
    "# Examining the ndarray\n",
    "arr = np.arange(1,10)\n",
    "print(arr)\n",
    "\n"
   ]
  },
  {
   "cell_type": "code",
   "execution_count": 69,
   "metadata": {},
   "outputs": [
    {
     "name": "stdout",
     "output_type": "stream",
     "text": [
      "1\n",
      "(9,)\n",
      "9\n",
      "int32\n",
      "4\n"
     ]
    }
   ],
   "source": [
    "print(arr.ndim)\n",
    "print(arr.shape)\n",
    "print(arr.size)\n",
    "print(arr.dtype)\n",
    "print(arr.itemsize)\n",
    "\n"
   ]
  },
  {
   "cell_type": "code",
   "execution_count": 71,
   "metadata": {},
   "outputs": [
    {
     "name": "stdout",
     "output_type": "stream",
     "text": [
      "36\n",
      "[1 2 3 4 5]\n"
     ]
    }
   ],
   "source": [
    "# Memory Usage\n",
    "print(arr.itemsize * arr.size)\n",
    "\n",
    "# Why use Numpy? Compare the time to do the same operation using\n",
    "# numpy and normal python lists\n",
    "# %timeit list1 = range(1,1000)\n",
    "# %timeit list2 = np.arange(1,1000)\n",
    "\n",
    "\n",
    "# Important functions in numpy\n",
    "# List to array\n",
    "print(np.asarray([1,2,3,4,5]))\n",
    "\n"
   ]
  },
  {
   "cell_type": "code",
   "execution_count": 73,
   "metadata": {},
   "outputs": [
    {
     "name": "stdout",
     "output_type": "stream",
     "text": [
      "[[1 2 3]\n",
      " [4 5 6]]\n",
      "[[0 0 0 0]\n",
      " [0 0 0 0]\n",
      " [0 0 0 0]]\n"
     ]
    }
   ],
   "source": [
    "list2d = [[1,2,3],[4,5,6]]\n",
    "arr2d = np.asarray(list2d)\n",
    "print(arr2d)\n",
    "# Generate zeros\n",
    "# zeros(shape, dtype=float, order='C')\n",
    "\n",
    "listzeros = np.zeros((3,4), dtype='int32')\n",
    "print(listzeros)\n",
    "# Linspace\n",
    "# np.linspace(start, stop, num=50, endpoint=True, retstep=False)\n",
    "\n"
   ]
  },
  {
   "cell_type": "code",
   "execution_count": 74,
   "metadata": {},
   "outputs": [
    {
     "name": "stdout",
     "output_type": "stream",
     "text": [
      "[1. 2. 3. 4.]\n",
      "[1.         1.42857143 1.85714286 2.28571429 2.71428571 3.14285714\n",
      " 3.57142857 4.        ]\n",
      "[1.    1.375 1.75  2.125 2.5   2.875 3.25  3.625]\n"
     ]
    }
   ],
   "source": [
    "print(np.linspace(1,4,num=4))\n",
    "print(np.linspace(1,4,num=8))\n",
    "print(np.linspace(1,4,num=8,endpoint=False))\n",
    "\n"
   ]
  },
  {
   "cell_type": "code",
   "execution_count": 76,
   "metadata": {},
   "outputs": [
    {
     "name": "stdout",
     "output_type": "stream",
     "text": [
      "[[0.08234097 0.03669845 0.26382538 0.193715  ]\n",
      " [0.19088079 0.17563507 0.10132734 0.75091069]\n",
      " [0.4024851  0.85343397 0.21136796 0.74030123]]\n",
      "[0.4024851  0.85343397 0.26382538 0.75091069]\n",
      "[0.26382538 0.75091069 0.85343397]\n"
     ]
    }
   ],
   "source": [
    "# Max, min, mean, median, std etc\n",
    "# np.max(a, axis=None, out=None, keepdims=False)\n",
    "# np.min(a, axis=None, out=None, keepdims=False)\n",
    "# np.mean(a, axis=None, dtype=None, out=None, keepdims=False)\n",
    "# np.median(a, axis=None, out=None, overwrite_input=False)\n",
    "# np.std(a, axis=None, dtype=None, out=None, ddof=0, keepdims=False)\n",
    "# np.sum(a, axis=None, dtype=None, out=None, keepdims=False)\n",
    "\n",
    "rarr = np.random.random((3,4))\n",
    "print(rarr)\n",
    "print(np.max(rarr, axis=0))\n",
    "\n",
    "print(np.max(rarr, axis=1))\n",
    "\n"
   ]
  },
  {
   "cell_type": "code",
   "execution_count": 79,
   "metadata": {},
   "outputs": [
    {
     "name": "stdout",
     "output_type": "stream",
     "text": [
      "[0.08234097 0.03669845 0.26382538 0.193715   0.19088079 0.17563507\n",
      " 0.10132734 0.75091069 0.4024851  0.85343397 0.21136796 0.74030123]\n",
      "[[0.08234097]\n",
      " [0.03669845]\n",
      " [0.26382538]\n",
      " [0.193715  ]\n",
      " [0.19088079]\n",
      " [0.17563507]\n",
      " [0.10132734]\n",
      " [0.75091069]\n",
      " [0.4024851 ]\n",
      " [0.85343397]\n",
      " [0.21136796]\n",
      " [0.74030123]]\n"
     ]
    }
   ],
   "source": [
    "# Reshaping\n",
    "# np.reshape(a, newshape, order='C')\n",
    "new_rarr = np.reshape(rarr, (12,))\n",
    "print(new_rarr)\n",
    "new_rarr = np.reshape(rarr, (12,1))\n",
    "print(new_rarr)\n",
    "\n"
   ]
  },
  {
   "cell_type": "code",
   "execution_count": 80,
   "metadata": {},
   "outputs": [
    {
     "data": {
      "text/plain": [
       "array([[0.46602255, 0.53619318, 0.25796926, 0.46279149, 0.77022756]])"
      ]
     },
     "execution_count": 80,
     "metadata": {},
     "output_type": "execute_result"
    }
   ],
   "source": [
    "# Slicing\n",
    "rarr = np.random.random((4,5))\n",
    "\n",
    "rarr[:,:]\n",
    "rarr[1:3,:]\n",
    "\n",
    "rarr[:,1:]\n",
    "rarr[:,1:3]\n",
    "\n",
    "rarr[1:3,1:3]\n",
    "\n",
    "rarr[[0,3],:]\n",
    "rarr[:,[0,3]]\n",
    "\n",
    "\n",
    "rarr[:-1,:]\n",
    "rarr[-1:,:]"
   ]
  },
  {
   "cell_type": "code",
   "execution_count": null,
   "metadata": {},
   "outputs": [],
   "source": [
    "# Natural Language Processing using NLTK\n",
    "\n",
    "# Install NLTK - pip install nltk\n",
    "\n",
    "# Tokenization of paragraphs/sentences\n",
    "import nltk\n",
    "\n",
    "\n",
    "paragraph = \"Thank you all so very much. Thank you to the Academy. \n",
    "               Thank you to all of you in this room. I have to congratulate \n",
    "               the other incredible nominees this year. The Revenant was \n",
    "               the product of the tireless efforts of an unbelievable cast\n",
    "               and crew. First off, to my brother in this endeavor, Mr. Tom \n",
    "               Hardy. Tom, your talent on screen can only be surpassed by \n",
    "               your friendship off screen … thank you for creating a t\n",
    "               ranscendent cinematic experience. Thank you to everybody at \n",
    "               Fox and New Regency … my entire team. I have to thank \n",
    "               everyone from the very onset of my career … To my parents; \n",
    "               none of this would be possible without you. And to my \n",
    "               friends, I love you dearly; you know who you are. And lastly,\n",
    "               I just want to say this: Making The Revenant was about\n",
    "               man's relationship to the natural world. A world that we\n",
    "               collectively felt in 2015 as the hottest year in recorded\n",
    "               history. Our production needed to move to the southern\n",
    "               tip of this planet just to be able to find snow. Climate\n",
    "               change is real, it is happening right now. It is the most\n",
    "               urgent threat facing our entire species, and we need to work\n",
    "               collectively together and stop procrastinating. We need to\n",
    "               support leaders around the world who do not speak for the \n",
    "               big polluters, but who speak for all of humanity, for the\n",
    "               indigenous people of the world, for the billions and \n",
    "               billions of underprivileged people out there who would be\n",
    "               most affected by this. For our children’s children, and \n",
    "               for those people out there whose voices have been drowned\n",
    "               out by the politics of greed. I thank you all for this \n",
    "               amazing award tonight. Let us not take this planet for \n",
    "               granted. I do not take tonight for granted. Thank you so very much.\"\n",
    "               \n"
   ]
  },
  {
   "cell_type": "code",
   "execution_count": 84,
   "metadata": {},
   "outputs": [
    {
     "name": "stdout",
     "output_type": "stream",
     "text": [
      "['Thank you all so very much.', 'Thank you to the Academy.', 'Thank you to all of you in this room.', 'I have to congratulate \\n               the other incredible nominees this year.', 'The Revenant was \\n               the product of the tireless efforts of an unbelievable cast\\n               and crew.', 'First off, to my brother in this endeavor, Mr. Tom \\n               Hardy.', 'Tom, your talent on screen can only be surpassed by \\n               your friendship off screen … thank you for creating a t\\n               ranscendent cinematic experience.', 'Thank you to everybody at \\n               Fox and New Regency … my entire team.', 'I have to thank \\n               everyone from the very onset of my career … To my parents; \\n               none of this would be possible without you.', 'And to my \\n               friends, I love you dearly; you know who you are.', \"And lastly,\\n               I just want to say this: Making The Revenant was about\\n               man's relationship to the natural world.\", 'A world that we\\n               collectively felt in 2015 as the hottest year in recorded\\n               history.', 'Our production needed to move to the southern\\n               tip of this planet just to be able to find snow.', 'Climate\\n               change is real, it is happening right now.', 'It is the most\\n               urgent threat facing our entire species, and we need to work\\n               collectively together and stop procrastinating.', 'We need to\\n               support leaders around the world who do not speak for the \\n               big polluters, but who speak for all of humanity, for the\\n               indigenous people of the world, for the billions and \\n               billions of underprivileged people out there who would be\\n               most affected by this.', 'For our children’s children, and \\n               for those people out there whose voices have been drowned\\n               out by the politics of greed.', 'I thank you all for this \\n               amazing award tonight.', 'Let us not take this planet for \\n               granted.', 'I do not take tonight for granted.', 'Thank you so very much.']\n"
     ]
    }
   ],
   "source": [
    "# Tokenizing sentences\n",
    "sentences = nltk.sent_tokenize(paragraph)\n",
    "print(sentences)\n"
   ]
  },
  {
   "cell_type": "code",
   "execution_count": 85,
   "metadata": {},
   "outputs": [
    {
     "name": "stdout",
     "output_type": "stream",
     "text": [
      "['Thank', 'you', 'all', 'so', 'very', 'much', '.', 'Thank', 'you', 'to', 'the', 'Academy', '.', 'Thank', 'you', 'to', 'all', 'of', 'you', 'in', 'this', 'room', '.', 'I', 'have', 'to', 'congratulate', 'the', 'other', 'incredible', 'nominees', 'this', 'year', '.', 'The', 'Revenant', 'was', 'the', 'product', 'of', 'the', 'tireless', 'efforts', 'of', 'an', 'unbelievable', 'cast', 'and', 'crew', '.', 'First', 'off', ',', 'to', 'my', 'brother', 'in', 'this', 'endeavor', ',', 'Mr.', 'Tom', 'Hardy', '.', 'Tom', ',', 'your', 'talent', 'on', 'screen', 'can', 'only', 'be', 'surpassed', 'by', 'your', 'friendship', 'off', 'screen', '…', 'thank', 'you', 'for', 'creating', 'a', 't', 'ranscendent', 'cinematic', 'experience', '.', 'Thank', 'you', 'to', 'everybody', 'at', 'Fox', 'and', 'New', 'Regency', '…', 'my', 'entire', 'team', '.', 'I', 'have', 'to', 'thank', 'everyone', 'from', 'the', 'very', 'onset', 'of', 'my', 'career', '…', 'To', 'my', 'parents', ';', 'none', 'of', 'this', 'would', 'be', 'possible', 'without', 'you', '.', 'And', 'to', 'my', 'friends', ',', 'I', 'love', 'you', 'dearly', ';', 'you', 'know', 'who', 'you', 'are', '.', 'And', 'lastly', ',', 'I', 'just', 'want', 'to', 'say', 'this', ':', 'Making', 'The', 'Revenant', 'was', 'about', 'man', \"'s\", 'relationship', 'to', 'the', 'natural', 'world', '.', 'A', 'world', 'that', 'we', 'collectively', 'felt', 'in', '2015', 'as', 'the', 'hottest', 'year', 'in', 'recorded', 'history', '.', 'Our', 'production', 'needed', 'to', 'move', 'to', 'the', 'southern', 'tip', 'of', 'this', 'planet', 'just', 'to', 'be', 'able', 'to', 'find', 'snow', '.', 'Climate', 'change', 'is', 'real', ',', 'it', 'is', 'happening', 'right', 'now', '.', 'It', 'is', 'the', 'most', 'urgent', 'threat', 'facing', 'our', 'entire', 'species', ',', 'and', 'we', 'need', 'to', 'work', 'collectively', 'together', 'and', 'stop', 'procrastinating', '.', 'We', 'need', 'to', 'support', 'leaders', 'around', 'the', 'world', 'who', 'do', 'not', 'speak', 'for', 'the', 'big', 'polluters', ',', 'but', 'who', 'speak', 'for', 'all', 'of', 'humanity', ',', 'for', 'the', 'indigenous', 'people', 'of', 'the', 'world', ',', 'for', 'the', 'billions', 'and', 'billions', 'of', 'underprivileged', 'people', 'out', 'there', 'who', 'would', 'be', 'most', 'affected', 'by', 'this', '.', 'For', 'our', 'children', '’', 's', 'children', ',', 'and', 'for', 'those', 'people', 'out', 'there', 'whose', 'voices', 'have', 'been', 'drowned', 'out', 'by', 'the', 'politics', 'of', 'greed', '.', 'I', 'thank', 'you', 'all', 'for', 'this', 'amazing', 'award', 'tonight', '.', 'Let', 'us', 'not', 'take', 'this', 'planet', 'for', 'granted', '.', 'I', 'do', 'not', 'take', 'tonight', 'for', 'granted', '.', 'Thank', 'you', 'so', 'very', 'much', '.']\n"
     ]
    }
   ],
   "source": [
    "\n",
    "# Tokenizing words\n",
    "words = nltk.word_tokenize(paragraph)\n",
    "print(words)"
   ]
  },
  {
   "cell_type": "code",
   "execution_count": 89,
   "metadata": {},
   "outputs": [
    {
     "ename": "SyntaxError",
     "evalue": "EOL while scanning string literal (<ipython-input-89-681847fcc2f7>, line 4)",
     "output_type": "error",
     "traceback": [
      "\u001b[1;36m  File \u001b[1;32m\"<ipython-input-89-681847fcc2f7>\"\u001b[1;36m, line \u001b[1;32m4\u001b[0m\n\u001b[1;33m    paragraph = \"Thank you all so very much. Thank you to the Academy.\u001b[0m\n\u001b[1;37m                                                                       ^\u001b[0m\n\u001b[1;31mSyntaxError\u001b[0m\u001b[1;31m:\u001b[0m EOL while scanning string literal\n"
     ]
    }
   ],
   "source": [
    "import nltk\n",
    "from nltk.stem import PorterStemmer\n",
    "\n",
    "paragraph = \"Thank you all so very much. Thank you to the Academy. \n",
    "               Thank you to all of you in this room. I have to congratulate \n",
    "               the other incredible nominees this year. The Revenant was \n",
    "               the product of the tireless efforts of an unbelievable cast\n",
    "               and crew. First off, to my brother in this endeavor, Mr. Tom \n",
    "               Hardy. Tom, your talent on screen can only be surpassed by \n",
    "               your friendship off screen … thank you for creating a t\n",
    "               ranscendent cinematic experience. Thank you to everybody at \n",
    "               Fox and New Regency … my entire team. I have to thank \n",
    "               everyone from the very onset of my career … To my parents; \n",
    "               none of this would be possible without you. And to my \n",
    "               friends, I love you dearly; you know who you are. And lastly,\n",
    "               I just want to say this: Making The Revenant was about\n",
    "               man's relationship to the natural world. A world that we\n",
    "               collectively felt in 2015 as the hottest year in recorded\n",
    "               history. Our production needed to move to the southern\n",
    "               tip of this planet just to be able to find snow. Climate\n",
    "               change is real, it is happening right now. It is the most\n",
    "               urgent threat facing our entire species, and we need to work\n",
    "               collectively together and stop procrastinating. We need to\n",
    "               support leaders around the world who do not speak for the \n",
    "               big polluters, but who speak for all of humanity, for the\n",
    "               indigenous people of the world, for the billions and \n",
    "               billions of underprivileged people out there who would be\n",
    "               most affected by this. For our children’s children, and \n",
    "               for those people out there whose voices have been drowned\n",
    "               out by the politics of greed. I thank you all for this \n",
    "               amazing award tonight. Let us not take this planet for \n",
    "               granted. I do not take tonight for granted. Thank you so very much.\"\n",
    "               \n",
    "       "
   ]
  },
  {
   "cell_type": "code",
   "execution_count": 90,
   "metadata": {},
   "outputs": [
    {
     "name": "stdout",
     "output_type": "stream",
     "text": [
      "Thank you all so very much. Thank you to the Academy. \n",
      "               Thank you to all of you in this room. I have to congratulate \n",
      "               the other incredible nominees this year. The Revenant was \n",
      "               the product of the tireless efforts of an unbelievable cast\n",
      "               and crew. First off, to my brother in this endeavor, Mr. Tom \n",
      "               Hardy. Tom, your talent on screen can only be surpassed by \n",
      "               your friendship off screen … thank you for creating a t\n",
      "               ranscendent cinematic experience. Thank you to everybody at \n",
      "               Fox and New Regency … my entire team. I have to thank \n",
      "               everyone from the very onset of my career … To my parents; \n",
      "               none of this would be possible without you. And to my \n",
      "               friends, I love you dearly; you know who you are. And lastly,\n",
      "               I just want to say this: Making The Revenant was about\n",
      "               man's relationship to the natural world. A world that we\n",
      "               collectively felt in 2015 as the hottest year in recorded\n",
      "               history. Our production needed to move to the southern\n",
      "               tip of this planet just to be able to find snow. Climate\n",
      "               change is real, it is happening right now. It is the most\n",
      "               urgent threat facing our entire species, and we need to work\n",
      "               collectively together and stop procrastinating. We need to\n",
      "               support leaders around the world who do not speak for the \n",
      "               big polluters, but who speak for all of humanity, for the\n",
      "               indigenous people of the world, for the billions and \n",
      "               billions of underprivileged people out there who would be\n",
      "               most affected by this. For our children’s children, and \n",
      "               for those people out there whose voices have been drowned\n",
      "               out by the politics of greed. I thank you all for this \n",
      "               amazing award tonight. Let us not take this planet for \n",
      "               granted. I do not take tonight for granted. Thank you so very much.\n"
     ]
    }
   ],
   "source": [
    "print(paragraph)"
   ]
  },
  {
   "cell_type": "code",
   "execution_count": 93,
   "metadata": {},
   "outputs": [
    {
     "name": "stdout",
     "output_type": "stream",
     "text": [
      "['Thank you all so very much.', 'Thank you to the Academy.', 'Thank you to all of you in this room.', 'I have to congratulate \\n               the other incredible nominees this year.', 'The Revenant was \\n               the product of the tireless efforts of an unbelievable cast\\n               and crew.', 'First off, to my brother in this endeavor, Mr. Tom \\n               Hardy.', 'Tom, your talent on screen can only be surpassed by \\n               your friendship off screen … thank you for creating a t\\n               ranscendent cinematic experience.', 'Thank you to everybody at \\n               Fox and New Regency … my entire team.', 'I have to thank \\n               everyone from the very onset of my career … To my parents; \\n               none of this would be possible without you.', 'And to my \\n               friends, I love you dearly; you know who you are.', \"And lastly,\\n               I just want to say this: Making The Revenant was about\\n               man's relationship to the natural world.\", 'A world that we\\n               collectively felt in 2015 as the hottest year in recorded\\n               history.', 'Our production needed to move to the southern\\n               tip of this planet just to be able to find snow.', 'Climate\\n               change is real, it is happening right now.', 'It is the most\\n               urgent threat facing our entire species, and we need to work\\n               collectively together and stop procrastinating.', 'We need to\\n               support leaders around the world who do not speak for the \\n               big polluters, but who speak for all of humanity, for the\\n               indigenous people of the world, for the billions and \\n               billions of underprivileged people out there who would be\\n               most affected by this.', 'For our children’s children, and \\n               for those people out there whose voices have been drowned\\n               out by the politics of greed.', 'I thank you all for this \\n               amazing award tonight.', 'Let us not take this planet for \\n               granted.', 'I do not take tonight for granted.', 'Thank you so very much.']\n"
     ]
    }
   ],
   "source": [
    "sentences = nltk.sent_tokenize(paragraph)\n",
    "print(sentences)"
   ]
  },
  {
   "cell_type": "code",
   "execution_count": 95,
   "metadata": {},
   "outputs": [],
   "source": [
    "from nltk.stem import PorterStemmer\n",
    "stemmer = PorterStemmer()\n",
    "# Stemming\n",
    "for i in range(len(sentences)):\n",
    "    words = nltk.word_tokenize(sentences[i])\n",
    "    words = [stemmer.stem(word) for word in words]\n",
    "    sentences[i] = ' '.join(words)      \n",
    "    "
   ]
  },
  {
   "cell_type": "code",
   "execution_count": 96,
   "metadata": {},
   "outputs": [
    {
     "name": "stdout",
     "output_type": "stream",
     "text": [
      "['thank you all so veri much .', 'thank you to the academi .', 'thank you to all of you in thi room .', 'I have to congratul the other incred nomine thi year .', 'the reven wa the product of the tireless effort of an unbeliev cast and crew .', 'first off , to my brother in thi endeavor , mr. tom hardi .', 'tom , your talent on screen can onli be surpass by your friendship off screen … thank you for creat a t ranscend cinemat experi .', 'thank you to everybodi at fox and new regenc … my entir team .', 'I have to thank everyon from the veri onset of my career … To my parent ; none of thi would be possibl without you .', 'and to my friend , I love you dearli ; you know who you are .', \"and lastli , I just want to say thi : make the reven wa about man 's relationship to the natur world .\", 'A world that we collect felt in 2015 as the hottest year in record histori .', 'our product need to move to the southern tip of thi planet just to be abl to find snow .', 'climat chang is real , it is happen right now .', 'It is the most urgent threat face our entir speci , and we need to work collect togeth and stop procrastin .', 'We need to support leader around the world who do not speak for the big pollut , but who speak for all of human , for the indigen peopl of the world , for the billion and billion of underprivileg peopl out there who would be most affect by thi .', 'for our children ’ s children , and for those peopl out there whose voic have been drown out by the polit of greed .', 'I thank you all for thi amaz award tonight .', 'let us not take thi planet for grant .', 'I do not take tonight for grant .', 'thank you so veri much .']\n"
     ]
    }
   ],
   "source": [
    "print(sentences)"
   ]
  },
  {
   "cell_type": "code",
   "execution_count": 98,
   "metadata": {},
   "outputs": [
    {
     "data": {
      "text/plain": [
       "'drink'"
      ]
     },
     "execution_count": 98,
     "metadata": {},
     "output_type": "execute_result"
    }
   ],
   "source": [
    "#get all the words in its original form\n",
    "word ='drinking'\n",
    "stemmer.stem(word)"
   ]
  },
  {
   "cell_type": "code",
   "execution_count": 103,
   "metadata": {},
   "outputs": [],
   "source": [
    "#wordnet stemmer to get the sentences correct\n",
    "import nltk\n",
    "from nltk.stem import WordNetLemmatizer\n",
    "\n",
    "\n",
    "               \n",
    "               \n",
    "sentences = nltk.sent_tokenize(paragraph)\n",
    "lemmatizer = WordNetLemmatizer()\n",
    "\n",
    "# Lemmatization\n",
    "for i in range(len(sentences)):\n",
    "    words = nltk.word_tokenize(sentences[i])\n",
    "    words = [lemmatizer.lemmatize(word) for word in words]\n",
    "    sentences[i] = ' '.join(words)             "
   ]
  },
  {
   "cell_type": "code",
   "execution_count": 104,
   "metadata": {},
   "outputs": [
    {
     "name": "stdout",
     "output_type": "stream",
     "text": [
      "['Thank you all so very much .', 'Thank you to the Academy .', 'Thank you to all of you in this room .', 'I have to congratulate the other incredible nominee this year .', 'The Revenant wa the product of the tireless effort of an unbelievable cast and crew .', 'First off , to my brother in this endeavor , Mr. Tom Hardy .', 'Tom , your talent on screen can only be surpassed by your friendship off screen … thank you for creating a t ranscendent cinematic experience .', 'Thank you to everybody at Fox and New Regency … my entire team .', 'I have to thank everyone from the very onset of my career … To my parent ; none of this would be possible without you .', 'And to my friend , I love you dearly ; you know who you are .', \"And lastly , I just want to say this : Making The Revenant wa about man 's relationship to the natural world .\", 'A world that we collectively felt in 2015 a the hottest year in recorded history .', 'Our production needed to move to the southern tip of this planet just to be able to find snow .', 'Climate change is real , it is happening right now .', 'It is the most urgent threat facing our entire specie , and we need to work collectively together and stop procrastinating .', 'We need to support leader around the world who do not speak for the big polluter , but who speak for all of humanity , for the indigenous people of the world , for the billion and billion of underprivileged people out there who would be most affected by this .', 'For our child ’ s child , and for those people out there whose voice have been drowned out by the politics of greed .', 'I thank you all for this amazing award tonight .', 'Let u not take this planet for granted .', 'I do not take tonight for granted .', 'Thank you so very much .']\n"
     ]
    }
   ],
   "source": [
    "print(sentences)"
   ]
  },
  {
   "cell_type": "code",
   "execution_count": 108,
   "metadata": {},
   "outputs": [
    {
     "name": "stdout",
     "output_type": "stream",
     "text": [
      "['Thank much .', 'Thank Academy .', 'Thank room .', 'I congratulate incredible nominees year .', 'The Revenant product tireless efforts unbelievable cast crew .', 'First , brother endeavor , Mr. Tom Hardy .', 'Tom , talent screen surpassed friendship screen … thank creating ranscendent cinematic experience .', 'Thank everybody Fox New Regency … entire team .', 'I thank everyone onset career … To parents ; none would possible without .', 'And friends , I love dearly ; know .', \"And lastly , I want say : Making The Revenant man 's relationship natural world .\", 'A world collectively felt 2015 hottest year recorded history .', 'Our production needed move southern tip planet able find snow .', 'Climate change real , happening right .', 'It urgent threat facing entire species , need work collectively together stop procrastinating .', 'We need support leaders around world speak big polluters , speak humanity , indigenous people world , billions billions underprivileged people would affected .', 'For children ’ children , people whose voices drowned politics greed .', 'I thank amazing award tonight .', 'Let us take planet granted .', 'I take tonight granted .', 'Thank much .']\n"
     ]
    }
   ],
   "source": [
    "#stop words\n",
    "#remove stop words\n",
    "from nltk.corpus import stopwords\n",
    "sentences = nltk.sent_tokenize(paragraph)\n",
    "\n",
    "\n",
    "# Removing stopwords\n",
    "for i in range(len(sentences)):\n",
    "    words = nltk.word_tokenize(sentences[i])\n",
    "    words = [word for word in words if word not in stopwords.words('english')]\n",
    "    sentences[i] = ' '.join(words)        \n",
    "print(sentences)"
   ]
  },
  {
   "cell_type": "code",
   "execution_count": 112,
   "metadata": {},
   "outputs": [
    {
     "name": "stdout",
     "output_type": "stream",
     "text": [
      "['Thank', 'you', 'all', 'so', 'very', 'much', '.', 'Thank', 'you', 'to', 'the', 'Academy', '.', 'Thank', 'you', 'to', 'all', 'of', 'you', 'in', 'this', 'room', '.', 'I', 'have', 'to', 'congratulate', 'the', 'other', 'incredible', 'nominees', 'this', 'year', '.', 'The', 'Revenant', 'was', 'the', 'product', 'of', 'the', 'tireless', 'efforts', 'of', 'an', 'unbelievable', 'cast', 'and', 'crew', '.', 'First', 'off', ',', 'to', 'my', 'brother', 'in', 'this', 'endeavor', ',', 'Mr.', 'Tom', 'Hardy', '.', 'Tom', ',', 'your', 'talent', 'on', 'screen', 'can', 'only', 'be', 'surpassed', 'by', 'your', 'friendship', 'off', 'screen', '…', 'thank', 'you', 'for', 'creating', 'a', 't', 'ranscendent', 'cinematic', 'experience', '.', 'Thank', 'you', 'to', 'everybody', 'at', 'Fox', 'and', 'New', 'Regency', '…', 'my', 'entire', 'team', '.', 'I', 'have', 'to', 'thank', 'everyone', 'from', 'the', 'very', 'onset', 'of', 'my', 'career', '…', 'To', 'my', 'parents', ';', 'none', 'of', 'this', 'would', 'be', 'possible', 'without', 'you', '.', 'And', 'to', 'my', 'friends', ',', 'I', 'love', 'you', 'dearly', ';', 'you', 'know', 'who', 'you', 'are', '.', 'And', 'lastly', ',', 'I', 'just', 'want', 'to', 'say', 'this', ':', 'Making', 'The', 'Revenant', 'was', 'about', 'man', \"'s\", 'relationship', 'to', 'the', 'natural', 'world', '.', 'A', 'world', 'that', 'we', 'collectively', 'felt', 'in', '2015', 'as', 'the', 'hottest', 'year', 'in', 'recorded', 'history', '.', 'Our', 'production', 'needed', 'to', 'move', 'to', 'the', 'southern', 'tip', 'of', 'this', 'planet', 'just', 'to', 'be', 'able', 'to', 'find', 'snow', '.', 'Climate', 'change', 'is', 'real', ',', 'it', 'is', 'happening', 'right', 'now', '.', 'It', 'is', 'the', 'most', 'urgent', 'threat', 'facing', 'our', 'entire', 'species', ',', 'and', 'we', 'need', 'to', 'work', 'collectively', 'together', 'and', 'stop', 'procrastinating', '.', 'We', 'need', 'to', 'support', 'leaders', 'around', 'the', 'world', 'who', 'do', 'not', 'speak', 'for', 'the', 'big', 'polluters', ',', 'but', 'who', 'speak', 'for', 'all', 'of', 'humanity', ',', 'for', 'the', 'indigenous', 'people', 'of', 'the', 'world', ',', 'for', 'the', 'billions', 'and', 'billions', 'of', 'underprivileged', 'people', 'out', 'there', 'who', 'would', 'be', 'most', 'affected', 'by', 'this', '.', 'For', 'our', 'children', '’', 's', 'children', ',', 'and', 'for', 'those', 'people', 'out', 'there', 'whose', 'voices', 'have', 'been', 'drowned', 'out', 'by', 'the', 'politics', 'of', 'greed', '.', 'I', 'thank', 'you', 'all', 'for', 'this', 'amazing', 'award', 'tonight', '.', 'Let', 'us', 'not', 'take', 'this', 'planet', 'for', 'granted', '.', 'I', 'do', 'not', 'take', 'tonight', 'for', 'granted', '.', 'Thank', 'you', 'so', 'very', 'much', '.']\n"
     ]
    }
   ],
   "source": [
    "#pos tagging\n",
    "# POS Tagging\n",
    "words = nltk.word_tokenize(paragraph)\n",
    "\n",
    "tagged_words = nltk.pos_tag(words)\n",
    "\n",
    "# Tagged word paragraph\n",
    "word_tags = []\n",
    "for tw in tagged_words:\n",
    "    word_tags.append(tw[0]+\"_\"+tw[1])\n",
    "\n",
    "tagged_paragraph = ' '.join(word_tags)\n",
    "print(words)\n"
   ]
  },
  {
   "cell_type": "code",
   "execution_count": 113,
   "metadata": {},
   "outputs": [
    {
     "name": "stdout",
     "output_type": "stream",
     "text": [
      "[('Thank', 'NNP'), ('you', 'PRP'), ('all', 'DT'), ('so', 'RB'), ('very', 'RB'), ('much', 'JJ'), ('.', '.'), ('Thank', 'VB'), ('you', 'PRP'), ('to', 'TO'), ('the', 'DT'), ('Academy', 'NNP'), ('.', '.'), ('Thank', 'NNP'), ('you', 'PRP'), ('to', 'TO'), ('all', 'DT'), ('of', 'IN'), ('you', 'PRP'), ('in', 'IN'), ('this', 'DT'), ('room', 'NN'), ('.', '.'), ('I', 'PRP'), ('have', 'VBP'), ('to', 'TO'), ('congratulate', 'VB'), ('the', 'DT'), ('other', 'JJ'), ('incredible', 'JJ'), ('nominees', 'NNS'), ('this', 'DT'), ('year', 'NN'), ('.', '.'), ('The', 'DT'), ('Revenant', 'NNP'), ('was', 'VBD'), ('the', 'DT'), ('product', 'NN'), ('of', 'IN'), ('the', 'DT'), ('tireless', 'NN'), ('efforts', 'NNS'), ('of', 'IN'), ('an', 'DT'), ('unbelievable', 'JJ'), ('cast', 'NN'), ('and', 'CC'), ('crew', 'NN'), ('.', '.'), ('First', 'NNP'), ('off', 'RB'), (',', ','), ('to', 'TO'), ('my', 'PRP$'), ('brother', 'NN'), ('in', 'IN'), ('this', 'DT'), ('endeavor', 'NN'), (',', ','), ('Mr.', 'NNP'), ('Tom', 'NNP'), ('Hardy', 'NNP'), ('.', '.'), ('Tom', 'NNP'), (',', ','), ('your', 'PRP$'), ('talent', 'NN'), ('on', 'IN'), ('screen', 'NN'), ('can', 'MD'), ('only', 'RB'), ('be', 'VB'), ('surpassed', 'VBN'), ('by', 'IN'), ('your', 'PRP$'), ('friendship', 'NN'), ('off', 'IN'), ('screen', 'JJ'), ('…', 'NNP'), ('thank', 'NN'), ('you', 'PRP'), ('for', 'IN'), ('creating', 'VBG'), ('a', 'DT'), ('t', 'JJ'), ('ranscendent', 'NN'), ('cinematic', 'JJ'), ('experience', 'NN'), ('.', '.'), ('Thank', 'NNP'), ('you', 'PRP'), ('to', 'TO'), ('everybody', 'VB'), ('at', 'IN'), ('Fox', 'NNP'), ('and', 'CC'), ('New', 'NNP'), ('Regency', 'NNP'), ('…', 'NNP'), ('my', 'PRP$'), ('entire', 'JJ'), ('team', 'NN'), ('.', '.'), ('I', 'PRP'), ('have', 'VBP'), ('to', 'TO'), ('thank', 'VB'), ('everyone', 'NN'), ('from', 'IN'), ('the', 'DT'), ('very', 'RB'), ('onset', 'NN'), ('of', 'IN'), ('my', 'PRP$'), ('career', 'NN'), ('…', 'NN'), ('To', 'TO'), ('my', 'PRP$'), ('parents', 'NNS'), (';', ':'), ('none', 'NN'), ('of', 'IN'), ('this', 'DT'), ('would', 'MD'), ('be', 'VB'), ('possible', 'JJ'), ('without', 'IN'), ('you', 'PRP'), ('.', '.'), ('And', 'CC'), ('to', 'TO'), ('my', 'PRP$'), ('friends', 'NNS'), (',', ','), ('I', 'PRP'), ('love', 'VBP'), ('you', 'PRP'), ('dearly', 'RB'), (';', ':'), ('you', 'PRP'), ('know', 'VBP'), ('who', 'WP'), ('you', 'PRP'), ('are', 'VBP'), ('.', '.'), ('And', 'CC'), ('lastly', 'RB'), (',', ','), ('I', 'PRP'), ('just', 'RB'), ('want', 'VBP'), ('to', 'TO'), ('say', 'VB'), ('this', 'DT'), (':', ':'), ('Making', 'VBG'), ('The', 'DT'), ('Revenant', 'NNP'), ('was', 'VBD'), ('about', 'IN'), ('man', 'NN'), (\"'s\", 'POS'), ('relationship', 'NN'), ('to', 'TO'), ('the', 'DT'), ('natural', 'JJ'), ('world', 'NN'), ('.', '.'), ('A', 'DT'), ('world', 'NN'), ('that', 'IN'), ('we', 'PRP'), ('collectively', 'RB'), ('felt', 'VBD'), ('in', 'IN'), ('2015', 'CD'), ('as', 'IN'), ('the', 'DT'), ('hottest', 'JJS'), ('year', 'NN'), ('in', 'IN'), ('recorded', 'JJ'), ('history', 'NN'), ('.', '.'), ('Our', 'PRP$'), ('production', 'NN'), ('needed', 'VBN'), ('to', 'TO'), ('move', 'VB'), ('to', 'TO'), ('the', 'DT'), ('southern', 'JJ'), ('tip', 'NN'), ('of', 'IN'), ('this', 'DT'), ('planet', 'NN'), ('just', 'RB'), ('to', 'TO'), ('be', 'VB'), ('able', 'JJ'), ('to', 'TO'), ('find', 'VB'), ('snow', 'JJ'), ('.', '.'), ('Climate', 'NNP'), ('change', 'NN'), ('is', 'VBZ'), ('real', 'JJ'), (',', ','), ('it', 'PRP'), ('is', 'VBZ'), ('happening', 'VBG'), ('right', 'RB'), ('now', 'RB'), ('.', '.'), ('It', 'PRP'), ('is', 'VBZ'), ('the', 'DT'), ('most', 'RBS'), ('urgent', 'JJ'), ('threat', 'NN'), ('facing', 'VBG'), ('our', 'PRP$'), ('entire', 'JJ'), ('species', 'NNS'), (',', ','), ('and', 'CC'), ('we', 'PRP'), ('need', 'VBP'), ('to', 'TO'), ('work', 'VB'), ('collectively', 'RB'), ('together', 'RB'), ('and', 'CC'), ('stop', 'VB'), ('procrastinating', 'NN'), ('.', '.'), ('We', 'PRP'), ('need', 'VBP'), ('to', 'TO'), ('support', 'VB'), ('leaders', 'NNS'), ('around', 'IN'), ('the', 'DT'), ('world', 'NN'), ('who', 'WP'), ('do', 'VBP'), ('not', 'RB'), ('speak', 'VB'), ('for', 'IN'), ('the', 'DT'), ('big', 'JJ'), ('polluters', 'NNS'), (',', ','), ('but', 'CC'), ('who', 'WP'), ('speak', 'VBP'), ('for', 'IN'), ('all', 'DT'), ('of', 'IN'), ('humanity', 'NN'), (',', ','), ('for', 'IN'), ('the', 'DT'), ('indigenous', 'JJ'), ('people', 'NNS'), ('of', 'IN'), ('the', 'DT'), ('world', 'NN'), (',', ','), ('for', 'IN'), ('the', 'DT'), ('billions', 'NNS'), ('and', 'CC'), ('billions', 'NNS'), ('of', 'IN'), ('underprivileged', 'JJ'), ('people', 'NNS'), ('out', 'IN'), ('there', 'EX'), ('who', 'WP'), ('would', 'MD'), ('be', 'VB'), ('most', 'RBS'), ('affected', 'VBN'), ('by', 'IN'), ('this', 'DT'), ('.', '.'), ('For', 'IN'), ('our', 'PRP$'), ('children', 'NNS'), ('’', 'VBP'), ('s', 'JJ'), ('children', 'NNS'), (',', ','), ('and', 'CC'), ('for', 'IN'), ('those', 'DT'), ('people', 'NNS'), ('out', 'RP'), ('there', 'RB'), ('whose', 'WP$'), ('voices', 'NNS'), ('have', 'VBP'), ('been', 'VBN'), ('drowned', 'VBN'), ('out', 'RP'), ('by', 'IN'), ('the', 'DT'), ('politics', 'NNS'), ('of', 'IN'), ('greed', 'NN'), ('.', '.'), ('I', 'PRP'), ('thank', 'VBP'), ('you', 'PRP'), ('all', 'DT'), ('for', 'IN'), ('this', 'DT'), ('amazing', 'JJ'), ('award', 'NN'), ('tonight', 'NN'), ('.', '.'), ('Let', 'VB'), ('us', 'PRP'), ('not', 'RB'), ('take', 'VB'), ('this', 'DT'), ('planet', 'NN'), ('for', 'IN'), ('granted', 'VBN'), ('.', '.'), ('I', 'PRP'), ('do', 'VBP'), ('not', 'RB'), ('take', 'VB'), ('tonight', 'NN'), ('for', 'IN'), ('granted', 'VBN'), ('.', '.'), ('Thank', 'NNP'), ('you', 'PRP'), ('so', 'RB'), ('very', 'RB'), ('much', 'JJ'), ('.', '.')]\n"
     ]
    }
   ],
   "source": [
    "\n",
    "print(tagged_words)\n"
   ]
  },
  {
   "cell_type": "code",
   "execution_count": 114,
   "metadata": {},
   "outputs": [
    {
     "name": "stdout",
     "output_type": "stream",
     "text": [
      "['Thank_NNP', 'you_PRP', 'all_DT', 'so_RB', 'very_RB', 'much_JJ', '._.', 'Thank_VB', 'you_PRP', 'to_TO', 'the_DT', 'Academy_NNP', '._.', 'Thank_NNP', 'you_PRP', 'to_TO', 'all_DT', 'of_IN', 'you_PRP', 'in_IN', 'this_DT', 'room_NN', '._.', 'I_PRP', 'have_VBP', 'to_TO', 'congratulate_VB', 'the_DT', 'other_JJ', 'incredible_JJ', 'nominees_NNS', 'this_DT', 'year_NN', '._.', 'The_DT', 'Revenant_NNP', 'was_VBD', 'the_DT', 'product_NN', 'of_IN', 'the_DT', 'tireless_NN', 'efforts_NNS', 'of_IN', 'an_DT', 'unbelievable_JJ', 'cast_NN', 'and_CC', 'crew_NN', '._.', 'First_NNP', 'off_RB', ',_,', 'to_TO', 'my_PRP$', 'brother_NN', 'in_IN', 'this_DT', 'endeavor_NN', ',_,', 'Mr._NNP', 'Tom_NNP', 'Hardy_NNP', '._.', 'Tom_NNP', ',_,', 'your_PRP$', 'talent_NN', 'on_IN', 'screen_NN', 'can_MD', 'only_RB', 'be_VB', 'surpassed_VBN', 'by_IN', 'your_PRP$', 'friendship_NN', 'off_IN', 'screen_JJ', '…_NNP', 'thank_NN', 'you_PRP', 'for_IN', 'creating_VBG', 'a_DT', 't_JJ', 'ranscendent_NN', 'cinematic_JJ', 'experience_NN', '._.', 'Thank_NNP', 'you_PRP', 'to_TO', 'everybody_VB', 'at_IN', 'Fox_NNP', 'and_CC', 'New_NNP', 'Regency_NNP', '…_NNP', 'my_PRP$', 'entire_JJ', 'team_NN', '._.', 'I_PRP', 'have_VBP', 'to_TO', 'thank_VB', 'everyone_NN', 'from_IN', 'the_DT', 'very_RB', 'onset_NN', 'of_IN', 'my_PRP$', 'career_NN', '…_NN', 'To_TO', 'my_PRP$', 'parents_NNS', ';_:', 'none_NN', 'of_IN', 'this_DT', 'would_MD', 'be_VB', 'possible_JJ', 'without_IN', 'you_PRP', '._.', 'And_CC', 'to_TO', 'my_PRP$', 'friends_NNS', ',_,', 'I_PRP', 'love_VBP', 'you_PRP', 'dearly_RB', ';_:', 'you_PRP', 'know_VBP', 'who_WP', 'you_PRP', 'are_VBP', '._.', 'And_CC', 'lastly_RB', ',_,', 'I_PRP', 'just_RB', 'want_VBP', 'to_TO', 'say_VB', 'this_DT', ':_:', 'Making_VBG', 'The_DT', 'Revenant_NNP', 'was_VBD', 'about_IN', 'man_NN', \"'s_POS\", 'relationship_NN', 'to_TO', 'the_DT', 'natural_JJ', 'world_NN', '._.', 'A_DT', 'world_NN', 'that_IN', 'we_PRP', 'collectively_RB', 'felt_VBD', 'in_IN', '2015_CD', 'as_IN', 'the_DT', 'hottest_JJS', 'year_NN', 'in_IN', 'recorded_JJ', 'history_NN', '._.', 'Our_PRP$', 'production_NN', 'needed_VBN', 'to_TO', 'move_VB', 'to_TO', 'the_DT', 'southern_JJ', 'tip_NN', 'of_IN', 'this_DT', 'planet_NN', 'just_RB', 'to_TO', 'be_VB', 'able_JJ', 'to_TO', 'find_VB', 'snow_JJ', '._.', 'Climate_NNP', 'change_NN', 'is_VBZ', 'real_JJ', ',_,', 'it_PRP', 'is_VBZ', 'happening_VBG', 'right_RB', 'now_RB', '._.', 'It_PRP', 'is_VBZ', 'the_DT', 'most_RBS', 'urgent_JJ', 'threat_NN', 'facing_VBG', 'our_PRP$', 'entire_JJ', 'species_NNS', ',_,', 'and_CC', 'we_PRP', 'need_VBP', 'to_TO', 'work_VB', 'collectively_RB', 'together_RB', 'and_CC', 'stop_VB', 'procrastinating_NN', '._.', 'We_PRP', 'need_VBP', 'to_TO', 'support_VB', 'leaders_NNS', 'around_IN', 'the_DT', 'world_NN', 'who_WP', 'do_VBP', 'not_RB', 'speak_VB', 'for_IN', 'the_DT', 'big_JJ', 'polluters_NNS', ',_,', 'but_CC', 'who_WP', 'speak_VBP', 'for_IN', 'all_DT', 'of_IN', 'humanity_NN', ',_,', 'for_IN', 'the_DT', 'indigenous_JJ', 'people_NNS', 'of_IN', 'the_DT', 'world_NN', ',_,', 'for_IN', 'the_DT', 'billions_NNS', 'and_CC', 'billions_NNS', 'of_IN', 'underprivileged_JJ', 'people_NNS', 'out_IN', 'there_EX', 'who_WP', 'would_MD', 'be_VB', 'most_RBS', 'affected_VBN', 'by_IN', 'this_DT', '._.', 'For_IN', 'our_PRP$', 'children_NNS', '’_VBP', 's_JJ', 'children_NNS', ',_,', 'and_CC', 'for_IN', 'those_DT', 'people_NNS', 'out_RP', 'there_RB', 'whose_WP$', 'voices_NNS', 'have_VBP', 'been_VBN', 'drowned_VBN', 'out_RP', 'by_IN', 'the_DT', 'politics_NNS', 'of_IN', 'greed_NN', '._.', 'I_PRP', 'thank_VBP', 'you_PRP', 'all_DT', 'for_IN', 'this_DT', 'amazing_JJ', 'award_NN', 'tonight_NN', '._.', 'Let_VB', 'us_PRP', 'not_RB', 'take_VB', 'this_DT', 'planet_NN', 'for_IN', 'granted_VBN', '._.', 'I_PRP', 'do_VBP', 'not_RB', 'take_VB', 'tonight_NN', 'for_IN', 'granted_VBN', '._.', 'Thank_NNP', 'you_PRP', 'so_RB', 'very_RB', 'much_JJ', '._.']\n"
     ]
    }
   ],
   "source": [
    "\n",
    "print(word_tags)"
   ]
  },
  {
   "cell_type": "code",
   "execution_count": 115,
   "metadata": {},
   "outputs": [],
   "source": [
    "paragraph = \"\"\"The Taj Mahal was built by Emperor Shah Jahan\"\"\"\n",
    "               \n",
    "               \n",
    "# POS Tagging\n",
    "words = nltk.word_tokenize(paragraph)\n",
    "\n",
    "tagged_words = nltk.pos_tag(words)\n"
   ]
  },
  {
   "cell_type": "code",
   "execution_count": 116,
   "metadata": {},
   "outputs": [
    {
     "data": {
      "text/plain": [
       "'\\nORGANIZATION\\tGeorgia-Pacific Corp., WHO\\nPERSON\\tEddy Bonte, President Obama\\nLOCATION\\tMurray River, Mount Everest\\nDATE\\tJune, 2008-06-29\\nTIME\\ttwo fifty a m, 1:30 p.m.\\nMONEY\\t175 million Canadian Dollars, GBP 10.40\\nPERCENT\\ttwenty pct, 18.75 %\\nFACILITY\\tWashington Monument, Stonehenge\\nGPE\\tSouth East Asia, Midlothian\\n'"
      ]
     },
     "execution_count": 116,
     "metadata": {},
     "output_type": "execute_result"
    }
   ],
   "source": [
    "\n",
    "# Named entity recognition\n",
    "namedEnt = nltk.ne_chunk(tagged_words)\n",
    "namedEnt.draw()\n",
    "\n",
    "\"\"\"\n",
    "ORGANIZATION\tGeorgia-Pacific Corp., WHO\n",
    "PERSON\tEddy Bonte, President Obama\n",
    "LOCATION\tMurray River, Mount Everest\n",
    "DATE\tJune, 2008-06-29\n",
    "TIME\ttwo fifty a m, 1:30 p.m.\n",
    "MONEY\t175 million Canadian Dollars, GBP 10.40\n",
    "PERCENT\ttwenty pct, 18.75 %\n",
    "FACILITY\tWashington Monument, Stonehenge\n",
    "GPE\tSouth East Asia, Midlothian\n",
    "\"\"\""
   ]
  },
  {
   "cell_type": "code",
   "execution_count": 119,
   "metadata": {},
   "outputs": [
    {
     "ename": "SyntaxError",
     "evalue": "EOL while scanning string literal (<ipython-input-119-8b0db98b8356>, line 4)",
     "output_type": "error",
     "traceback": [
      "\u001b[1;36m  File \u001b[1;32m\"<ipython-input-119-8b0db98b8356>\"\u001b[1;36m, line \u001b[1;32m4\u001b[0m\n\u001b[1;33m    paragraph = \"Thank you all so very much. Thank you to the Academy.\u001b[0m\n\u001b[1;37m                                                                       ^\u001b[0m\n\u001b[1;31mSyntaxError\u001b[0m\u001b[1;31m:\u001b[0m EOL while scanning string literal\n"
     ]
    }
   ],
   "source": [
    "import nltk\n",
    "import re\n",
    "\n",
    "paragraph = \"Thank you all so very much. Thank you to the Academy. \n",
    "               Thank you to all of you in this room. I have to congratulate \n",
    "               the other incredible nominees this year. The Revenant was \n",
    "               the product of the tireless efforts of an unbelievable cast\n",
    "               and crew. First off, to my brother in this endeavor, Mr. Tom \n",
    "               Hardy. Tom, your talent on screen can only be surpassed by \n",
    "               your friendship off screen … thank you for creating a t\n",
    "               ranscendent cinematic experience. Thank you to everybody at \n",
    "               Fox and New Regency … my entire team. I have to thank \n",
    "               everyone from the very onset of my career … To my parents; \n",
    "               none of this would be possible without you. And to my \n",
    "               friends, I love you dearly; you know who you are. And lastly,\n",
    "               I just want to say this: Making The Revenant was about\n",
    "               man's relationship to the natural world. A world that we\n",
    "               collectively felt in 2015 as the hottest year in recorded\n",
    "               history. Our production needed to move to the southern\n",
    "               tip of this planet just to be able to find snow. Climate\n",
    "               change is real, it is happening right now. It is the most\n",
    "               urgent threat facing our entire species, and we need to work\n",
    "               collectively together and stop procrastinating. We need to\n",
    "               support leaders around the world who do not speak for the \n",
    "               big polluters, but who speak for all of humanity, for the\n",
    "               indigenous people of the world, for the billions and \n",
    "               billions of underprivileged people out there who would be\n",
    "               most affected by this. For our children’s children, and \n",
    "               for those people out there whose voices have been drowned\n",
    "               out by the politics of greed. I thank you all for this \n",
    "               amazing award tonight. Let us not take this planet for \n",
    "               granted. I do not take tonight for granted. Thank you so very much.\"\n",
    "                \n",
    "\n",
    "               \n"
   ]
  },
  {
   "cell_type": "code",
   "execution_count": 120,
   "metadata": {},
   "outputs": [
    {
     "name": "stdout",
     "output_type": "stream",
     "text": [
      "Thank you all so very much. Thank you to the Academy. \n",
      "               Thank you to all of you in this room. I have to congratulate \n",
      "               the other incredible nominees this year. The Revenant was \n",
      "               the product of the tireless efforts of an unbelievable cast\n",
      "               and crew. First off, to my brother in this endeavor, Mr. Tom \n",
      "               Hardy. Tom, your talent on screen can only be surpassed by \n",
      "               your friendship off screen … thank you for creating a t\n",
      "               ranscendent cinematic experience. Thank you to everybody at \n",
      "               Fox and New Regency … my entire team. I have to thank \n",
      "               everyone from the very onset of my career … To my parents; \n",
      "               none of this would be possible without you. And to my \n",
      "               friends, I love you dearly; you know who you are. And lastly,\n",
      "               I just want to say this: Making The Revenant was about\n",
      "               man's relationship to the natural world. A world that we\n",
      "               collectively felt in 2015 as the hottest year in recorded\n",
      "               history. Our production needed to move to the southern\n",
      "               tip of this planet just to be able to find snow. Climate\n",
      "               change is real, it is happening right now. It is the most\n",
      "               urgent threat facing our entire species, and we need to work\n",
      "               collectively together and stop procrastinating. We need to\n",
      "               support leaders around the world who do not speak for the \n",
      "               big polluters, but who speak for all of humanity, for the\n",
      "               indigenous people of the world, for the billions and \n",
      "               billions of underprivileged people out there who would be\n",
      "               most affected by this. For our children’s children, and \n",
      "               for those people out there whose voices have been drowned\n",
      "               out by the politics of greed. I thank you all for this \n",
      "               amazing award tonight. Let us not take this planet for \n",
      "               granted. I do not take tonight for granted. Thank you so very much.\n"
     ]
    }
   ],
   "source": [
    "print(paragraph)"
   ]
  },
  {
   "cell_type": "code",
   "execution_count": 122,
   "metadata": {},
   "outputs": [
    {
     "name": "stdout",
     "output_type": "stream",
     "text": [
      "['thank you all so very much ', 'thank you to the academy ', 'thank you to all of you in this room ', 'i have to congratulate the other incredible nominees this year ', 'the revenant was the product of the tireless efforts of an unbelievable cast and crew ', 'first off to my brother in this endeavor mr tom hardy ', 'tom your talent on screen can only be surpassed by your friendship off screen thank you for creating a t ranscendent cinematic experience ', 'thank you to everybody at fox and new regency my entire team ', 'i have to thank everyone from the very onset of my career to my parents none of this would be possible without you ', 'and to my friends i love you dearly you know who you are ', 'and lastly i just want to say this making the revenant was about man s relationship to the natural world ', 'a world that we collectively felt in 2015 as the hottest year in recorded history ', 'our production needed to move to the southern tip of this planet just to be able to find snow ', 'climate change is real it is happening right now ', 'it is the most urgent threat facing our entire species and we need to work collectively together and stop procrastinating ', 'we need to support leaders around the world who do not speak for the big polluters but who speak for all of humanity for the indigenous people of the world for the billions and billions of underprivileged people out there who would be most affected by this ', 'for our children s children and for those people out there whose voices have been drowned out by the politics of greed ', 'i thank you all for this amazing award tonight ', 'let us not take this planet for granted ', 'i do not take tonight for granted ', 'thank you so very much ']\n"
     ]
    }
   ],
   "source": [
    "# Tokenize sentences\n",
    "#make all the sentences lower, remove speacial characters, remove extra spaces\n",
    "dataset = nltk.sent_tokenize(paragraph)\n",
    "for i in range(len(dataset)):\n",
    "    dataset[i] = dataset[i].lower()\n",
    "    dataset[i] = re.sub(r'\\W',' ',dataset[i])\n",
    "    dataset[i] = re.sub(r'\\s+',' ',dataset[i])\n",
    "print(dataset)"
   ]
  },
  {
   "cell_type": "code",
   "execution_count": 123,
   "metadata": {},
   "outputs": [],
   "source": [
    "# Creating word histogram\n",
    "word2count = {}\n",
    "for data in dataset:\n",
    "    words = nltk.word_tokenize(data)\n",
    "    for word in words:\n",
    "        if word not in word2count.keys():\n",
    "            word2count[word] = 1\n",
    "        else:\n",
    "            word2count[word] += 1"
   ]
  },
  {
   "cell_type": "code",
   "execution_count": 124,
   "metadata": {},
   "outputs": [
    {
     "name": "stdout",
     "output_type": "stream",
     "text": [
      "['thank', 'you', 'so', 'very', 'much']\n"
     ]
    }
   ],
   "source": [
    "print(words)"
   ]
  },
  {
   "cell_type": "code",
   "execution_count": 125,
   "metadata": {},
   "outputs": [
    {
     "name": "stdout",
     "output_type": "stream",
     "text": [
      "{'thank': 8, 'you': 12, 'all': 4, 'so': 2, 'very': 3, 'much': 2, 'to': 16, 'the': 17, 'academy': 1, 'of': 10, 'in': 4, 'this': 9, 'room': 1, 'i': 6, 'have': 3, 'congratulate': 1, 'other': 1, 'incredible': 1, 'nominees': 1, 'year': 2, 'revenant': 2, 'was': 2, 'product': 1, 'tireless': 1, 'efforts': 1, 'an': 1, 'unbelievable': 1, 'cast': 1, 'and': 8, 'crew': 1, 'first': 1, 'off': 2, 'my': 5, 'brother': 1, 'endeavor': 1, 'mr': 1, 'tom': 2, 'hardy': 1, 'your': 2, 'talent': 1, 'on': 1, 'screen': 2, 'can': 1, 'only': 1, 'be': 4, 'surpassed': 1, 'by': 3, 'friendship': 1, 'for': 10, 'creating': 1, 'a': 2, 't': 1, 'ranscendent': 1, 'cinematic': 1, 'experience': 1, 'everybody': 1, 'at': 1, 'fox': 1, 'new': 1, 'regency': 1, 'entire': 2, 'team': 1, 'everyone': 1, 'from': 1, 'onset': 1, 'career': 1, 'parents': 1, 'none': 1, 'would': 2, 'possible': 1, 'without': 1, 'friends': 1, 'love': 1, 'dearly': 1, 'know': 1, 'who': 4, 'are': 1, 'lastly': 1, 'just': 2, 'want': 1, 'say': 1, 'making': 1, 'about': 1, 'man': 1, 's': 2, 'relationship': 1, 'natural': 1, 'world': 4, 'that': 1, 'we': 3, 'collectively': 2, 'felt': 1, '2015': 1, 'as': 1, 'hottest': 1, 'recorded': 1, 'history': 1, 'our': 3, 'production': 1, 'needed': 1, 'move': 1, 'southern': 1, 'tip': 1, 'planet': 2, 'able': 1, 'find': 1, 'snow': 1, 'climate': 1, 'change': 1, 'is': 3, 'real': 1, 'it': 2, 'happening': 1, 'right': 1, 'now': 1, 'most': 2, 'urgent': 1, 'threat': 1, 'facing': 1, 'species': 1, 'need': 2, 'work': 1, 'together': 1, 'stop': 1, 'procrastinating': 1, 'support': 1, 'leaders': 1, 'around': 1, 'do': 2, 'not': 3, 'speak': 2, 'big': 1, 'polluters': 1, 'but': 1, 'humanity': 1, 'indigenous': 1, 'people': 3, 'billions': 2, 'underprivileged': 1, 'out': 3, 'there': 2, 'affected': 1, 'children': 2, 'those': 1, 'whose': 1, 'voices': 1, 'been': 1, 'drowned': 1, 'politics': 1, 'greed': 1, 'amazing': 1, 'award': 1, 'tonight': 2, 'let': 1, 'us': 1, 'take': 2, 'granted': 2}\n"
     ]
    }
   ],
   "source": [
    "print(word2count)"
   ]
  },
  {
   "cell_type": "code",
   "execution_count": 126,
   "metadata": {},
   "outputs": [],
   "source": [
    "import heapq"
   ]
  },
  {
   "cell_type": "code",
   "execution_count": 127,
   "metadata": {},
   "outputs": [],
   "source": [
    "word2count = {}\n",
    "for data in dataset:\n",
    "    words = nltk.word_tokenize(data)\n",
    "    for word in words:\n",
    "        if word not in word2count.keys():\n",
    "            word2count[word] = 1\n",
    "        else:\n",
    "            word2count[word] += 1\n",
    "            \n",
    "# Selecting best 100 features\n",
    "freq_words = heapq.nlargest(100,word2count,key=word2count.get)"
   ]
  },
  {
   "cell_type": "code",
   "execution_count": 130,
   "metadata": {},
   "outputs": [
    {
     "name": "stdout",
     "output_type": "stream",
     "text": [
      "['the', 'to', 'you', 'of', 'for', 'this', 'thank', 'and', 'i', 'my', 'all', 'in', 'be', 'who', 'world', 'very', 'have', 'by', 'we', 'our', 'is', 'not', 'people', 'out', 'so', 'much', 'year', 'revenant', 'was', 'off', 'tom', 'your', 'screen', 'a', 'entire', 'would', 'just', 's', 'collectively', 'planet', 'it', 'most', 'need', 'do', 'speak', 'billions', 'there', 'children', 'tonight', 'take', 'granted', 'academy', 'room', 'congratulate', 'other', 'incredible', 'nominees', 'product', 'tireless', 'efforts', 'an', 'unbelievable', 'cast', 'crew', 'first', 'brother', 'endeavor', 'mr', 'hardy', 'talent', 'on', 'can', 'only', 'surpassed', 'friendship', 'creating', 't', 'ranscendent', 'cinematic', 'experience', 'everybody', 'at', 'fox', 'new', 'regency', 'team', 'everyone', 'from', 'onset', 'career', 'parents', 'none', 'possible', 'without', 'friends', 'love', 'dearly', 'know', 'are', 'lastly']\n",
      "dict_keys(['thank', 'you', 'all', 'so', 'very', 'much', 'to', 'the', 'academy', 'of', 'in', 'this', 'room', 'i', 'have', 'congratulate', 'other', 'incredible', 'nominees', 'year', 'revenant', 'was', 'product', 'tireless', 'efforts', 'an', 'unbelievable', 'cast', 'and', 'crew', 'first', 'off', 'my', 'brother', 'endeavor', 'mr', 'tom', 'hardy', 'your', 'talent', 'on', 'screen', 'can', 'only', 'be', 'surpassed', 'by', 'friendship', 'for', 'creating', 'a', 't', 'ranscendent', 'cinematic', 'experience', 'everybody', 'at', 'fox', 'new', 'regency', 'entire', 'team', 'everyone', 'from', 'onset', 'career', 'parents', 'none', 'would', 'possible', 'without', 'friends', 'love', 'dearly', 'know', 'who', 'are', 'lastly', 'just', 'want', 'say', 'making', 'about', 'man', 's', 'relationship', 'natural', 'world', 'that', 'we', 'collectively', 'felt', '2015', 'as', 'hottest', 'recorded', 'history', 'our', 'production', 'needed', 'move', 'southern', 'tip', 'planet', 'able', 'find', 'snow', 'climate', 'change', 'is', 'real', 'it', 'happening', 'right', 'now', 'most', 'urgent', 'threat', 'facing', 'species', 'need', 'work', 'together', 'stop', 'procrastinating', 'support', 'leaders', 'around', 'do', 'not', 'speak', 'big', 'polluters', 'but', 'humanity', 'indigenous', 'people', 'billions', 'underprivileged', 'out', 'there', 'affected', 'children', 'those', 'whose', 'voices', 'been', 'drowned', 'politics', 'greed', 'amazing', 'award', 'tonight', 'let', 'us', 'take', 'granted']) dict_values([8, 12, 4, 2, 3, 2, 16, 17, 1, 10, 4, 9, 1, 6, 3, 1, 1, 1, 1, 2, 2, 2, 1, 1, 1, 1, 1, 1, 8, 1, 1, 2, 5, 1, 1, 1, 2, 1, 2, 1, 1, 2, 1, 1, 4, 1, 3, 1, 10, 1, 2, 1, 1, 1, 1, 1, 1, 1, 1, 1, 2, 1, 1, 1, 1, 1, 1, 1, 2, 1, 1, 1, 1, 1, 1, 4, 1, 1, 2, 1, 1, 1, 1, 1, 2, 1, 1, 4, 1, 3, 2, 1, 1, 1, 1, 1, 1, 3, 1, 1, 1, 1, 1, 2, 1, 1, 1, 1, 1, 3, 1, 2, 1, 1, 1, 2, 1, 1, 1, 1, 2, 1, 1, 1, 1, 1, 1, 1, 2, 3, 2, 1, 1, 1, 1, 1, 3, 2, 1, 3, 2, 1, 2, 1, 1, 1, 1, 1, 1, 1, 1, 1, 2, 1, 1, 2, 2])\n"
     ]
    }
   ],
   "source": [
    "print(freq_words)\n",
    "print( word2count.keys(),word2count.values())"
   ]
  },
  {
   "cell_type": "code",
   "execution_count": 134,
   "metadata": {},
   "outputs": [],
   "source": [
    "# Converting sentences to vectors\n",
    "X = []\n",
    "for data in dataset:\n",
    "    vector = []\n",
    "    for word in freq_words:\n",
    "        if word in nltk.word_tokenize(data):\n",
    "            vector.append(1)\n",
    "        else:\n",
    "            vector.append(0)\n",
    "    X.append(vector)\n",
    "        \n"
   ]
  },
  {
   "cell_type": "code",
   "execution_count": 135,
   "metadata": {},
   "outputs": [
    {
     "name": "stdout",
     "output_type": "stream",
     "text": [
      "[[0, 0, 1, 0, 0, 0, 1, 0, 0, 0, 1, 0, 0, 0, 0, 1, 0, 0, 0, 0, 0, 0, 0, 0, 1, 1, 0, 0, 0, 0, 0, 0, 0, 0, 0, 0, 0, 0, 0, 0, 0, 0, 0, 0, 0, 0, 0, 0, 0, 0, 0, 0, 0, 0, 0, 0, 0, 0, 0, 0, 0, 0, 0, 0, 0, 0, 0, 0, 0, 0, 0, 0, 0, 0, 0, 0, 0, 0, 0, 0, 0, 0, 0, 0, 0, 0, 0, 0, 0, 0, 0, 0, 0, 0, 0, 0, 0, 0, 0, 0], [1, 1, 1, 0, 0, 0, 1, 0, 0, 0, 0, 0, 0, 0, 0, 0, 0, 0, 0, 0, 0, 0, 0, 0, 0, 0, 0, 0, 0, 0, 0, 0, 0, 0, 0, 0, 0, 0, 0, 0, 0, 0, 0, 0, 0, 0, 0, 0, 0, 0, 0, 1, 0, 0, 0, 0, 0, 0, 0, 0, 0, 0, 0, 0, 0, 0, 0, 0, 0, 0, 0, 0, 0, 0, 0, 0, 0, 0, 0, 0, 0, 0, 0, 0, 0, 0, 0, 0, 0, 0, 0, 0, 0, 0, 0, 0, 0, 0, 0, 0], [0, 1, 1, 1, 0, 1, 1, 0, 0, 0, 1, 1, 0, 0, 0, 0, 0, 0, 0, 0, 0, 0, 0, 0, 0, 0, 0, 0, 0, 0, 0, 0, 0, 0, 0, 0, 0, 0, 0, 0, 0, 0, 0, 0, 0, 0, 0, 0, 0, 0, 0, 0, 1, 0, 0, 0, 0, 0, 0, 0, 0, 0, 0, 0, 0, 0, 0, 0, 0, 0, 0, 0, 0, 0, 0, 0, 0, 0, 0, 0, 0, 0, 0, 0, 0, 0, 0, 0, 0, 0, 0, 0, 0, 0, 0, 0, 0, 0, 0, 0], [1, 1, 0, 0, 0, 1, 0, 0, 1, 0, 0, 0, 0, 0, 0, 0, 1, 0, 0, 0, 0, 0, 0, 0, 0, 0, 1, 0, 0, 0, 0, 0, 0, 0, 0, 0, 0, 0, 0, 0, 0, 0, 0, 0, 0, 0, 0, 0, 0, 0, 0, 0, 0, 1, 1, 1, 1, 0, 0, 0, 0, 0, 0, 0, 0, 0, 0, 0, 0, 0, 0, 0, 0, 0, 0, 0, 0, 0, 0, 0, 0, 0, 0, 0, 0, 0, 0, 0, 0, 0, 0, 0, 0, 0, 0, 0, 0, 0, 0, 0], [1, 0, 0, 1, 0, 0, 0, 1, 0, 0, 0, 0, 0, 0, 0, 0, 0, 0, 0, 0, 0, 0, 0, 0, 0, 0, 0, 1, 1, 0, 0, 0, 0, 0, 0, 0, 0, 0, 0, 0, 0, 0, 0, 0, 0, 0, 0, 0, 0, 0, 0, 0, 0, 0, 0, 0, 0, 1, 1, 1, 1, 1, 1, 1, 0, 0, 0, 0, 0, 0, 0, 0, 0, 0, 0, 0, 0, 0, 0, 0, 0, 0, 0, 0, 0, 0, 0, 0, 0, 0, 0, 0, 0, 0, 0, 0, 0, 0, 0, 0], [0, 1, 0, 0, 0, 1, 0, 0, 0, 1, 0, 1, 0, 0, 0, 0, 0, 0, 0, 0, 0, 0, 0, 0, 0, 0, 0, 0, 0, 1, 1, 0, 0, 0, 0, 0, 0, 0, 0, 0, 0, 0, 0, 0, 0, 0, 0, 0, 0, 0, 0, 0, 0, 0, 0, 0, 0, 0, 0, 0, 0, 0, 0, 0, 1, 1, 1, 1, 1, 0, 0, 0, 0, 0, 0, 0, 0, 0, 0, 0, 0, 0, 0, 0, 0, 0, 0, 0, 0, 0, 0, 0, 0, 0, 0, 0, 0, 0, 0, 0], [0, 0, 1, 0, 1, 0, 1, 0, 0, 0, 0, 0, 1, 0, 0, 0, 0, 1, 0, 0, 0, 0, 0, 0, 0, 0, 0, 0, 0, 1, 1, 1, 1, 1, 0, 0, 0, 0, 0, 0, 0, 0, 0, 0, 0, 0, 0, 0, 0, 0, 0, 0, 0, 0, 0, 0, 0, 0, 0, 0, 0, 0, 0, 0, 0, 0, 0, 0, 0, 1, 1, 1, 1, 1, 1, 1, 1, 1, 1, 1, 0, 0, 0, 0, 0, 0, 0, 0, 0, 0, 0, 0, 0, 0, 0, 0, 0, 0, 0, 0], [0, 1, 1, 0, 0, 0, 1, 1, 0, 1, 0, 0, 0, 0, 0, 0, 0, 0, 0, 0, 0, 0, 0, 0, 0, 0, 0, 0, 0, 0, 0, 0, 0, 0, 1, 0, 0, 0, 0, 0, 0, 0, 0, 0, 0, 0, 0, 0, 0, 0, 0, 0, 0, 0, 0, 0, 0, 0, 0, 0, 0, 0, 0, 0, 0, 0, 0, 0, 0, 0, 0, 0, 0, 0, 0, 0, 0, 0, 0, 0, 1, 1, 1, 1, 1, 1, 0, 0, 0, 0, 0, 0, 0, 0, 0, 0, 0, 0, 0, 0], [1, 1, 1, 1, 0, 1, 1, 0, 1, 1, 0, 0, 1, 0, 0, 1, 1, 0, 0, 0, 0, 0, 0, 0, 0, 0, 0, 0, 0, 0, 0, 0, 0, 0, 0, 1, 0, 0, 0, 0, 0, 0, 0, 0, 0, 0, 0, 0, 0, 0, 0, 0, 0, 0, 0, 0, 0, 0, 0, 0, 0, 0, 0, 0, 0, 0, 0, 0, 0, 0, 0, 0, 0, 0, 0, 0, 0, 0, 0, 0, 0, 0, 0, 0, 0, 0, 1, 1, 1, 1, 1, 1, 1, 1, 0, 0, 0, 0, 0, 0], [0, 1, 1, 0, 0, 0, 0, 1, 1, 1, 0, 0, 0, 1, 0, 0, 0, 0, 0, 0, 0, 0, 0, 0, 0, 0, 0, 0, 0, 0, 0, 0, 0, 0, 0, 0, 0, 0, 0, 0, 0, 0, 0, 0, 0, 0, 0, 0, 0, 0, 0, 0, 0, 0, 0, 0, 0, 0, 0, 0, 0, 0, 0, 0, 0, 0, 0, 0, 0, 0, 0, 0, 0, 0, 0, 0, 0, 0, 0, 0, 0, 0, 0, 0, 0, 0, 0, 0, 0, 0, 0, 0, 0, 0, 1, 1, 1, 1, 1, 0], [1, 1, 0, 0, 0, 1, 0, 1, 1, 0, 0, 0, 0, 0, 1, 0, 0, 0, 0, 0, 0, 0, 0, 0, 0, 0, 0, 1, 1, 0, 0, 0, 0, 0, 0, 0, 1, 1, 0, 0, 0, 0, 0, 0, 0, 0, 0, 0, 0, 0, 0, 0, 0, 0, 0, 0, 0, 0, 0, 0, 0, 0, 0, 0, 0, 0, 0, 0, 0, 0, 0, 0, 0, 0, 0, 0, 0, 0, 0, 0, 0, 0, 0, 0, 0, 0, 0, 0, 0, 0, 0, 0, 0, 0, 0, 0, 0, 0, 0, 1], [1, 0, 0, 0, 0, 0, 0, 0, 0, 0, 0, 1, 0, 0, 1, 0, 0, 0, 1, 0, 0, 0, 0, 0, 0, 0, 1, 0, 0, 0, 0, 0, 0, 1, 0, 0, 0, 0, 1, 0, 0, 0, 0, 0, 0, 0, 0, 0, 0, 0, 0, 0, 0, 0, 0, 0, 0, 0, 0, 0, 0, 0, 0, 0, 0, 0, 0, 0, 0, 0, 0, 0, 0, 0, 0, 0, 0, 0, 0, 0, 0, 0, 0, 0, 0, 0, 0, 0, 0, 0, 0, 0, 0, 0, 0, 0, 0, 0, 0, 0], [1, 1, 0, 1, 0, 1, 0, 0, 0, 0, 0, 0, 1, 0, 0, 0, 0, 0, 0, 1, 0, 0, 0, 0, 0, 0, 0, 0, 0, 0, 0, 0, 0, 0, 0, 0, 1, 0, 0, 1, 0, 0, 0, 0, 0, 0, 0, 0, 0, 0, 0, 0, 0, 0, 0, 0, 0, 0, 0, 0, 0, 0, 0, 0, 0, 0, 0, 0, 0, 0, 0, 0, 0, 0, 0, 0, 0, 0, 0, 0, 0, 0, 0, 0, 0, 0, 0, 0, 0, 0, 0, 0, 0, 0, 0, 0, 0, 0, 0, 0], [0, 0, 0, 0, 0, 0, 0, 0, 0, 0, 0, 0, 0, 0, 0, 0, 0, 0, 0, 0, 1, 0, 0, 0, 0, 0, 0, 0, 0, 0, 0, 0, 0, 0, 0, 0, 0, 0, 0, 0, 1, 0, 0, 0, 0, 0, 0, 0, 0, 0, 0, 0, 0, 0, 0, 0, 0, 0, 0, 0, 0, 0, 0, 0, 0, 0, 0, 0, 0, 0, 0, 0, 0, 0, 0, 0, 0, 0, 0, 0, 0, 0, 0, 0, 0, 0, 0, 0, 0, 0, 0, 0, 0, 0, 0, 0, 0, 0, 0, 0], [1, 1, 0, 0, 0, 0, 0, 1, 0, 0, 0, 0, 0, 0, 0, 0, 0, 0, 1, 1, 1, 0, 0, 0, 0, 0, 0, 0, 0, 0, 0, 0, 0, 0, 1, 0, 0, 0, 1, 0, 1, 1, 1, 0, 0, 0, 0, 0, 0, 0, 0, 0, 0, 0, 0, 0, 0, 0, 0, 0, 0, 0, 0, 0, 0, 0, 0, 0, 0, 0, 0, 0, 0, 0, 0, 0, 0, 0, 0, 0, 0, 0, 0, 0, 0, 0, 0, 0, 0, 0, 0, 0, 0, 0, 0, 0, 0, 0, 0, 0], [1, 1, 0, 1, 1, 1, 0, 1, 0, 0, 1, 0, 1, 1, 1, 0, 0, 1, 1, 0, 0, 1, 1, 1, 0, 0, 0, 0, 0, 0, 0, 0, 0, 0, 0, 1, 0, 0, 0, 0, 0, 1, 1, 1, 1, 1, 1, 0, 0, 0, 0, 0, 0, 0, 0, 0, 0, 0, 0, 0, 0, 0, 0, 0, 0, 0, 0, 0, 0, 0, 0, 0, 0, 0, 0, 0, 0, 0, 0, 0, 0, 0, 0, 0, 0, 0, 0, 0, 0, 0, 0, 0, 0, 0, 0, 0, 0, 0, 0, 0], [1, 0, 0, 1, 1, 0, 0, 1, 0, 0, 0, 0, 0, 0, 0, 0, 1, 1, 0, 1, 0, 0, 1, 1, 0, 0, 0, 0, 0, 0, 0, 0, 0, 0, 0, 0, 0, 1, 0, 0, 0, 0, 0, 0, 0, 0, 1, 1, 0, 0, 0, 0, 0, 0, 0, 0, 0, 0, 0, 0, 0, 0, 0, 0, 0, 0, 0, 0, 0, 0, 0, 0, 0, 0, 0, 0, 0, 0, 0, 0, 0, 0, 0, 0, 0, 0, 0, 0, 0, 0, 0, 0, 0, 0, 0, 0, 0, 0, 0, 0], [0, 0, 1, 0, 1, 1, 1, 0, 1, 0, 1, 0, 0, 0, 0, 0, 0, 0, 0, 0, 0, 0, 0, 0, 0, 0, 0, 0, 0, 0, 0, 0, 0, 0, 0, 0, 0, 0, 0, 0, 0, 0, 0, 0, 0, 0, 0, 0, 1, 0, 0, 0, 0, 0, 0, 0, 0, 0, 0, 0, 0, 0, 0, 0, 0, 0, 0, 0, 0, 0, 0, 0, 0, 0, 0, 0, 0, 0, 0, 0, 0, 0, 0, 0, 0, 0, 0, 0, 0, 0, 0, 0, 0, 0, 0, 0, 0, 0, 0, 0], [0, 0, 0, 0, 1, 1, 0, 0, 0, 0, 0, 0, 0, 0, 0, 0, 0, 0, 0, 0, 0, 1, 0, 0, 0, 0, 0, 0, 0, 0, 0, 0, 0, 0, 0, 0, 0, 0, 0, 1, 0, 0, 0, 0, 0, 0, 0, 0, 0, 1, 1, 0, 0, 0, 0, 0, 0, 0, 0, 0, 0, 0, 0, 0, 0, 0, 0, 0, 0, 0, 0, 0, 0, 0, 0, 0, 0, 0, 0, 0, 0, 0, 0, 0, 0, 0, 0, 0, 0, 0, 0, 0, 0, 0, 0, 0, 0, 0, 0, 0], [0, 0, 0, 0, 1, 0, 0, 0, 1, 0, 0, 0, 0, 0, 0, 0, 0, 0, 0, 0, 0, 1, 0, 0, 0, 0, 0, 0, 0, 0, 0, 0, 0, 0, 0, 0, 0, 0, 0, 0, 0, 0, 0, 1, 0, 0, 0, 0, 1, 1, 1, 0, 0, 0, 0, 0, 0, 0, 0, 0, 0, 0, 0, 0, 0, 0, 0, 0, 0, 0, 0, 0, 0, 0, 0, 0, 0, 0, 0, 0, 0, 0, 0, 0, 0, 0, 0, 0, 0, 0, 0, 0, 0, 0, 0, 0, 0, 0, 0, 0], [0, 0, 1, 0, 0, 0, 1, 0, 0, 0, 0, 0, 0, 0, 0, 1, 0, 0, 0, 0, 0, 0, 0, 0, 1, 1, 0, 0, 0, 0, 0, 0, 0, 0, 0, 0, 0, 0, 0, 0, 0, 0, 0, 0, 0, 0, 0, 0, 0, 0, 0, 0, 0, 0, 0, 0, 0, 0, 0, 0, 0, 0, 0, 0, 0, 0, 0, 0, 0, 0, 0, 0, 0, 0, 0, 0, 0, 0, 0, 0, 0, 0, 0, 0, 0, 0, 0, 0, 0, 0, 0, 0, 0, 0, 0, 0, 0, 0, 0, 0]]\n"
     ]
    }
   ],
   "source": [
    "print(X)"
   ]
  },
  {
   "cell_type": "code",
   "execution_count": 137,
   "metadata": {},
   "outputs": [
    {
     "name": "stdout",
     "output_type": "stream",
     "text": [
      "[[0 0 1 ... 0 0 0]\n",
      " [1 1 1 ... 0 0 0]\n",
      " [0 1 1 ... 0 0 0]\n",
      " ...\n",
      " [0 0 0 ... 0 0 0]\n",
      " [0 0 0 ... 0 0 0]\n",
      " [0 0 1 ... 0 0 0]]\n"
     ]
    }
   ],
   "source": [
    "X = np.asarray(X)\n",
    "print(X)"
   ]
  },
  {
   "cell_type": "code",
   "execution_count": 140,
   "metadata": {},
   "outputs": [],
   "source": [
    "# IDF Dictionary\n",
    "word_idfs = {}\n",
    "for word in freq_words:\n",
    "    doc_count = 0\n",
    "    for data in dataset:\n",
    "        if word in nltk.word_tokenize(data):\n",
    "            doc_count += 1\n",
    "    word_idfs[word] = np.log(len(dataset)/(1+doc_count))"
   ]
  },
  {
   "cell_type": "code",
   "execution_count": 141,
   "metadata": {},
   "outputs": [
    {
     "name": "stdout",
     "output_type": "stream",
     "text": [
      "{'the': 0.6466271649250525, 'to': 0.5596157879354227, 'you': 0.7419373447293773, 'of': 1.0986122886681098, 'for': 1.0986122886681098, 'this': 0.7419373447293773, 'thank': 0.8472978603872037, 'and': 0.965080896043587, 'i': 1.0986122886681098, 'my': 1.4350845252893227, 'all': 1.4350845252893227, 'in': 1.6582280766035324, 'be': 1.4350845252893227, 'who': 1.9459101490553132, 'world': 1.6582280766035324, 'very': 1.6582280766035324, 'have': 1.6582280766035324, 'by': 1.6582280766035324, 'we': 1.6582280766035324, 'our': 1.6582280766035324, 'is': 1.9459101490553132, 'not': 1.6582280766035324, 'people': 1.9459101490553132, 'out': 1.9459101490553132, 'so': 1.9459101490553132, 'much': 1.9459101490553132, 'year': 1.9459101490553132, 'revenant': 1.9459101490553132, 'was': 1.9459101490553132, 'off': 1.9459101490553132, 'tom': 1.9459101490553132, 'your': 2.3513752571634776, 'screen': 2.3513752571634776, 'a': 1.9459101490553132, 'entire': 1.9459101490553132, 'would': 1.9459101490553132, 'just': 1.9459101490553132, 's': 1.9459101490553132, 'collectively': 1.9459101490553132, 'planet': 1.9459101490553132, 'it': 1.9459101490553132, 'most': 1.9459101490553132, 'need': 1.9459101490553132, 'do': 1.9459101490553132, 'speak': 2.3513752571634776, 'billions': 2.3513752571634776, 'there': 1.9459101490553132, 'children': 2.3513752571634776, 'tonight': 1.9459101490553132, 'take': 1.9459101490553132, 'granted': 1.9459101490553132, 'academy': 2.3513752571634776, 'room': 2.3513752571634776, 'congratulate': 2.3513752571634776, 'other': 2.3513752571634776, 'incredible': 2.3513752571634776, 'nominees': 2.3513752571634776, 'product': 2.3513752571634776, 'tireless': 2.3513752571634776, 'efforts': 2.3513752571634776, 'an': 2.3513752571634776, 'unbelievable': 2.3513752571634776, 'cast': 2.3513752571634776, 'crew': 2.3513752571634776, 'first': 2.3513752571634776, 'brother': 2.3513752571634776, 'endeavor': 2.3513752571634776, 'mr': 2.3513752571634776, 'hardy': 2.3513752571634776, 'talent': 2.3513752571634776, 'on': 2.3513752571634776, 'can': 2.3513752571634776, 'only': 2.3513752571634776, 'surpassed': 2.3513752571634776, 'friendship': 2.3513752571634776, 'creating': 2.3513752571634776, 't': 2.3513752571634776, 'ranscendent': 2.3513752571634776, 'cinematic': 2.3513752571634776, 'experience': 2.3513752571634776, 'everybody': 2.3513752571634776, 'at': 2.3513752571634776, 'fox': 2.3513752571634776, 'new': 2.3513752571634776, 'regency': 2.3513752571634776, 'team': 2.3513752571634776, 'everyone': 2.3513752571634776, 'from': 2.3513752571634776, 'onset': 2.3513752571634776, 'career': 2.3513752571634776, 'parents': 2.3513752571634776, 'none': 2.3513752571634776, 'possible': 2.3513752571634776, 'without': 2.3513752571634776, 'friends': 2.3513752571634776, 'love': 2.3513752571634776, 'dearly': 2.3513752571634776, 'know': 2.3513752571634776, 'are': 2.3513752571634776, 'lastly': 2.3513752571634776}\n"
     ]
    }
   ],
   "source": [
    "print(word_idfs)"
   ]
  },
  {
   "cell_type": "code",
   "execution_count": 142,
   "metadata": {},
   "outputs": [],
   "source": [
    "# TF Matrix\n",
    "tf_matrix = {}\n",
    "for word in freq_words:\n",
    "    doc_tf = []\n",
    "    for data in dataset:\n",
    "        frequency = 0\n",
    "        for w in nltk.word_tokenize(data):\n",
    "            if word == w:\n",
    "                frequency += 1\n",
    "        tf_word = frequency/len(nltk.word_tokenize(data))\n",
    "        doc_tf.append(tf_word)\n",
    "    tf_matrix[word] = doc_tf"
   ]
  },
  {
   "cell_type": "code",
   "execution_count": 143,
   "metadata": {},
   "outputs": [
    {
     "name": "stdout",
     "output_type": "stream",
     "text": [
      "{'the': [0.0, 0.2, 0.0, 0.1, 0.2, 0.0, 0.0, 0.0, 0.043478260869565216, 0.0, 0.1, 0.06666666666666667, 0.05263157894736842, 0.0, 0.05, 0.10638297872340426, 0.045454545454545456, 0.0, 0.0, 0.0, 0.0], 'to': [0.0, 0.2, 0.1111111111111111, 0.1, 0.0, 0.09090909090909091, 0.0, 0.08333333333333333, 0.08695652173913043, 0.07692307692307693, 0.1, 0.0, 0.21052631578947367, 0.0, 0.05, 0.02127659574468085, 0.0, 0.0, 0.0, 0.0, 0.0], 'you': [0.16666666666666666, 0.2, 0.2222222222222222, 0.0, 0.0, 0.0, 0.043478260869565216, 0.08333333333333333, 0.043478260869565216, 0.23076923076923078, 0.0, 0.0, 0.0, 0.0, 0.0, 0.0, 0.0, 0.1111111111111111, 0.0, 0.0, 0.2], 'of': [0.0, 0.0, 0.1111111111111111, 0.0, 0.13333333333333333, 0.0, 0.0, 0.0, 0.08695652173913043, 0.0, 0.0, 0.0, 0.05263157894736842, 0.0, 0.0, 0.06382978723404255, 0.045454545454545456, 0.0, 0.0, 0.0, 0.0], 'for': [0.0, 0.0, 0.0, 0.0, 0.0, 0.0, 0.043478260869565216, 0.0, 0.0, 0.0, 0.0, 0.0, 0.0, 0.0, 0.0, 0.0851063829787234, 0.09090909090909091, 0.1111111111111111, 0.125, 0.14285714285714285, 0.0], 'this': [0.0, 0.0, 0.1111111111111111, 0.1, 0.0, 0.09090909090909091, 0.0, 0.0, 0.043478260869565216, 0.0, 0.05, 0.0, 0.05263157894736842, 0.0, 0.0, 0.02127659574468085, 0.0, 0.1111111111111111, 0.125, 0.0, 0.0], 'thank': [0.16666666666666666, 0.2, 0.1111111111111111, 0.0, 0.0, 0.0, 0.043478260869565216, 0.08333333333333333, 0.043478260869565216, 0.0, 0.0, 0.0, 0.0, 0.0, 0.0, 0.0, 0.0, 0.1111111111111111, 0.0, 0.0, 0.2], 'and': [0.0, 0.0, 0.0, 0.0, 0.06666666666666667, 0.0, 0.0, 0.08333333333333333, 0.0, 0.07692307692307693, 0.05, 0.0, 0.0, 0.0, 0.1, 0.02127659574468085, 0.045454545454545456, 0.0, 0.0, 0.0, 0.0], 'i': [0.0, 0.0, 0.0, 0.1, 0.0, 0.0, 0.0, 0.0, 0.043478260869565216, 0.07692307692307693, 0.05, 0.0, 0.0, 0.0, 0.0, 0.0, 0.0, 0.1111111111111111, 0.0, 0.14285714285714285, 0.0], 'my': [0.0, 0.0, 0.0, 0.0, 0.0, 0.09090909090909091, 0.0, 0.08333333333333333, 0.08695652173913043, 0.07692307692307693, 0.0, 0.0, 0.0, 0.0, 0.0, 0.0, 0.0, 0.0, 0.0, 0.0, 0.0], 'all': [0.16666666666666666, 0.0, 0.1111111111111111, 0.0, 0.0, 0.0, 0.0, 0.0, 0.0, 0.0, 0.0, 0.0, 0.0, 0.0, 0.0, 0.02127659574468085, 0.0, 0.1111111111111111, 0.0, 0.0, 0.0], 'in': [0.0, 0.0, 0.1111111111111111, 0.0, 0.0, 0.09090909090909091, 0.0, 0.0, 0.0, 0.0, 0.0, 0.13333333333333333, 0.0, 0.0, 0.0, 0.0, 0.0, 0.0, 0.0, 0.0, 0.0], 'be': [0.0, 0.0, 0.0, 0.0, 0.0, 0.0, 0.043478260869565216, 0.0, 0.043478260869565216, 0.0, 0.0, 0.0, 0.05263157894736842, 0.0, 0.0, 0.02127659574468085, 0.0, 0.0, 0.0, 0.0, 0.0], 'who': [0.0, 0.0, 0.0, 0.0, 0.0, 0.0, 0.0, 0.0, 0.0, 0.07692307692307693, 0.0, 0.0, 0.0, 0.0, 0.0, 0.06382978723404255, 0.0, 0.0, 0.0, 0.0, 0.0], 'world': [0.0, 0.0, 0.0, 0.0, 0.0, 0.0, 0.0, 0.0, 0.0, 0.0, 0.05, 0.06666666666666667, 0.0, 0.0, 0.0, 0.0425531914893617, 0.0, 0.0, 0.0, 0.0, 0.0], 'very': [0.16666666666666666, 0.0, 0.0, 0.0, 0.0, 0.0, 0.0, 0.0, 0.043478260869565216, 0.0, 0.0, 0.0, 0.0, 0.0, 0.0, 0.0, 0.0, 0.0, 0.0, 0.0, 0.2], 'have': [0.0, 0.0, 0.0, 0.1, 0.0, 0.0, 0.0, 0.0, 0.043478260869565216, 0.0, 0.0, 0.0, 0.0, 0.0, 0.0, 0.0, 0.045454545454545456, 0.0, 0.0, 0.0, 0.0], 'by': [0.0, 0.0, 0.0, 0.0, 0.0, 0.0, 0.043478260869565216, 0.0, 0.0, 0.0, 0.0, 0.0, 0.0, 0.0, 0.0, 0.02127659574468085, 0.045454545454545456, 0.0, 0.0, 0.0, 0.0], 'we': [0.0, 0.0, 0.0, 0.0, 0.0, 0.0, 0.0, 0.0, 0.0, 0.0, 0.0, 0.06666666666666667, 0.0, 0.0, 0.05, 0.02127659574468085, 0.0, 0.0, 0.0, 0.0, 0.0], 'our': [0.0, 0.0, 0.0, 0.0, 0.0, 0.0, 0.0, 0.0, 0.0, 0.0, 0.0, 0.0, 0.05263157894736842, 0.0, 0.05, 0.0, 0.045454545454545456, 0.0, 0.0, 0.0, 0.0], 'is': [0.0, 0.0, 0.0, 0.0, 0.0, 0.0, 0.0, 0.0, 0.0, 0.0, 0.0, 0.0, 0.0, 0.2222222222222222, 0.05, 0.0, 0.0, 0.0, 0.0, 0.0, 0.0], 'not': [0.0, 0.0, 0.0, 0.0, 0.0, 0.0, 0.0, 0.0, 0.0, 0.0, 0.0, 0.0, 0.0, 0.0, 0.0, 0.02127659574468085, 0.0, 0.0, 0.125, 0.14285714285714285, 0.0], 'people': [0.0, 0.0, 0.0, 0.0, 0.0, 0.0, 0.0, 0.0, 0.0, 0.0, 0.0, 0.0, 0.0, 0.0, 0.0, 0.0425531914893617, 0.045454545454545456, 0.0, 0.0, 0.0, 0.0], 'out': [0.0, 0.0, 0.0, 0.0, 0.0, 0.0, 0.0, 0.0, 0.0, 0.0, 0.0, 0.0, 0.0, 0.0, 0.0, 0.02127659574468085, 0.09090909090909091, 0.0, 0.0, 0.0, 0.0], 'so': [0.16666666666666666, 0.0, 0.0, 0.0, 0.0, 0.0, 0.0, 0.0, 0.0, 0.0, 0.0, 0.0, 0.0, 0.0, 0.0, 0.0, 0.0, 0.0, 0.0, 0.0, 0.2], 'much': [0.16666666666666666, 0.0, 0.0, 0.0, 0.0, 0.0, 0.0, 0.0, 0.0, 0.0, 0.0, 0.0, 0.0, 0.0, 0.0, 0.0, 0.0, 0.0, 0.0, 0.0, 0.2], 'year': [0.0, 0.0, 0.0, 0.1, 0.0, 0.0, 0.0, 0.0, 0.0, 0.0, 0.0, 0.06666666666666667, 0.0, 0.0, 0.0, 0.0, 0.0, 0.0, 0.0, 0.0, 0.0], 'revenant': [0.0, 0.0, 0.0, 0.0, 0.06666666666666667, 0.0, 0.0, 0.0, 0.0, 0.0, 0.05, 0.0, 0.0, 0.0, 0.0, 0.0, 0.0, 0.0, 0.0, 0.0, 0.0], 'was': [0.0, 0.0, 0.0, 0.0, 0.06666666666666667, 0.0, 0.0, 0.0, 0.0, 0.0, 0.05, 0.0, 0.0, 0.0, 0.0, 0.0, 0.0, 0.0, 0.0, 0.0, 0.0], 'off': [0.0, 0.0, 0.0, 0.0, 0.0, 0.09090909090909091, 0.043478260869565216, 0.0, 0.0, 0.0, 0.0, 0.0, 0.0, 0.0, 0.0, 0.0, 0.0, 0.0, 0.0, 0.0, 0.0], 'tom': [0.0, 0.0, 0.0, 0.0, 0.0, 0.09090909090909091, 0.043478260869565216, 0.0, 0.0, 0.0, 0.0, 0.0, 0.0, 0.0, 0.0, 0.0, 0.0, 0.0, 0.0, 0.0, 0.0], 'your': [0.0, 0.0, 0.0, 0.0, 0.0, 0.0, 0.08695652173913043, 0.0, 0.0, 0.0, 0.0, 0.0, 0.0, 0.0, 0.0, 0.0, 0.0, 0.0, 0.0, 0.0, 0.0], 'screen': [0.0, 0.0, 0.0, 0.0, 0.0, 0.0, 0.08695652173913043, 0.0, 0.0, 0.0, 0.0, 0.0, 0.0, 0.0, 0.0, 0.0, 0.0, 0.0, 0.0, 0.0, 0.0], 'a': [0.0, 0.0, 0.0, 0.0, 0.0, 0.0, 0.043478260869565216, 0.0, 0.0, 0.0, 0.0, 0.06666666666666667, 0.0, 0.0, 0.0, 0.0, 0.0, 0.0, 0.0, 0.0, 0.0], 'entire': [0.0, 0.0, 0.0, 0.0, 0.0, 0.0, 0.0, 0.08333333333333333, 0.0, 0.0, 0.0, 0.0, 0.0, 0.0, 0.05, 0.0, 0.0, 0.0, 0.0, 0.0, 0.0], 'would': [0.0, 0.0, 0.0, 0.0, 0.0, 0.0, 0.0, 0.0, 0.043478260869565216, 0.0, 0.0, 0.0, 0.0, 0.0, 0.0, 0.02127659574468085, 0.0, 0.0, 0.0, 0.0, 0.0], 'just': [0.0, 0.0, 0.0, 0.0, 0.0, 0.0, 0.0, 0.0, 0.0, 0.0, 0.05, 0.0, 0.05263157894736842, 0.0, 0.0, 0.0, 0.0, 0.0, 0.0, 0.0, 0.0], 's': [0.0, 0.0, 0.0, 0.0, 0.0, 0.0, 0.0, 0.0, 0.0, 0.0, 0.05, 0.0, 0.0, 0.0, 0.0, 0.0, 0.045454545454545456, 0.0, 0.0, 0.0, 0.0], 'collectively': [0.0, 0.0, 0.0, 0.0, 0.0, 0.0, 0.0, 0.0, 0.0, 0.0, 0.0, 0.06666666666666667, 0.0, 0.0, 0.05, 0.0, 0.0, 0.0, 0.0, 0.0, 0.0], 'planet': [0.0, 0.0, 0.0, 0.0, 0.0, 0.0, 0.0, 0.0, 0.0, 0.0, 0.0, 0.0, 0.05263157894736842, 0.0, 0.0, 0.0, 0.0, 0.0, 0.125, 0.0, 0.0], 'it': [0.0, 0.0, 0.0, 0.0, 0.0, 0.0, 0.0, 0.0, 0.0, 0.0, 0.0, 0.0, 0.0, 0.1111111111111111, 0.05, 0.0, 0.0, 0.0, 0.0, 0.0, 0.0], 'most': [0.0, 0.0, 0.0, 0.0, 0.0, 0.0, 0.0, 0.0, 0.0, 0.0, 0.0, 0.0, 0.0, 0.0, 0.05, 0.02127659574468085, 0.0, 0.0, 0.0, 0.0, 0.0], 'need': [0.0, 0.0, 0.0, 0.0, 0.0, 0.0, 0.0, 0.0, 0.0, 0.0, 0.0, 0.0, 0.0, 0.0, 0.05, 0.02127659574468085, 0.0, 0.0, 0.0, 0.0, 0.0], 'do': [0.0, 0.0, 0.0, 0.0, 0.0, 0.0, 0.0, 0.0, 0.0, 0.0, 0.0, 0.0, 0.0, 0.0, 0.0, 0.02127659574468085, 0.0, 0.0, 0.0, 0.14285714285714285, 0.0], 'speak': [0.0, 0.0, 0.0, 0.0, 0.0, 0.0, 0.0, 0.0, 0.0, 0.0, 0.0, 0.0, 0.0, 0.0, 0.0, 0.0425531914893617, 0.0, 0.0, 0.0, 0.0, 0.0], 'billions': [0.0, 0.0, 0.0, 0.0, 0.0, 0.0, 0.0, 0.0, 0.0, 0.0, 0.0, 0.0, 0.0, 0.0, 0.0, 0.0425531914893617, 0.0, 0.0, 0.0, 0.0, 0.0], 'there': [0.0, 0.0, 0.0, 0.0, 0.0, 0.0, 0.0, 0.0, 0.0, 0.0, 0.0, 0.0, 0.0, 0.0, 0.0, 0.02127659574468085, 0.045454545454545456, 0.0, 0.0, 0.0, 0.0], 'children': [0.0, 0.0, 0.0, 0.0, 0.0, 0.0, 0.0, 0.0, 0.0, 0.0, 0.0, 0.0, 0.0, 0.0, 0.0, 0.0, 0.09090909090909091, 0.0, 0.0, 0.0, 0.0], 'tonight': [0.0, 0.0, 0.0, 0.0, 0.0, 0.0, 0.0, 0.0, 0.0, 0.0, 0.0, 0.0, 0.0, 0.0, 0.0, 0.0, 0.0, 0.1111111111111111, 0.0, 0.14285714285714285, 0.0], 'take': [0.0, 0.0, 0.0, 0.0, 0.0, 0.0, 0.0, 0.0, 0.0, 0.0, 0.0, 0.0, 0.0, 0.0, 0.0, 0.0, 0.0, 0.0, 0.125, 0.14285714285714285, 0.0], 'granted': [0.0, 0.0, 0.0, 0.0, 0.0, 0.0, 0.0, 0.0, 0.0, 0.0, 0.0, 0.0, 0.0, 0.0, 0.0, 0.0, 0.0, 0.0, 0.125, 0.14285714285714285, 0.0], 'academy': [0.0, 0.2, 0.0, 0.0, 0.0, 0.0, 0.0, 0.0, 0.0, 0.0, 0.0, 0.0, 0.0, 0.0, 0.0, 0.0, 0.0, 0.0, 0.0, 0.0, 0.0], 'room': [0.0, 0.0, 0.1111111111111111, 0.0, 0.0, 0.0, 0.0, 0.0, 0.0, 0.0, 0.0, 0.0, 0.0, 0.0, 0.0, 0.0, 0.0, 0.0, 0.0, 0.0, 0.0], 'congratulate': [0.0, 0.0, 0.0, 0.1, 0.0, 0.0, 0.0, 0.0, 0.0, 0.0, 0.0, 0.0, 0.0, 0.0, 0.0, 0.0, 0.0, 0.0, 0.0, 0.0, 0.0], 'other': [0.0, 0.0, 0.0, 0.1, 0.0, 0.0, 0.0, 0.0, 0.0, 0.0, 0.0, 0.0, 0.0, 0.0, 0.0, 0.0, 0.0, 0.0, 0.0, 0.0, 0.0], 'incredible': [0.0, 0.0, 0.0, 0.1, 0.0, 0.0, 0.0, 0.0, 0.0, 0.0, 0.0, 0.0, 0.0, 0.0, 0.0, 0.0, 0.0, 0.0, 0.0, 0.0, 0.0], 'nominees': [0.0, 0.0, 0.0, 0.1, 0.0, 0.0, 0.0, 0.0, 0.0, 0.0, 0.0, 0.0, 0.0, 0.0, 0.0, 0.0, 0.0, 0.0, 0.0, 0.0, 0.0], 'product': [0.0, 0.0, 0.0, 0.0, 0.06666666666666667, 0.0, 0.0, 0.0, 0.0, 0.0, 0.0, 0.0, 0.0, 0.0, 0.0, 0.0, 0.0, 0.0, 0.0, 0.0, 0.0], 'tireless': [0.0, 0.0, 0.0, 0.0, 0.06666666666666667, 0.0, 0.0, 0.0, 0.0, 0.0, 0.0, 0.0, 0.0, 0.0, 0.0, 0.0, 0.0, 0.0, 0.0, 0.0, 0.0], 'efforts': [0.0, 0.0, 0.0, 0.0, 0.06666666666666667, 0.0, 0.0, 0.0, 0.0, 0.0, 0.0, 0.0, 0.0, 0.0, 0.0, 0.0, 0.0, 0.0, 0.0, 0.0, 0.0], 'an': [0.0, 0.0, 0.0, 0.0, 0.06666666666666667, 0.0, 0.0, 0.0, 0.0, 0.0, 0.0, 0.0, 0.0, 0.0, 0.0, 0.0, 0.0, 0.0, 0.0, 0.0, 0.0], 'unbelievable': [0.0, 0.0, 0.0, 0.0, 0.06666666666666667, 0.0, 0.0, 0.0, 0.0, 0.0, 0.0, 0.0, 0.0, 0.0, 0.0, 0.0, 0.0, 0.0, 0.0, 0.0, 0.0], 'cast': [0.0, 0.0, 0.0, 0.0, 0.06666666666666667, 0.0, 0.0, 0.0, 0.0, 0.0, 0.0, 0.0, 0.0, 0.0, 0.0, 0.0, 0.0, 0.0, 0.0, 0.0, 0.0], 'crew': [0.0, 0.0, 0.0, 0.0, 0.06666666666666667, 0.0, 0.0, 0.0, 0.0, 0.0, 0.0, 0.0, 0.0, 0.0, 0.0, 0.0, 0.0, 0.0, 0.0, 0.0, 0.0], 'first': [0.0, 0.0, 0.0, 0.0, 0.0, 0.09090909090909091, 0.0, 0.0, 0.0, 0.0, 0.0, 0.0, 0.0, 0.0, 0.0, 0.0, 0.0, 0.0, 0.0, 0.0, 0.0], 'brother': [0.0, 0.0, 0.0, 0.0, 0.0, 0.09090909090909091, 0.0, 0.0, 0.0, 0.0, 0.0, 0.0, 0.0, 0.0, 0.0, 0.0, 0.0, 0.0, 0.0, 0.0, 0.0], 'endeavor': [0.0, 0.0, 0.0, 0.0, 0.0, 0.09090909090909091, 0.0, 0.0, 0.0, 0.0, 0.0, 0.0, 0.0, 0.0, 0.0, 0.0, 0.0, 0.0, 0.0, 0.0, 0.0], 'mr': [0.0, 0.0, 0.0, 0.0, 0.0, 0.09090909090909091, 0.0, 0.0, 0.0, 0.0, 0.0, 0.0, 0.0, 0.0, 0.0, 0.0, 0.0, 0.0, 0.0, 0.0, 0.0], 'hardy': [0.0, 0.0, 0.0, 0.0, 0.0, 0.09090909090909091, 0.0, 0.0, 0.0, 0.0, 0.0, 0.0, 0.0, 0.0, 0.0, 0.0, 0.0, 0.0, 0.0, 0.0, 0.0], 'talent': [0.0, 0.0, 0.0, 0.0, 0.0, 0.0, 0.043478260869565216, 0.0, 0.0, 0.0, 0.0, 0.0, 0.0, 0.0, 0.0, 0.0, 0.0, 0.0, 0.0, 0.0, 0.0], 'on': [0.0, 0.0, 0.0, 0.0, 0.0, 0.0, 0.043478260869565216, 0.0, 0.0, 0.0, 0.0, 0.0, 0.0, 0.0, 0.0, 0.0, 0.0, 0.0, 0.0, 0.0, 0.0], 'can': [0.0, 0.0, 0.0, 0.0, 0.0, 0.0, 0.043478260869565216, 0.0, 0.0, 0.0, 0.0, 0.0, 0.0, 0.0, 0.0, 0.0, 0.0, 0.0, 0.0, 0.0, 0.0], 'only': [0.0, 0.0, 0.0, 0.0, 0.0, 0.0, 0.043478260869565216, 0.0, 0.0, 0.0, 0.0, 0.0, 0.0, 0.0, 0.0, 0.0, 0.0, 0.0, 0.0, 0.0, 0.0], 'surpassed': [0.0, 0.0, 0.0, 0.0, 0.0, 0.0, 0.043478260869565216, 0.0, 0.0, 0.0, 0.0, 0.0, 0.0, 0.0, 0.0, 0.0, 0.0, 0.0, 0.0, 0.0, 0.0], 'friendship': [0.0, 0.0, 0.0, 0.0, 0.0, 0.0, 0.043478260869565216, 0.0, 0.0, 0.0, 0.0, 0.0, 0.0, 0.0, 0.0, 0.0, 0.0, 0.0, 0.0, 0.0, 0.0], 'creating': [0.0, 0.0, 0.0, 0.0, 0.0, 0.0, 0.043478260869565216, 0.0, 0.0, 0.0, 0.0, 0.0, 0.0, 0.0, 0.0, 0.0, 0.0, 0.0, 0.0, 0.0, 0.0], 't': [0.0, 0.0, 0.0, 0.0, 0.0, 0.0, 0.043478260869565216, 0.0, 0.0, 0.0, 0.0, 0.0, 0.0, 0.0, 0.0, 0.0, 0.0, 0.0, 0.0, 0.0, 0.0], 'ranscendent': [0.0, 0.0, 0.0, 0.0, 0.0, 0.0, 0.043478260869565216, 0.0, 0.0, 0.0, 0.0, 0.0, 0.0, 0.0, 0.0, 0.0, 0.0, 0.0, 0.0, 0.0, 0.0], 'cinematic': [0.0, 0.0, 0.0, 0.0, 0.0, 0.0, 0.043478260869565216, 0.0, 0.0, 0.0, 0.0, 0.0, 0.0, 0.0, 0.0, 0.0, 0.0, 0.0, 0.0, 0.0, 0.0], 'experience': [0.0, 0.0, 0.0, 0.0, 0.0, 0.0, 0.043478260869565216, 0.0, 0.0, 0.0, 0.0, 0.0, 0.0, 0.0, 0.0, 0.0, 0.0, 0.0, 0.0, 0.0, 0.0], 'everybody': [0.0, 0.0, 0.0, 0.0, 0.0, 0.0, 0.0, 0.08333333333333333, 0.0, 0.0, 0.0, 0.0, 0.0, 0.0, 0.0, 0.0, 0.0, 0.0, 0.0, 0.0, 0.0], 'at': [0.0, 0.0, 0.0, 0.0, 0.0, 0.0, 0.0, 0.08333333333333333, 0.0, 0.0, 0.0, 0.0, 0.0, 0.0, 0.0, 0.0, 0.0, 0.0, 0.0, 0.0, 0.0], 'fox': [0.0, 0.0, 0.0, 0.0, 0.0, 0.0, 0.0, 0.08333333333333333, 0.0, 0.0, 0.0, 0.0, 0.0, 0.0, 0.0, 0.0, 0.0, 0.0, 0.0, 0.0, 0.0], 'new': [0.0, 0.0, 0.0, 0.0, 0.0, 0.0, 0.0, 0.08333333333333333, 0.0, 0.0, 0.0, 0.0, 0.0, 0.0, 0.0, 0.0, 0.0, 0.0, 0.0, 0.0, 0.0], 'regency': [0.0, 0.0, 0.0, 0.0, 0.0, 0.0, 0.0, 0.08333333333333333, 0.0, 0.0, 0.0, 0.0, 0.0, 0.0, 0.0, 0.0, 0.0, 0.0, 0.0, 0.0, 0.0], 'team': [0.0, 0.0, 0.0, 0.0, 0.0, 0.0, 0.0, 0.08333333333333333, 0.0, 0.0, 0.0, 0.0, 0.0, 0.0, 0.0, 0.0, 0.0, 0.0, 0.0, 0.0, 0.0], 'everyone': [0.0, 0.0, 0.0, 0.0, 0.0, 0.0, 0.0, 0.0, 0.043478260869565216, 0.0, 0.0, 0.0, 0.0, 0.0, 0.0, 0.0, 0.0, 0.0, 0.0, 0.0, 0.0], 'from': [0.0, 0.0, 0.0, 0.0, 0.0, 0.0, 0.0, 0.0, 0.043478260869565216, 0.0, 0.0, 0.0, 0.0, 0.0, 0.0, 0.0, 0.0, 0.0, 0.0, 0.0, 0.0], 'onset': [0.0, 0.0, 0.0, 0.0, 0.0, 0.0, 0.0, 0.0, 0.043478260869565216, 0.0, 0.0, 0.0, 0.0, 0.0, 0.0, 0.0, 0.0, 0.0, 0.0, 0.0, 0.0], 'career': [0.0, 0.0, 0.0, 0.0, 0.0, 0.0, 0.0, 0.0, 0.043478260869565216, 0.0, 0.0, 0.0, 0.0, 0.0, 0.0, 0.0, 0.0, 0.0, 0.0, 0.0, 0.0], 'parents': [0.0, 0.0, 0.0, 0.0, 0.0, 0.0, 0.0, 0.0, 0.043478260869565216, 0.0, 0.0, 0.0, 0.0, 0.0, 0.0, 0.0, 0.0, 0.0, 0.0, 0.0, 0.0], 'none': [0.0, 0.0, 0.0, 0.0, 0.0, 0.0, 0.0, 0.0, 0.043478260869565216, 0.0, 0.0, 0.0, 0.0, 0.0, 0.0, 0.0, 0.0, 0.0, 0.0, 0.0, 0.0], 'possible': [0.0, 0.0, 0.0, 0.0, 0.0, 0.0, 0.0, 0.0, 0.043478260869565216, 0.0, 0.0, 0.0, 0.0, 0.0, 0.0, 0.0, 0.0, 0.0, 0.0, 0.0, 0.0], 'without': [0.0, 0.0, 0.0, 0.0, 0.0, 0.0, 0.0, 0.0, 0.043478260869565216, 0.0, 0.0, 0.0, 0.0, 0.0, 0.0, 0.0, 0.0, 0.0, 0.0, 0.0, 0.0], 'friends': [0.0, 0.0, 0.0, 0.0, 0.0, 0.0, 0.0, 0.0, 0.0, 0.07692307692307693, 0.0, 0.0, 0.0, 0.0, 0.0, 0.0, 0.0, 0.0, 0.0, 0.0, 0.0], 'love': [0.0, 0.0, 0.0, 0.0, 0.0, 0.0, 0.0, 0.0, 0.0, 0.07692307692307693, 0.0, 0.0, 0.0, 0.0, 0.0, 0.0, 0.0, 0.0, 0.0, 0.0, 0.0], 'dearly': [0.0, 0.0, 0.0, 0.0, 0.0, 0.0, 0.0, 0.0, 0.0, 0.07692307692307693, 0.0, 0.0, 0.0, 0.0, 0.0, 0.0, 0.0, 0.0, 0.0, 0.0, 0.0], 'know': [0.0, 0.0, 0.0, 0.0, 0.0, 0.0, 0.0, 0.0, 0.0, 0.07692307692307693, 0.0, 0.0, 0.0, 0.0, 0.0, 0.0, 0.0, 0.0, 0.0, 0.0, 0.0], 'are': [0.0, 0.0, 0.0, 0.0, 0.0, 0.0, 0.0, 0.0, 0.0, 0.07692307692307693, 0.0, 0.0, 0.0, 0.0, 0.0, 0.0, 0.0, 0.0, 0.0, 0.0, 0.0], 'lastly': [0.0, 0.0, 0.0, 0.0, 0.0, 0.0, 0.0, 0.0, 0.0, 0.0, 0.05, 0.0, 0.0, 0.0, 0.0, 0.0, 0.0, 0.0, 0.0, 0.0, 0.0]}\n"
     ]
    }
   ],
   "source": [
    "print(tf_matrix)"
   ]
  },
  {
   "cell_type": "code",
   "execution_count": 144,
   "metadata": {},
   "outputs": [],
   "source": [
    "# Creating the Tf-Idf Model\n",
    "tfidf_matrix = []\n",
    "for word in tf_matrix.keys():\n",
    "    tfidf = []\n",
    "    for value in tf_matrix[word]:\n",
    "        score = value * word_idfs[word]\n",
    "        tfidf.append(score)\n",
    "    tfidf_matrix.append(tfidf)   "
   ]
  },
  {
   "cell_type": "code",
   "execution_count": 145,
   "metadata": {
    "scrolled": true
   },
   "outputs": [
    {
     "name": "stdout",
     "output_type": "stream",
     "text": [
      "[[0.0, 0.1293254329850105, 0.0, 0.06466271649250525, 0.1293254329850105, 0.0, 0.0, 0.0, 0.028114224561958803, 0.0, 0.06466271649250525, 0.04310847766167016, 0.034033008680265917, 0.0, 0.03233135824625263, 0.06879012392819707, 0.029392143860229657, 0.0, 0.0, 0.0, 0.0], [0.0, 0.11192315758708454, 0.062179531992824735, 0.05596157879354227, 0.0, 0.05087416253958388, 0.0, 0.046634648994618555, 0.04866224242916719, 0.04304736830272482, 0.05596157879354227, 0.0, 0.11781385009166792, 0.0, 0.027980789396771136, 0.011906718892243035, 0.0, 0.0, 0.0, 0.0, 0.0], [0.12365622412156288, 0.14838746894587548, 0.16487496549541716, 0.0, 0.0, 0.0, 0.0322581454230164, 0.06182811206078144, 0.0322581454230164, 0.171216310322164, 0.0, 0.0, 0.0, 0.0, 0.0, 0.0, 0.0, 0.08243748274770858, 0.0, 0.0, 0.14838746894587548], [0.0, 0.0, 0.12206803207423442, 0.0, 0.1464816384890813, 0.0, 0.0, 0.0, 0.09553150336244433, 0.0, 0.0, 0.0, 0.057821699403584725, 0.0, 0.0, 0.07012418863838998, 0.04993692221218681, 0.0, 0.0, 0.0, 0.0], [0.0, 0.0, 0.0, 0.0, 0.0, 0.0, 0.047765751681222164, 0.0, 0.0, 0.0, 0.0, 0.0, 0.0, 0.0, 0.0, 0.09349891818451998, 0.09987384442437362, 0.12206803207423442, 0.13732653608351372, 0.15694461266687282, 0.0], [0.0, 0.0, 0.08243748274770858, 0.07419373447293774, 0.0, 0.06744884952085249, 0.0, 0.0, 0.0322581454230164, 0.0, 0.03709686723646887, 0.0, 0.03904933393312512, 0.0, 0.0, 0.01578590095168888, 0.0, 0.08243748274770858, 0.09274216809117217, 0.0, 0.0], [0.14121631006453395, 0.16945957207744075, 0.09414420670968929, 0.0, 0.0, 0.0, 0.03683903740813929, 0.07060815503226697, 0.03683903740813929, 0.0, 0.0, 0.0, 0.0, 0.0, 0.0, 0.0, 0.0, 0.09414420670968929, 0.0, 0.0, 0.16945957207744075], [0.0, 0.0, 0.0, 0.0, 0.0643387264029058, 0.0, 0.0, 0.08042340800363225, 0.0, 0.07423699200335285, 0.048254044802179354, 0.0, 0.0, 0.0, 0.09650808960435871, 0.020533636086033768, 0.04386731345652668, 0.0, 0.0, 0.0, 0.0], [0.0, 0.0, 0.0, 0.10986122886681099, 0.0, 0.0, 0.0, 0.0, 0.047765751681222164, 0.08450863758985461, 0.054930614433405495, 0.0, 0.0, 0.0, 0.0, 0.0, 0.0, 0.12206803207423442, 0.0, 0.15694461266687282, 0.0], [0.0, 0.0, 0.0, 0.0, 0.0, 0.13046222957175663, 0.0, 0.11959037710744355, 0.12478995872081067, 0.11039111732994791, 0.0, 0.0, 0.0, 0.0, 0.0, 0.0, 0.0, 0.0, 0.0, 0.0, 0.0], [0.2391807542148871, 0.0, 0.15945383614325806, 0.0, 0.0, 0.0, 0.0, 0.0, 0.0, 0.0, 0.0, 0.0, 0.0, 0.0, 0.0, 0.030533713304028143, 0.0, 0.15945383614325806, 0.0, 0.0, 0.0], [0.0, 0.0, 0.18424756406705914, 0.0, 0.0, 0.1507480069639575, 0.0, 0.0, 0.0, 0.0, 0.0, 0.22109707688047098, 0.0, 0.0, 0.0, 0.0, 0.0, 0.0, 0.0, 0.0, 0.0], [0.0, 0.0, 0.0, 0.0, 0.0, 0.0, 0.062394979360405334, 0.0, 0.062394979360405334, 0.0, 0.0, 0.0, 0.07553076448891172, 0.0, 0.0, 0.030533713304028143, 0.0, 0.0, 0.0, 0.0, 0.0], [0.0, 0.0, 0.0, 0.0, 0.0, 0.0, 0.0, 0.0, 0.0, 0.14968539608117795, 0.0, 0.0, 0.0, 0.0, 0.0, 0.12420703079076466, 0.0, 0.0, 0.0, 0.0, 0.0], [0.0, 0.0, 0.0, 0.0, 0.0, 0.0, 0.0, 0.0, 0.0, 0.0, 0.08291140383017663, 0.11054853844023549, 0.0, 0.0, 0.0, 0.07056289687674606, 0.0, 0.0, 0.0, 0.0, 0.0], [0.2763713461005887, 0.0, 0.0, 0.0, 0.0, 0.0, 0.0, 0.0, 0.07209687289580576, 0.0, 0.0, 0.0, 0.0, 0.0, 0.0, 0.0, 0.0, 0.0, 0.0, 0.0, 0.3316456153207065], [0.0, 0.0, 0.0, 0.16582280766035326, 0.0, 0.0, 0.0, 0.0, 0.07209687289580576, 0.0, 0.0, 0.0, 0.0, 0.0, 0.0, 0.0, 0.07537400348197874, 0.0, 0.0, 0.0, 0.0], [0.0, 0.0, 0.0, 0.0, 0.0, 0.0, 0.07209687289580576, 0.0, 0.0, 0.0, 0.0, 0.0, 0.0, 0.0, 0.0, 0.03528144843837303, 0.07537400348197874, 0.0, 0.0, 0.0, 0.0], [0.0, 0.0, 0.0, 0.0, 0.0, 0.0, 0.0, 0.0, 0.0, 0.0, 0.0, 0.11054853844023549, 0.0, 0.0, 0.08291140383017663, 0.03528144843837303, 0.0, 0.0, 0.0, 0.0, 0.0], [0.0, 0.0, 0.0, 0.0, 0.0, 0.0, 0.0, 0.0, 0.0, 0.0, 0.0, 0.0, 0.0872751619265017, 0.0, 0.08291140383017663, 0.0, 0.07537400348197874, 0.0, 0.0, 0.0, 0.0], [0.0, 0.0, 0.0, 0.0, 0.0, 0.0, 0.0, 0.0, 0.0, 0.0, 0.0, 0.0, 0.0, 0.43242447756784735, 0.09729550745276566, 0.0, 0.0, 0.0, 0.0, 0.0, 0.0], [0.0, 0.0, 0.0, 0.0, 0.0, 0.0, 0.0, 0.0, 0.0, 0.0, 0.0, 0.0, 0.0, 0.0, 0.0, 0.03528144843837303, 0.0, 0.0, 0.20727850957544156, 0.23688972522907606, 0.0], [0.0, 0.0, 0.0, 0.0, 0.0, 0.0, 0.0, 0.0, 0.0, 0.0, 0.0, 0.0, 0.0, 0.0, 0.0, 0.08280468719384311, 0.08845046132069606, 0.0, 0.0, 0.0, 0.0], [0.0, 0.0, 0.0, 0.0, 0.0, 0.0, 0.0, 0.0, 0.0, 0.0, 0.0, 0.0, 0.0, 0.0, 0.0, 0.041402343596921555, 0.17690092264139212, 0.0, 0.0, 0.0, 0.0], [0.3243183581758855, 0.0, 0.0, 0.0, 0.0, 0.0, 0.0, 0.0, 0.0, 0.0, 0.0, 0.0, 0.0, 0.0, 0.0, 0.0, 0.0, 0.0, 0.0, 0.0, 0.38918202981106265], [0.3243183581758855, 0.0, 0.0, 0.0, 0.0, 0.0, 0.0, 0.0, 0.0, 0.0, 0.0, 0.0, 0.0, 0.0, 0.0, 0.0, 0.0, 0.0, 0.0, 0.0, 0.38918202981106265], [0.0, 0.0, 0.0, 0.19459101490553132, 0.0, 0.0, 0.0, 0.0, 0.0, 0.0, 0.0, 0.1297273432703542, 0.0, 0.0, 0.0, 0.0, 0.0, 0.0, 0.0, 0.0, 0.0], [0.0, 0.0, 0.0, 0.0, 0.1297273432703542, 0.0, 0.0, 0.0, 0.0, 0.0, 0.09729550745276566, 0.0, 0.0, 0.0, 0.0, 0.0, 0.0, 0.0, 0.0, 0.0, 0.0], [0.0, 0.0, 0.0, 0.0, 0.1297273432703542, 0.0, 0.0, 0.0, 0.0, 0.0, 0.09729550745276566, 0.0, 0.0, 0.0, 0.0, 0.0, 0.0, 0.0, 0.0, 0.0, 0.0], [0.0, 0.0, 0.0, 0.0, 0.0, 0.17690092264139212, 0.08460478908936145, 0.0, 0.0, 0.0, 0.0, 0.0, 0.0, 0.0, 0.0, 0.0, 0.0, 0.0, 0.0, 0.0, 0.0], [0.0, 0.0, 0.0, 0.0, 0.0, 0.17690092264139212, 0.08460478908936145, 0.0, 0.0, 0.0, 0.0, 0.0, 0.0, 0.0, 0.0, 0.0, 0.0, 0.0, 0.0, 0.0, 0.0], [0.0, 0.0, 0.0, 0.0, 0.0, 0.0, 0.20446741366638935, 0.0, 0.0, 0.0, 0.0, 0.0, 0.0, 0.0, 0.0, 0.0, 0.0, 0.0, 0.0, 0.0, 0.0], [0.0, 0.0, 0.0, 0.0, 0.0, 0.0, 0.20446741366638935, 0.0, 0.0, 0.0, 0.0, 0.0, 0.0, 0.0, 0.0, 0.0, 0.0, 0.0, 0.0, 0.0, 0.0], [0.0, 0.0, 0.0, 0.0, 0.0, 0.0, 0.08460478908936145, 0.0, 0.0, 0.0, 0.0, 0.1297273432703542, 0.0, 0.0, 0.0, 0.0, 0.0, 0.0, 0.0, 0.0, 0.0], [0.0, 0.0, 0.0, 0.0, 0.0, 0.0, 0.0, 0.16215917908794275, 0.0, 0.0, 0.0, 0.0, 0.0, 0.0, 0.09729550745276566, 0.0, 0.0, 0.0, 0.0, 0.0, 0.0], [0.0, 0.0, 0.0, 0.0, 0.0, 0.0, 0.0, 0.0, 0.08460478908936145, 0.0, 0.0, 0.0, 0.0, 0.0, 0.0, 0.041402343596921555, 0.0, 0.0, 0.0, 0.0, 0.0], [0.0, 0.0, 0.0, 0.0, 0.0, 0.0, 0.0, 0.0, 0.0, 0.0, 0.09729550745276566, 0.0, 0.10241632363449016, 0.0, 0.0, 0.0, 0.0, 0.0, 0.0, 0.0, 0.0], [0.0, 0.0, 0.0, 0.0, 0.0, 0.0, 0.0, 0.0, 0.0, 0.0, 0.09729550745276566, 0.0, 0.0, 0.0, 0.0, 0.0, 0.08845046132069606, 0.0, 0.0, 0.0, 0.0], [0.0, 0.0, 0.0, 0.0, 0.0, 0.0, 0.0, 0.0, 0.0, 0.0, 0.0, 0.1297273432703542, 0.0, 0.0, 0.09729550745276566, 0.0, 0.0, 0.0, 0.0, 0.0, 0.0], [0.0, 0.0, 0.0, 0.0, 0.0, 0.0, 0.0, 0.0, 0.0, 0.0, 0.0, 0.0, 0.10241632363449016, 0.0, 0.0, 0.0, 0.0, 0.0, 0.24323876863191415, 0.0, 0.0], [0.0, 0.0, 0.0, 0.0, 0.0, 0.0, 0.0, 0.0, 0.0, 0.0, 0.0, 0.0, 0.0, 0.21621223878392368, 0.09729550745276566, 0.0, 0.0, 0.0, 0.0, 0.0, 0.0], [0.0, 0.0, 0.0, 0.0, 0.0, 0.0, 0.0, 0.0, 0.0, 0.0, 0.0, 0.0, 0.0, 0.0, 0.09729550745276566, 0.041402343596921555, 0.0, 0.0, 0.0, 0.0, 0.0], [0.0, 0.0, 0.0, 0.0, 0.0, 0.0, 0.0, 0.0, 0.0, 0.0, 0.0, 0.0, 0.0, 0.0, 0.09729550745276566, 0.041402343596921555, 0.0, 0.0, 0.0, 0.0, 0.0], [0.0, 0.0, 0.0, 0.0, 0.0, 0.0, 0.0, 0.0, 0.0, 0.0, 0.0, 0.0, 0.0, 0.0, 0.0, 0.041402343596921555, 0.0, 0.0, 0.0, 0.277987164150759, 0.0], [0.0, 0.0, 0.0, 0.0, 0.0, 0.0, 0.0, 0.0, 0.0, 0.0, 0.0, 0.0, 0.0, 0.0, 0.0, 0.10005852158142457, 0.0, 0.0, 0.0, 0.0, 0.0], [0.0, 0.0, 0.0, 0.0, 0.0, 0.0, 0.0, 0.0, 0.0, 0.0, 0.0, 0.0, 0.0, 0.0, 0.0, 0.10005852158142457, 0.0, 0.0, 0.0, 0.0, 0.0], [0.0, 0.0, 0.0, 0.0, 0.0, 0.0, 0.0, 0.0, 0.0, 0.0, 0.0, 0.0, 0.0, 0.0, 0.0, 0.041402343596921555, 0.08845046132069606, 0.0, 0.0, 0.0, 0.0], [0.0, 0.0, 0.0, 0.0, 0.0, 0.0, 0.0, 0.0, 0.0, 0.0, 0.0, 0.0, 0.0, 0.0, 0.0, 0.0, 0.2137613870148616, 0.0, 0.0, 0.0, 0.0], [0.0, 0.0, 0.0, 0.0, 0.0, 0.0, 0.0, 0.0, 0.0, 0.0, 0.0, 0.0, 0.0, 0.0, 0.0, 0.0, 0.0, 0.21621223878392368, 0.0, 0.277987164150759, 0.0], [0.0, 0.0, 0.0, 0.0, 0.0, 0.0, 0.0, 0.0, 0.0, 0.0, 0.0, 0.0, 0.0, 0.0, 0.0, 0.0, 0.0, 0.0, 0.24323876863191415, 0.277987164150759, 0.0], [0.0, 0.0, 0.0, 0.0, 0.0, 0.0, 0.0, 0.0, 0.0, 0.0, 0.0, 0.0, 0.0, 0.0, 0.0, 0.0, 0.0, 0.0, 0.24323876863191415, 0.277987164150759, 0.0], [0.0, 0.47027505143269555, 0.0, 0.0, 0.0, 0.0, 0.0, 0.0, 0.0, 0.0, 0.0, 0.0, 0.0, 0.0, 0.0, 0.0, 0.0, 0.0, 0.0, 0.0, 0.0], [0.0, 0.0, 0.26126391746260863, 0.0, 0.0, 0.0, 0.0, 0.0, 0.0, 0.0, 0.0, 0.0, 0.0, 0.0, 0.0, 0.0, 0.0, 0.0, 0.0, 0.0, 0.0], [0.0, 0.0, 0.0, 0.23513752571634777, 0.0, 0.0, 0.0, 0.0, 0.0, 0.0, 0.0, 0.0, 0.0, 0.0, 0.0, 0.0, 0.0, 0.0, 0.0, 0.0, 0.0], [0.0, 0.0, 0.0, 0.23513752571634777, 0.0, 0.0, 0.0, 0.0, 0.0, 0.0, 0.0, 0.0, 0.0, 0.0, 0.0, 0.0, 0.0, 0.0, 0.0, 0.0, 0.0], [0.0, 0.0, 0.0, 0.23513752571634777, 0.0, 0.0, 0.0, 0.0, 0.0, 0.0, 0.0, 0.0, 0.0, 0.0, 0.0, 0.0, 0.0, 0.0, 0.0, 0.0, 0.0], [0.0, 0.0, 0.0, 0.23513752571634777, 0.0, 0.0, 0.0, 0.0, 0.0, 0.0, 0.0, 0.0, 0.0, 0.0, 0.0, 0.0, 0.0, 0.0, 0.0, 0.0, 0.0], [0.0, 0.0, 0.0, 0.0, 0.15675835047756517, 0.0, 0.0, 0.0, 0.0, 0.0, 0.0, 0.0, 0.0, 0.0, 0.0, 0.0, 0.0, 0.0, 0.0, 0.0, 0.0], [0.0, 0.0, 0.0, 0.0, 0.15675835047756517, 0.0, 0.0, 0.0, 0.0, 0.0, 0.0, 0.0, 0.0, 0.0, 0.0, 0.0, 0.0, 0.0, 0.0, 0.0, 0.0], [0.0, 0.0, 0.0, 0.0, 0.15675835047756517, 0.0, 0.0, 0.0, 0.0, 0.0, 0.0, 0.0, 0.0, 0.0, 0.0, 0.0, 0.0, 0.0, 0.0, 0.0, 0.0], [0.0, 0.0, 0.0, 0.0, 0.15675835047756517, 0.0, 0.0, 0.0, 0.0, 0.0, 0.0, 0.0, 0.0, 0.0, 0.0, 0.0, 0.0, 0.0, 0.0, 0.0, 0.0], [0.0, 0.0, 0.0, 0.0, 0.15675835047756517, 0.0, 0.0, 0.0, 0.0, 0.0, 0.0, 0.0, 0.0, 0.0, 0.0, 0.0, 0.0, 0.0, 0.0, 0.0, 0.0], [0.0, 0.0, 0.0, 0.0, 0.15675835047756517, 0.0, 0.0, 0.0, 0.0, 0.0, 0.0, 0.0, 0.0, 0.0, 0.0, 0.0, 0.0, 0.0, 0.0, 0.0, 0.0], [0.0, 0.0, 0.0, 0.0, 0.15675835047756517, 0.0, 0.0, 0.0, 0.0, 0.0, 0.0, 0.0, 0.0, 0.0, 0.0, 0.0, 0.0, 0.0, 0.0, 0.0, 0.0], [0.0, 0.0, 0.0, 0.0, 0.0, 0.2137613870148616, 0.0, 0.0, 0.0, 0.0, 0.0, 0.0, 0.0, 0.0, 0.0, 0.0, 0.0, 0.0, 0.0, 0.0, 0.0], [0.0, 0.0, 0.0, 0.0, 0.0, 0.2137613870148616, 0.0, 0.0, 0.0, 0.0, 0.0, 0.0, 0.0, 0.0, 0.0, 0.0, 0.0, 0.0, 0.0, 0.0, 0.0], [0.0, 0.0, 0.0, 0.0, 0.0, 0.2137613870148616, 0.0, 0.0, 0.0, 0.0, 0.0, 0.0, 0.0, 0.0, 0.0, 0.0, 0.0, 0.0, 0.0, 0.0, 0.0], [0.0, 0.0, 0.0, 0.0, 0.0, 0.2137613870148616, 0.0, 0.0, 0.0, 0.0, 0.0, 0.0, 0.0, 0.0, 0.0, 0.0, 0.0, 0.0, 0.0, 0.0, 0.0], [0.0, 0.0, 0.0, 0.0, 0.0, 0.2137613870148616, 0.0, 0.0, 0.0, 0.0, 0.0, 0.0, 0.0, 0.0, 0.0, 0.0, 0.0, 0.0, 0.0, 0.0, 0.0], [0.0, 0.0, 0.0, 0.0, 0.0, 0.0, 0.10223370683319467, 0.0, 0.0, 0.0, 0.0, 0.0, 0.0, 0.0, 0.0, 0.0, 0.0, 0.0, 0.0, 0.0, 0.0], [0.0, 0.0, 0.0, 0.0, 0.0, 0.0, 0.10223370683319467, 0.0, 0.0, 0.0, 0.0, 0.0, 0.0, 0.0, 0.0, 0.0, 0.0, 0.0, 0.0, 0.0, 0.0], [0.0, 0.0, 0.0, 0.0, 0.0, 0.0, 0.10223370683319467, 0.0, 0.0, 0.0, 0.0, 0.0, 0.0, 0.0, 0.0, 0.0, 0.0, 0.0, 0.0, 0.0, 0.0], [0.0, 0.0, 0.0, 0.0, 0.0, 0.0, 0.10223370683319467, 0.0, 0.0, 0.0, 0.0, 0.0, 0.0, 0.0, 0.0, 0.0, 0.0, 0.0, 0.0, 0.0, 0.0], [0.0, 0.0, 0.0, 0.0, 0.0, 0.0, 0.10223370683319467, 0.0, 0.0, 0.0, 0.0, 0.0, 0.0, 0.0, 0.0, 0.0, 0.0, 0.0, 0.0, 0.0, 0.0], [0.0, 0.0, 0.0, 0.0, 0.0, 0.0, 0.10223370683319467, 0.0, 0.0, 0.0, 0.0, 0.0, 0.0, 0.0, 0.0, 0.0, 0.0, 0.0, 0.0, 0.0, 0.0], [0.0, 0.0, 0.0, 0.0, 0.0, 0.0, 0.10223370683319467, 0.0, 0.0, 0.0, 0.0, 0.0, 0.0, 0.0, 0.0, 0.0, 0.0, 0.0, 0.0, 0.0, 0.0], [0.0, 0.0, 0.0, 0.0, 0.0, 0.0, 0.10223370683319467, 0.0, 0.0, 0.0, 0.0, 0.0, 0.0, 0.0, 0.0, 0.0, 0.0, 0.0, 0.0, 0.0, 0.0], [0.0, 0.0, 0.0, 0.0, 0.0, 0.0, 0.10223370683319467, 0.0, 0.0, 0.0, 0.0, 0.0, 0.0, 0.0, 0.0, 0.0, 0.0, 0.0, 0.0, 0.0, 0.0], [0.0, 0.0, 0.0, 0.0, 0.0, 0.0, 0.10223370683319467, 0.0, 0.0, 0.0, 0.0, 0.0, 0.0, 0.0, 0.0, 0.0, 0.0, 0.0, 0.0, 0.0, 0.0], [0.0, 0.0, 0.0, 0.0, 0.0, 0.0, 0.10223370683319467, 0.0, 0.0, 0.0, 0.0, 0.0, 0.0, 0.0, 0.0, 0.0, 0.0, 0.0, 0.0, 0.0, 0.0], [0.0, 0.0, 0.0, 0.0, 0.0, 0.0, 0.0, 0.19594793809695646, 0.0, 0.0, 0.0, 0.0, 0.0, 0.0, 0.0, 0.0, 0.0, 0.0, 0.0, 0.0, 0.0], [0.0, 0.0, 0.0, 0.0, 0.0, 0.0, 0.0, 0.19594793809695646, 0.0, 0.0, 0.0, 0.0, 0.0, 0.0, 0.0, 0.0, 0.0, 0.0, 0.0, 0.0, 0.0], [0.0, 0.0, 0.0, 0.0, 0.0, 0.0, 0.0, 0.19594793809695646, 0.0, 0.0, 0.0, 0.0, 0.0, 0.0, 0.0, 0.0, 0.0, 0.0, 0.0, 0.0, 0.0], [0.0, 0.0, 0.0, 0.0, 0.0, 0.0, 0.0, 0.19594793809695646, 0.0, 0.0, 0.0, 0.0, 0.0, 0.0, 0.0, 0.0, 0.0, 0.0, 0.0, 0.0, 0.0], [0.0, 0.0, 0.0, 0.0, 0.0, 0.0, 0.0, 0.19594793809695646, 0.0, 0.0, 0.0, 0.0, 0.0, 0.0, 0.0, 0.0, 0.0, 0.0, 0.0, 0.0, 0.0], [0.0, 0.0, 0.0, 0.0, 0.0, 0.0, 0.0, 0.19594793809695646, 0.0, 0.0, 0.0, 0.0, 0.0, 0.0, 0.0, 0.0, 0.0, 0.0, 0.0, 0.0, 0.0], [0.0, 0.0, 0.0, 0.0, 0.0, 0.0, 0.0, 0.0, 0.10223370683319467, 0.0, 0.0, 0.0, 0.0, 0.0, 0.0, 0.0, 0.0, 0.0, 0.0, 0.0, 0.0], [0.0, 0.0, 0.0, 0.0, 0.0, 0.0, 0.0, 0.0, 0.10223370683319467, 0.0, 0.0, 0.0, 0.0, 0.0, 0.0, 0.0, 0.0, 0.0, 0.0, 0.0, 0.0], [0.0, 0.0, 0.0, 0.0, 0.0, 0.0, 0.0, 0.0, 0.10223370683319467, 0.0, 0.0, 0.0, 0.0, 0.0, 0.0, 0.0, 0.0, 0.0, 0.0, 0.0, 0.0], [0.0, 0.0, 0.0, 0.0, 0.0, 0.0, 0.0, 0.0, 0.10223370683319467, 0.0, 0.0, 0.0, 0.0, 0.0, 0.0, 0.0, 0.0, 0.0, 0.0, 0.0, 0.0], [0.0, 0.0, 0.0, 0.0, 0.0, 0.0, 0.0, 0.0, 0.10223370683319467, 0.0, 0.0, 0.0, 0.0, 0.0, 0.0, 0.0, 0.0, 0.0, 0.0, 0.0, 0.0], [0.0, 0.0, 0.0, 0.0, 0.0, 0.0, 0.0, 0.0, 0.10223370683319467, 0.0, 0.0, 0.0, 0.0, 0.0, 0.0, 0.0, 0.0, 0.0, 0.0, 0.0, 0.0], [0.0, 0.0, 0.0, 0.0, 0.0, 0.0, 0.0, 0.0, 0.10223370683319467, 0.0, 0.0, 0.0, 0.0, 0.0, 0.0, 0.0, 0.0, 0.0, 0.0, 0.0, 0.0], [0.0, 0.0, 0.0, 0.0, 0.0, 0.0, 0.0, 0.0, 0.10223370683319467, 0.0, 0.0, 0.0, 0.0, 0.0, 0.0, 0.0, 0.0, 0.0, 0.0, 0.0, 0.0], [0.0, 0.0, 0.0, 0.0, 0.0, 0.0, 0.0, 0.0, 0.0, 0.18087501978180598, 0.0, 0.0, 0.0, 0.0, 0.0, 0.0, 0.0, 0.0, 0.0, 0.0, 0.0], [0.0, 0.0, 0.0, 0.0, 0.0, 0.0, 0.0, 0.0, 0.0, 0.18087501978180598, 0.0, 0.0, 0.0, 0.0, 0.0, 0.0, 0.0, 0.0, 0.0, 0.0, 0.0], [0.0, 0.0, 0.0, 0.0, 0.0, 0.0, 0.0, 0.0, 0.0, 0.18087501978180598, 0.0, 0.0, 0.0, 0.0, 0.0, 0.0, 0.0, 0.0, 0.0, 0.0, 0.0], [0.0, 0.0, 0.0, 0.0, 0.0, 0.0, 0.0, 0.0, 0.0, 0.18087501978180598, 0.0, 0.0, 0.0, 0.0, 0.0, 0.0, 0.0, 0.0, 0.0, 0.0, 0.0], [0.0, 0.0, 0.0, 0.0, 0.0, 0.0, 0.0, 0.0, 0.0, 0.18087501978180598, 0.0, 0.0, 0.0, 0.0, 0.0, 0.0, 0.0, 0.0, 0.0, 0.0, 0.0], [0.0, 0.0, 0.0, 0.0, 0.0, 0.0, 0.0, 0.0, 0.0, 0.0, 0.11756876285817389, 0.0, 0.0, 0.0, 0.0, 0.0, 0.0, 0.0, 0.0, 0.0, 0.0]]\n"
     ]
    }
   ],
   "source": [
    "print(tfidf_matrix)"
   ]
  }
 ],
 "metadata": {
  "kernelspec": {
   "display_name": "Python 3",
   "language": "python",
   "name": "python3"
  },
  "language_info": {
   "codemirror_mode": {
    "name": "ipython",
    "version": 3
   },
   "file_extension": ".py",
   "mimetype": "text/x-python",
   "name": "python",
   "nbconvert_exporter": "python",
   "pygments_lexer": "ipython3",
   "version": "3.6.5"
  }
 },
 "nbformat": 4,
 "nbformat_minor": 2
}
