{
 "cells": [
  {
   "cell_type": "code",
   "execution_count": 8,
   "metadata": {},
   "outputs": [],
   "source": [
    "%matplotlib inline\n",
    "import pandas as pd\n",
    "import numpy as np\n",
    "import statistics\n",
    "import seaborn as sns\n",
    "import matplotlib.pyplot as plt\n",
    "from subprocess import check_output\n",
    "from scipy import stats\n",
    "from sklearn.linear_model import LogisticRegression\n",
    "from sklearn.cross_validation import KFold   #For K-fold cross validation\n",
    "from sklearn.ensemble import RandomForestClassifier\n",
    "from sklearn.tree import DecisionTreeClassifier\n",
    "from sklearn import metrics\n",
    "import os\n",
    "os.chdir('E:\\\\citizen data')"
   ]
  },
  {
   "cell_type": "code",
   "execution_count": 9,
   "metadata": {},
   "outputs": [],
   "source": [
    "os.chdir(\"E:\\\\citizen data\")"
   ]
  },
  {
   "cell_type": "code",
   "execution_count": 10,
   "metadata": {},
   "outputs": [
    {
     "data": {
      "text/plain": [
       "'E:\\\\citizen data'"
      ]
     },
     "execution_count": 10,
     "metadata": {},
     "output_type": "execute_result"
    }
   ],
   "source": [
    "os.getcwd()"
   ]
  },
  {
   "cell_type": "code",
   "execution_count": 11,
   "metadata": {},
   "outputs": [
    {
     "name": "stderr",
     "output_type": "stream",
     "text": [
      "C:\\py\\lib\\site-packages\\IPython\\core\\interactiveshell.py:2785: DtypeWarning: Columns (4,24,28) have mixed types. Specify dtype option on import or set low_memory=False.\n",
      "  interactivity=interactivity, compiler=compiler, result=result)\n"
     ]
    }
   ],
   "source": [
    "payroll = pd.read_csv(\"data.csv\")\n"
   ]
  },
  {
   "cell_type": "code",
   "execution_count": 12,
   "metadata": {},
   "outputs": [
    {
     "data": {
      "text/html": [
       "<div>\n",
       "<style scoped>\n",
       "    .dataframe tbody tr th:only-of-type {\n",
       "        vertical-align: middle;\n",
       "    }\n",
       "\n",
       "    .dataframe tbody tr th {\n",
       "        vertical-align: top;\n",
       "    }\n",
       "\n",
       "    .dataframe thead th {\n",
       "        text-align: right;\n",
       "    }\n",
       "</style>\n",
       "<table border=\"1\" class=\"dataframe\">\n",
       "  <thead>\n",
       "    <tr style=\"text-align: right;\">\n",
       "      <th></th>\n",
       "      <th>Row ID</th>\n",
       "      <th>Year</th>\n",
       "      <th>Department Title</th>\n",
       "      <th>Payroll Department</th>\n",
       "      <th>Record Number</th>\n",
       "      <th>Job Class Title</th>\n",
       "      <th>Employment Type</th>\n",
       "      <th>Hourly or Event Rate</th>\n",
       "      <th>Projected Annual Salary</th>\n",
       "      <th>Q1 Payments</th>\n",
       "      <th>...</th>\n",
       "      <th>MOU Title</th>\n",
       "      <th>FMS Department</th>\n",
       "      <th>Job Class</th>\n",
       "      <th>Pay Grade</th>\n",
       "      <th>Average Health Cost</th>\n",
       "      <th>Average Dental Cost</th>\n",
       "      <th>Average Basic Life</th>\n",
       "      <th>Average Benefit Cost</th>\n",
       "      <th>Benefits Plan</th>\n",
       "      <th>Job Class Link</th>\n",
       "    </tr>\n",
       "  </thead>\n",
       "  <tbody>\n",
       "    <tr>\n",
       "      <th>0</th>\n",
       "      <td>111391</td>\n",
       "      <td>2014</td>\n",
       "      <td>Water And Power (DWP)</td>\n",
       "      <td>NaN</td>\n",
       "      <td>1412316577</td>\n",
       "      <td>Commercial Service Representative</td>\n",
       "      <td>Full Time</td>\n",
       "      <td>NaN</td>\n",
       "      <td>$70386.48</td>\n",
       "      <td>$16129.89</td>\n",
       "      <td>...</td>\n",
       "      <td>NaN</td>\n",
       "      <td>98</td>\n",
       "      <td>1230</td>\n",
       "      <td>NaN</td>\n",
       "      <td>$16842.08</td>\n",
       "      <td>$1282.61</td>\n",
       "      <td>$0.00</td>\n",
       "      <td>$18124.69</td>\n",
       "      <td>DWP</td>\n",
       "      <td>http://per.lacity.org/perspecs/1230.pdf</td>\n",
       "    </tr>\n",
       "    <tr>\n",
       "      <th>1</th>\n",
       "      <td>31732</td>\n",
       "      <td>2013</td>\n",
       "      <td>Police (LAPD)</td>\n",
       "      <td>4301.0</td>\n",
       "      <td>432728338</td>\n",
       "      <td>Police Officer I</td>\n",
       "      <td>Full Time</td>\n",
       "      <td>$25.12</td>\n",
       "      <td>$52450.56</td>\n",
       "      <td>$11331.00</td>\n",
       "      <td>...</td>\n",
       "      <td>POLICE OFFICERS UNIT</td>\n",
       "      <td>70</td>\n",
       "      <td>2214</td>\n",
       "      <td>A</td>\n",
       "      <td>$11651.40</td>\n",
       "      <td>$898.08</td>\n",
       "      <td>$191.04</td>\n",
       "      <td>$12740.52</td>\n",
       "      <td>Police</td>\n",
       "      <td>http://per.lacity.org/perspecs/2214.pdf</td>\n",
       "    </tr>\n",
       "    <tr>\n",
       "      <th>2</th>\n",
       "      <td>27697</td>\n",
       "      <td>2013</td>\n",
       "      <td>Police (LAPD)</td>\n",
       "      <td>4301.0</td>\n",
       "      <td>97182506</td>\n",
       "      <td>Police Officer II</td>\n",
       "      <td>Full Time</td>\n",
       "      <td>$42.77</td>\n",
       "      <td>$89303.76</td>\n",
       "      <td>$20036.32</td>\n",
       "      <td>...</td>\n",
       "      <td>POLICE OFFICERS UNIT</td>\n",
       "      <td>70</td>\n",
       "      <td>2214</td>\n",
       "      <td>2</td>\n",
       "      <td>$11651.40</td>\n",
       "      <td>$898.08</td>\n",
       "      <td>$191.04</td>\n",
       "      <td>$12740.52</td>\n",
       "      <td>Police</td>\n",
       "      <td>http://per.lacity.org/perspecs/2214.pdf</td>\n",
       "    </tr>\n",
       "    <tr>\n",
       "      <th>3</th>\n",
       "      <td>14136</td>\n",
       "      <td>2013</td>\n",
       "      <td>Harbor (Port of LA)</td>\n",
       "      <td>3201.0</td>\n",
       "      <td>950136941</td>\n",
       "      <td>Senior Security Officer</td>\n",
       "      <td>Full Time</td>\n",
       "      <td>$28.75</td>\n",
       "      <td>$60028.96</td>\n",
       "      <td>$15793.88</td>\n",
       "      <td>...</td>\n",
       "      <td>SUPV BLUE COLLAR</td>\n",
       "      <td>42</td>\n",
       "      <td>3184</td>\n",
       "      <td>0</td>\n",
       "      <td>$10710.24</td>\n",
       "      <td>$405.24</td>\n",
       "      <td>$11.40</td>\n",
       "      <td>$11126.88</td>\n",
       "      <td>City</td>\n",
       "      <td>http://per.lacity.org/perspecs/3184.pdf</td>\n",
       "    </tr>\n",
       "    <tr>\n",
       "      <th>4</th>\n",
       "      <td>91896</td>\n",
       "      <td>2014</td>\n",
       "      <td>Public Works - Sanitation</td>\n",
       "      <td>7024.0</td>\n",
       "      <td>3230003445</td>\n",
       "      <td>Senior Clerk Typist</td>\n",
       "      <td>Full Time</td>\n",
       "      <td>$30.92</td>\n",
       "      <td>$64553.13</td>\n",
       "      <td>$14700.00</td>\n",
       "      <td>...</td>\n",
       "      <td>CLERICAL UNIT</td>\n",
       "      <td>82</td>\n",
       "      <td>1368</td>\n",
       "      <td>0</td>\n",
       "      <td>$11000.40</td>\n",
       "      <td>$409.68</td>\n",
       "      <td>$11.40</td>\n",
       "      <td>$11421.48</td>\n",
       "      <td>City</td>\n",
       "      <td>http://per.lacity.org/perspecs/1368.pdf</td>\n",
       "    </tr>\n",
       "  </tbody>\n",
       "</table>\n",
       "<p>5 rows × 35 columns</p>\n",
       "</div>"
      ],
      "text/plain": [
       "   Row ID  Year           Department Title  Payroll Department Record Number  \\\n",
       "0  111391  2014      Water And Power (DWP)                 NaN    1412316577   \n",
       "1   31732  2013              Police (LAPD)              4301.0     432728338   \n",
       "2   27697  2013              Police (LAPD)              4301.0      97182506   \n",
       "3   14136  2013        Harbor (Port of LA)              3201.0     950136941   \n",
       "4   91896  2014  Public Works - Sanitation              7024.0    3230003445   \n",
       "\n",
       "                     Job Class Title Employment Type Hourly or Event Rate  \\\n",
       "0  Commercial Service Representative       Full Time                  NaN   \n",
       "1                   Police Officer I       Full Time               $25.12   \n",
       "2                  Police Officer II       Full Time               $42.77   \n",
       "3            Senior Security Officer       Full Time               $28.75   \n",
       "4                Senior Clerk Typist       Full Time               $30.92   \n",
       "\n",
       "  Projected Annual Salary Q1 Payments  \\\n",
       "0               $70386.48   $16129.89   \n",
       "1               $52450.56   $11331.00   \n",
       "2               $89303.76   $20036.32   \n",
       "3               $60028.96   $15793.88   \n",
       "4               $64553.13   $14700.00   \n",
       "\n",
       "                    ...                                MOU Title  \\\n",
       "0                   ...                                      NaN   \n",
       "1                   ...                     POLICE OFFICERS UNIT   \n",
       "2                   ...                     POLICE OFFICERS UNIT   \n",
       "3                   ...                         SUPV BLUE COLLAR   \n",
       "4                   ...                            CLERICAL UNIT   \n",
       "\n",
       "  FMS Department Job Class Pay Grade Average Health Cost Average Dental Cost  \\\n",
       "0             98      1230       NaN           $16842.08            $1282.61   \n",
       "1             70      2214         A           $11651.40             $898.08   \n",
       "2             70      2214         2           $11651.40             $898.08   \n",
       "3             42      3184         0           $10710.24             $405.24   \n",
       "4             82      1368         0           $11000.40             $409.68   \n",
       "\n",
       "  Average Basic Life Average Benefit Cost Benefits Plan  \\\n",
       "0              $0.00            $18124.69           DWP   \n",
       "1            $191.04            $12740.52        Police   \n",
       "2            $191.04            $12740.52        Police   \n",
       "3             $11.40            $11126.88          City   \n",
       "4             $11.40            $11421.48          City   \n",
       "\n",
       "                            Job Class Link  \n",
       "0  http://per.lacity.org/perspecs/1230.pdf  \n",
       "1  http://per.lacity.org/perspecs/2214.pdf  \n",
       "2  http://per.lacity.org/perspecs/2214.pdf  \n",
       "3  http://per.lacity.org/perspecs/3184.pdf  \n",
       "4  http://per.lacity.org/perspecs/1368.pdf  \n",
       "\n",
       "[5 rows x 35 columns]"
      ]
     },
     "execution_count": 12,
     "metadata": {},
     "output_type": "execute_result"
    }
   ],
   "source": [
    "payroll.head()"
   ]
  },
  {
   "cell_type": "code",
   "execution_count": 13,
   "metadata": {},
   "outputs": [],
   "source": [
    "payroll = payroll[pd.notnull(payroll['Payroll Department'])]\n",
    "payroll.rename(columns={'Projected Annual Salary' : 'Annual_sal'}, inplace = True)\n",
    "payroll.rename(columns={'Job Class Title' : 'Job_title'}, inplace = True)\n",
    "payroll.rename(columns={'Base Pay' : 'Base_Pay'}, inplace = True)"
   ]
  },
  {
   "cell_type": "code",
   "execution_count": 14,
   "metadata": {},
   "outputs": [],
   "source": [
    "for i in ['Annual_sal','Q1 Payments','Q2 Payments','Q3 Payments','Q4 Payments','Payments Over Base Pay',\n",
    "          'Total Payments','Base_Pay','Permanent Bonus Pay','Longevity Bonus Pay','Temporary Bonus Pay','Overtime Pay',\n",
    "          'Other Pay & Adjustments','Other Pay (Payroll Explorer)','Average Health Cost','Average Dental Cost',\n",
    "          'Average Basic Life','Average Benefit Cost']:\n",
    "    payroll[i] = payroll[i].str.replace('$','')"
   ]
  },
  {
   "cell_type": "code",
   "execution_count": 15,
   "metadata": {},
   "outputs": [],
   "source": [
    "#outlier removal\n",
    "payroll = payroll[payroll.Annual_sal != 0]  \n",
    "payroll = payroll[payroll.Base_Pay != 0]\n",
    "payroll.Annual_sal = payroll.Annual_sal.astype(float)\n",
    "payroll.Base_Pay = payroll.Base_Pay.astype(float)"
   ]
  },
  {
   "cell_type": "code",
   "execution_count": 16,
   "metadata": {},
   "outputs": [
    {
     "name": "stderr",
     "output_type": "stream",
     "text": [
      "C:\\py\\lib\\site-packages\\matplotlib\\axes\\_axes.py:6462: UserWarning: The 'normed' kwarg is deprecated, and has been replaced by the 'density' kwarg.\n",
      "  warnings.warn(\"The 'normed' kwarg is deprecated, and has been \"\n"
     ]
    },
    {
     "data": {
      "text/plain": [
       "<matplotlib.axes._subplots.AxesSubplot at 0xb4af898>"
      ]
     },
     "execution_count": 16,
     "metadata": {},
     "output_type": "execute_result"
    },
    {
     "data": {
      "image/png": "[encoded data removed]",
      "text/plain": [
       "<Figure size 864x432 with 1 Axes>"
      ]
     },
     "metadata": {},
     "output_type": "display_data"
    }
   ],
   "source": [
    "plt.figure(figsize = (12,6))\n",
    "sns.distplot(payroll.Annual_sal,color = 'darkgreen')"
   ]
  },
  {
   "cell_type": "code",
   "execution_count": 20,
   "metadata": {},
   "outputs": [
    {
     "data": {
      "text/plain": [
       "(array([9.2800e+02, 0.0000e+00, 2.5570e+03, 2.9566e+04, 1.3304e+04,\n",
       "        1.6512e+04, 1.9111e+04, 2.4258e+04, 2.0982e+04, 2.0183e+04,\n",
       "        2.8931e+04, 1.8363e+04, 1.6039e+04, 7.6590e+03, 3.8470e+03,\n",
       "        3.1390e+03, 1.0400e+03, 7.2600e+02, 1.3660e+03, 7.9500e+02,\n",
       "        6.6900e+02, 5.1500e+02, 2.2000e+02, 2.7300e+02, 1.2400e+02,\n",
       "        1.7500e+02, 4.0000e+01, 2.6000e+01, 2.4000e+01, 4.0000e+00,\n",
       "        3.4000e+01, 1.4000e+01, 7.0000e+00, 1.7000e+01, 1.0000e+00,\n",
       "        3.0000e+00, 3.0000e+00, 1.0000e+00, 4.0000e+00, 3.0000e+00]),\n",
       " array([     0.   ,   9018.594,  18037.188,  27055.782,  36074.376,\n",
       "         45092.97 ,  54111.564,  63130.158,  72148.752,  81167.346,\n",
       "         90185.94 ,  99204.534, 108223.128, 117241.722, 126260.316,\n",
       "        135278.91 , 144297.504, 153316.098, 162334.692, 171353.286,\n",
       "        180371.88 , 189390.474, 198409.068, 207427.662, 216446.256,\n",
       "        225464.85 , 234483.444, 243502.038, 252520.632, 261539.226,\n",
       "        270557.82 , 279576.414, 288595.008, 297613.602, 306632.196,\n",
       "        315650.79 , 324669.384, 333687.978, 342706.572, 351725.166,\n",
       "        360743.76 ]),\n",
       " <a list of 40 Patch objects>)"
      ]
     },
     "execution_count": 20,
     "metadata": {},
     "output_type": "execute_result"
    },
    {
     "data": {
      "image/png": "[encoded data removed]",
      "text/plain": [
       "<Figure size 864x432 with 1 Axes>"
      ]
     },
     "metadata": {},
     "output_type": "display_data"
    }
   ],
   "source": [
    "plt.figure(figsize = (12,6))\n",
    "plt.hist(payroll['Annual_sal'], bins =40)"
   ]
  },
  {
   "cell_type": "code",
   "execution_count": 22,
   "metadata": {},
   "outputs": [],
   "source": [
    "payroll_2015 = payroll[payroll.Year ==2015]\n",
    "payroll_2016 = payroll[payroll.Year ==2016]"
   ]
  },
  {
   "cell_type": "code",
   "execution_count": 23,
   "metadata": {},
   "outputs": [
    {
     "name": "stdout",
     "output_type": "stream",
     "text": [
      "Population Mean: 76046.39152505301\n",
      "Population Standard Deviation: 34232.25489729045\n"
     ]
    }
   ],
   "source": [
    "pop_mean_2015 = payroll_2015['Annual_sal'].mean()\n",
    "pop_std_2015 = statistics.stdev(payroll_2015.Annual_sal)\n",
    "print(\"Population Mean: \"+str(pop_mean_2015))\n",
    "print(\"Population Standard Deviation: \"+str(pop_std_2015))"
   ]
  },
  {
   "cell_type": "code",
   "execution_count": 24,
   "metadata": {},
   "outputs": [
    {
     "name": "stdout",
     "output_type": "stream",
     "text": [
      "Population Mean: 78711.19987225177\n",
      "Sample Mean: 79226.93221414933\n",
      "Sample Standard Deviation: 33366.568281931766\n"
     ]
    }
   ],
   "source": [
    "print(\"Population Mean: \"+str(payroll_2016['Annual_sal'].mean()))\n",
    "payroll_2016_sample = payroll_2016.sample(frac=0.10)\n",
    "sample_mean_2016 = payroll_2016_sample['Annual_sal'].mean()\n",
    "print(\"Sample Mean: \"+str(sample_mean_2016))\n",
    "sample_std_2016 = statistics.stdev(payroll_2016_sample.Annual_sal)\n",
    "print(\"Sample Standard Deviation: \"+str(sample_std_2016))"
   ]
  },
  {
   "cell_type": "code",
   "execution_count": 25,
   "metadata": {},
   "outputs": [
    {
     "name": "stdout",
     "output_type": "stream",
     "text": [
      "9.00066180529398\n"
     ]
    }
   ],
   "source": [
    "#Hypothesis Testing\n",
    "#Normal distribution\n",
    "#Null Hypothesis : Pay does not increase in 2016\n",
    "#Alternate Hypothesis: It increases\n",
    "#Population parameters: Mean = pop_mean_2015, standard deviation = pop_std_2015\n",
    "#Sample parameters : Mean = sample_mean_2016, standard deviation = sample_std_2016\n",
    "import math\n",
    "# Confidence Level 95 %  for one sided Normal curve\n",
    "zscore_critical = 1.65 \n",
    "# Calculate the test statistics \n",
    "zscore_test_stat = ((sample_mean_2016 - pop_mean_2015)*math.sqrt(8916))/sample_std_2016\n",
    "print(zscore_test_stat)\n",
    "#Conclusion: As the test statistics fall into the rejection region the null hypothesis is rejected\n",
    "#and it can be concluded that the Annual salaries increase in 2016.\n",
    "#However, we will first check for the Type 1 and Type 2 Errors"
   ]
  },
  {
   "cell_type": "code",
   "execution_count": 26,
   "metadata": {},
   "outputs": [
    {
     "name": "stdout",
     "output_type": "stream",
     "text": [
      "0.07937359898019851\n"
     ]
    }
   ],
   "source": [
    "# we are basically checking the true value of the population characteristics\n",
    "pop_mean_2016 = payroll_2016['Annual_sal'].mean()\n",
    "pop_std_2016 = statistics.stdev(payroll_2016.Annual_sal)\n",
    "\n",
    "zscore_error = ((pop_mean_2016 - pop_mean_2015)/pop_std_2016)\n",
    "print(zscore_error)"
   ]
  },
  {
   "cell_type": "code",
   "execution_count": 27,
   "metadata": {},
   "outputs": [
    {
     "name": "stdout",
     "output_type": "stream",
     "text": [
      "0.07937359898019851\n"
     ]
    }
   ],
   "source": [
    "#Type 1 type 2 hypothesis error\n",
    "#In statistical hypothesis testing, a type I error is the incorrect rejection of a true null hypothesis \n",
    "#(a \"false positive\"), while a type II error is incorrectly retaining a false null hypothesis (a \"false negative\").\n",
    "# we are basically checking the true value of the population characteristics\n",
    "pop_mean_2016 = payroll_2016['Annual_sal'].mean()\n",
    "pop_std_2016 = statistics.stdev(payroll_2016.Annual_sal)\n",
    "\n",
    "zscore_error = ((pop_mean_2016 - pop_mean_2015)/pop_std_2016)\n",
    "print(zscore_error)\n",
    "#We can clearly see that we encountered a Type 1 error as the population mean is well within acceptable region"
   ]
  },
  {
   "cell_type": "code",
   "execution_count": 28,
   "metadata": {},
   "outputs": [],
   "source": [
    "#student T-distribution\n",
    "#Null Hypothesis: pay does not increase in 2016\n",
    "#Alternate Hypothesis: it increases\n",
    "#Population parameters: Mean = pop_mean_2015, standard deviation = pop_std_2015\n",
    "#Sample parameters : Mean = sample_mean_2016, standard deviation = sample_std_2016\n",
    "#Calculating the Sample Parameters**\n",
    "payroll_2014 = payroll[payroll.Year ==2014]\n",
    "payroll_2015 = payroll[payroll.Year ==2015]\n",
    "# Creating Sample distribution for T statistics\n",
    "payroll_t_2015_sample = payroll_2015.sample(frac=0.00062)"
   ]
  },
  {
   "cell_type": "code",
   "execution_count": 29,
   "metadata": {},
   "outputs": [],
   "source": [
    "payroll_t_2015_sample = payroll_2015.sample(frac=0.00062)\n",
    "N = len(payroll_t_2015_sample)\n",
    "sample_mean_2015 = payroll_t_2015_sample['Annual_sal'].mean()\n",
    "sample_std_2015 = statistics.stdev(payroll_t_2015_sample.Annual_sal)\n",
    "pop_std_2014  = statistics.stdev(payroll_2014.Annual_sal)\n",
    "pop_mean_2014 = payroll_2014['Annual_sal'].mean()"
   ]
  },
  {
   "cell_type": "code",
   "execution_count": 30,
   "metadata": {},
   "outputs": [
    {
     "name": "stdout",
     "output_type": "stream",
     "text": [
      "-1.8910621830726315\n"
     ]
    }
   ],
   "source": [
    "# Confidence Level 95 %  for one sided T curve\n",
    "t_critical = 1.311\n",
    "\n",
    "# Calculate the test statistics \n",
    "tscore_test_stat = ((sample_mean_2015 - pop_mean_2014)*math.sqrt(N))/sample_std_2015\n",
    "\n",
    "#print(tscore_test_stat)\n",
    "#** F Distribution and ANOVA\n",
    "#The means from three different samples are compared using ANOVA\n",
    "#It is similar to applying t-tests over multiple sample ANOVA "
   ]
  },
  {
   "cell_type": "code",
   "execution_count": 31,
   "metadata": {},
   "outputs": [
    {
     "name": "stdout",
     "output_type": "stream",
     "text": [
      "Sample Mean 2014 74036.76828571428\n",
      "Sample Mean 2015 70767.37828571431\n",
      "Sample Mean 2016 35123.98742857143\n"
     ]
    }
   ],
   "source": [
    "payroll_2014 = payroll[payroll.Year ==2014]\n",
    "payroll_2014_elec = payroll_2014[payroll_2014.Job_title == 'Electrician']\n",
    "payroll_2015_elec = payroll_2015[payroll_2015.Job_title == 'Electrician']\n",
    "payroll_2016_elec = payroll_2016[payroll_2016.Job_title == 'Electrician']\n",
    "sample_elec_2014 = payroll_2014_elec.sample(frac=0.47)\n",
    "sample_elec_mean_2014 = sample_elec_2014['Base_Pay'].mean()\n",
    "print(\"Sample Mean 2014 \"+str(sample_elec_mean_2014))\n",
    "sample_elec_2015 = payroll_2015_elec.sample(frac=0.41)\n",
    "sample_elec_mean_2015 = sample_elec_2015['Base_Pay'].mean()\n",
    "print(\"Sample Mean 2015 \"+str(sample_elec_mean_2015))\n",
    "sample_elec_2016 = payroll_2016_elec.sample(frac=0.22)\n",
    "sample_elec_mean_2016 = sample_elec_2016['Base_Pay'].mean()\n",
    "print(\"Sample Mean 2016 \"+str(sample_elec_mean_2016))\n",
    "# Creating the Samples of the base pays over three years\n",
    "sam_1 = sample_elec_2014.Base_Pay\n",
    "sam_2 = sample_elec_2015.Base_Pay\n",
    "sam_3 = sample_elec_2016.Base_Pay"
   ]
  },
  {
   "cell_type": "code",
   "execution_count": 32,
   "metadata": {},
   "outputs": [
    {
     "name": "stdout",
     "output_type": "stream",
     "text": [
      "F value: 39.58248545774575\n",
      "P value: 1.891572975078227e-13 \n",
      "\n"
     ]
    }
   ],
   "source": [
    "f, p = stats.f_oneway(sam_1, sam_2, sam_3 )\n",
    "print ('F value:', f)\n",
    "print ('P value:', p, '\\n')\n",
    "#P value is very low, hence null hypothesis is rejected"
   ]
  },
  {
   "cell_type": "code",
   "execution_count": 33,
   "metadata": {},
   "outputs": [],
   "source": [
    "# Transform the qualitative data into vectors\n",
    "from sklearn.feature_extraction.text import TfidfVectorizer\n",
    "vect = TfidfVectorizer(stop_words = 'english')\n",
    "dtm = vect.fit_transform(payroll.Job_title)"
   ]
  },
  {
   "cell_type": "code",
   "execution_count": 34,
   "metadata": {},
   "outputs": [],
   "source": [
    "from sklearn.cross_validation import train_test_split\n",
    "\n",
    "X = dtm\n",
    "y = payroll.Annual_sal\n",
    "\n",
    "X_train, X_test, y_train, y_test = train_test_split(X, y, random_state = 100)"
   ]
  },
  {
   "cell_type": "code",
   "execution_count": 35,
   "metadata": {},
   "outputs": [
    {
     "data": {
      "text/plain": [
       "RandomForestRegressor(bootstrap=True, criterion='mse', max_depth=None,\n",
       "           max_features='auto', max_leaf_nodes=None,\n",
       "           min_impurity_decrease=0.0, min_impurity_split=None,\n",
       "           min_samples_leaf=1, min_samples_split=2,\n",
       "           min_weight_fraction_leaf=0.0, n_estimators=10, n_jobs=1,\n",
       "           oob_score=False, random_state=None, verbose=0, warm_start=False)"
      ]
     },
     "execution_count": 35,
     "metadata": {},
     "output_type": "execute_result"
    }
   ],
   "source": [
    "from sklearn.ensemble import RandomForestRegressor\n",
    "\n",
    "clf = RandomForestRegressor()\n",
    "clf.fit(X_train, y_train)"
   ]
  },
  {
   "cell_type": "code",
   "execution_count": 36,
   "metadata": {},
   "outputs": [
    {
     "name": "stdout",
     "output_type": "stream",
     "text": [
      "Root mean Score Training: 0.9598856037134819\n",
      "Root mean Score Testing: 0.9582261817995034\n"
     ]
    }
   ],
   "source": [
    "from sklearn.metrics import r2_score, mean_squared_error\n",
    "\n",
    "pred_train = clf.predict(X_train)\n",
    "pred_test = clf.predict(X_test)\n",
    "\n",
    "print('Root mean Score Training: {}'.format(r2_score(y_train, pred_train)))\n",
    "print('Root mean Score Testing: {}'.format(r2_score(y_test, pred_test)))"
   ]
  },
  {
   "cell_type": "code",
   "execution_count": 38,
   "metadata": {},
   "outputs": [
    {
     "data": {
      "image/png": "[encoded data removed]",
      "text/plain": [
       "<Figure size 864x432 with 2 Axes>"
      ]
     },
     "metadata": {},
     "output_type": "display_data"
    }
   ],
   "source": [
    "plt.figure(figsize=(12,6))\n",
    "plt.subplot(1,2,1)\n",
    "plt.plot(np.arange(len(pred_train)), y_train - pred_train,'o')\n",
    "plt.axhline(0)\n",
    "plt.subplot(1,2,2)\n",
    "plt.plot(np.arange(len(pred_test)), y_test - pred_test,'o')\n",
    "plt.axhline(0)\n",
    "plt.tight_layout()"
   ]
  },
  {
   "cell_type": "code",
   "execution_count": null,
   "metadata": {},
   "outputs": [],
   "source": []
  }
 ],
 "metadata": {
  "kernelspec": {
   "display_name": "Python 3",
   "language": "python",
   "name": "python3"
  },
  "language_info": {
   "codemirror_mode": {
    "name": "ipython",
    "version": 3
   },
   "file_extension": ".py",
   "mimetype": "text/x-python",
   "name": "python",
   "nbconvert_exporter": "python",
   "pygments_lexer": "ipython3",
   "version": "3.6.5"
  }
 },
 "nbformat": 4,
 "nbformat_minor": 2
}
