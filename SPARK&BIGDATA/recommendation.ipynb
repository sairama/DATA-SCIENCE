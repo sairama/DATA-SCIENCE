{
 "cells": [
  {
   "cell_type": "code",
   "execution_count": 1,
   "metadata": {},
   "outputs": [],
   "source": [
    "from pyspark.sql import SparkSession\n",
    "spark = SparkSession.builder.appName('rec').getOrCreate()"
   ]
  },
  {
   "cell_type": "code",
   "execution_count": 2,
   "metadata": {},
   "outputs": [],
   "source": [
    "from pyspark.ml.recommendation import ALS"
   ]
  },
  {
   "cell_type": "code",
   "execution_count": 3,
   "metadata": {},
   "outputs": [],
   "source": [
    "from pyspark.ml.evaluation import RegressionEvaluator"
   ]
  },
  {
   "cell_type": "code",
   "execution_count": 4,
   "metadata": {},
   "outputs": [],
   "source": [
    "data = spark.read.csv('movielens_ratings.csv',inferSchema=True,header=True)"
   ]
  },
  {
   "cell_type": "code",
   "execution_count": 5,
   "metadata": {},
   "outputs": [
    {
     "name": "stdout",
     "output_type": "stream",
     "text": [
      "+-------+------+------+\n",
      "|movieId|rating|userId|\n",
      "+-------+------+------+\n",
      "|      2|   3.0|     0|\n",
      "|      3|   1.0|     0|\n",
      "|      5|   2.0|     0|\n",
      "|      9|   4.0|     0|\n",
      "|     11|   1.0|     0|\n",
      "|     12|   2.0|     0|\n",
      "|     15|   1.0|     0|\n",
      "|     17|   1.0|     0|\n",
      "|     19|   1.0|     0|\n",
      "|     21|   1.0|     0|\n",
      "|     23|   1.0|     0|\n",
      "|     26|   3.0|     0|\n",
      "|     27|   1.0|     0|\n",
      "|     28|   1.0|     0|\n",
      "|     29|   1.0|     0|\n",
      "|     30|   1.0|     0|\n",
      "|     31|   1.0|     0|\n",
      "|     34|   1.0|     0|\n",
      "|     37|   1.0|     0|\n",
      "|     41|   2.0|     0|\n",
      "+-------+------+------+\n",
      "only showing top 20 rows\n",
      "\n"
     ]
    }
   ],
   "source": [
    "data.show()"
   ]
  },
  {
   "cell_type": "code",
   "execution_count": 6,
   "metadata": {},
   "outputs": [
    {
     "name": "stdout",
     "output_type": "stream",
     "text": [
      "+-------+------------------+------------------+------------------+\n",
      "|summary|           movieId|            rating|            userId|\n",
      "+-------+------------------+------------------+------------------+\n",
      "|  count|              1501|              1501|              1501|\n",
      "|   mean| 49.40572951365756|1.7741505662891406|14.383744170552964|\n",
      "| stddev|28.937034065088994| 1.187276166124803| 8.591040424293272|\n",
      "|    min|                 0|               1.0|                 0|\n",
      "|    max|                99|               5.0|                29|\n",
      "+-------+------------------+------------------+------------------+\n",
      "\n"
     ]
    }
   ],
   "source": [
    "data.describe().show()"
   ]
  },
  {
   "cell_type": "code",
   "execution_count": 8,
   "metadata": {},
   "outputs": [],
   "source": [
    "train_data , test_data = data.randomSplit([0.8,0.2])"
   ]
  },
  {
   "cell_type": "code",
   "execution_count": 9,
   "metadata": {},
   "outputs": [],
   "source": [
    "als = ALS(maxIter=5,regParam=0.01,userCol='userId',itemCol='movieId',ratingCol='rating')"
   ]
  },
  {
   "cell_type": "code",
   "execution_count": 11,
   "metadata": {},
   "outputs": [],
   "source": [
    "model = als.fit(train_data)"
   ]
  },
  {
   "cell_type": "code",
   "execution_count": 13,
   "metadata": {},
   "outputs": [],
   "source": [
    "predictions = model.transform(test_data)"
   ]
  },
  {
   "cell_type": "code",
   "execution_count": 14,
   "metadata": {},
   "outputs": [
    {
     "name": "stdout",
     "output_type": "stream",
     "text": [
      "+-------+------+------+-----------+\n",
      "|movieId|rating|userId| prediction|\n",
      "+-------+------+------+-----------+\n",
      "|     31|   1.0|    27|  1.5439893|\n",
      "|     31|   1.0|     4|  2.1431432|\n",
      "|     31|   1.0|    18|  1.8298163|\n",
      "|     85|   1.0|    26| -1.3584976|\n",
      "|     85|   3.0|     1| 0.42336568|\n",
      "|     85|   5.0|    16| 0.07379147|\n",
      "|     85|   1.0|    23|  1.5009671|\n",
      "|     85|   4.0|     7|  2.9481215|\n",
      "|     85|   3.0|    21|  2.9611678|\n",
      "|     65|   1.0|    16| -3.1705558|\n",
      "|     53|   3.0|    13|  1.3882992|\n",
      "|     53|   1.0|     9|  3.4729524|\n",
      "|     78|   1.0|    22|  0.6111623|\n",
      "|     78|   1.0|     1| 0.43431932|\n",
      "|     78|   1.0|     8|  1.0151638|\n",
      "|     78|   1.0|    24| 0.53954035|\n",
      "|     34|   3.0|    25|-0.99165326|\n",
      "|     81|   1.0|    19|  2.6913815|\n",
      "|     28|   1.0|     5|  3.5622091|\n",
      "|     28|   2.0|    15|  1.6383789|\n",
      "+-------+------+------+-----------+\n",
      "only showing top 20 rows\n",
      "\n"
     ]
    }
   ],
   "source": [
    "predictions.show()"
   ]
  },
  {
   "cell_type": "code",
   "execution_count": 15,
   "metadata": {},
   "outputs": [],
   "source": [
    "evaluator = RegressionEvaluator(metricName='rmse',labelCol='rating',predictionCol='prediction')"
   ]
  },
  {
   "cell_type": "code",
   "execution_count": 16,
   "metadata": {},
   "outputs": [],
   "source": [
    "rmse = evaluator.evaluate(predictions)"
   ]
  },
  {
   "cell_type": "code",
   "execution_count": 19,
   "metadata": {},
   "outputs": [],
   "source": [
    "single_user = test_data.filter(test_data['userId']== 11).select(['movieId','userId'])"
   ]
  },
  {
   "cell_type": "code",
   "execution_count": 20,
   "metadata": {},
   "outputs": [
    {
     "name": "stdout",
     "output_type": "stream",
     "text": [
      "+-------+------+\n",
      "|movieId|userId|\n",
      "+-------+------+\n",
      "|     16|    11|\n",
      "|     19|    11|\n",
      "|     22|    11|\n",
      "|     27|    11|\n",
      "|     39|    11|\n",
      "|     43|    11|\n",
      "|     51|    11|\n",
      "|     82|    11|\n",
      "|     88|    11|\n",
      "|     99|    11|\n",
      "+-------+------+\n",
      "\n"
     ]
    }
   ],
   "source": [
    "single_user.show()"
   ]
  },
  {
   "cell_type": "code",
   "execution_count": 21,
   "metadata": {},
   "outputs": [],
   "source": [
    "recommendation = model.transform(single_user)"
   ]
  },
  {
   "cell_type": "code",
   "execution_count": 23,
   "metadata": {},
   "outputs": [
    {
     "name": "stdout",
     "output_type": "stream",
     "text": [
      "+-------+------+------------+\n",
      "|movieId|userId|  prediction|\n",
      "+-------+------+------------+\n",
      "|     22|    11|   3.6754286|\n",
      "|     39|    11|   3.4664922|\n",
      "|     19|    11|   3.2591784|\n",
      "|     27|    11|    3.069601|\n",
      "|     82|    11|   2.9436774|\n",
      "|     88|    11|   1.7962489|\n",
      "|     43|    11|   1.4855759|\n",
      "|     99|    11|  0.80719906|\n",
      "|     51|    11|-0.036966585|\n",
      "|     16|    11| -0.32417488|\n",
      "+-------+------+------------+\n",
      "\n"
     ]
    }
   ],
   "source": [
    "recommendation.orderBy('prediction',ascending = False).show()"
   ]
  },
  {
   "cell_type": "code",
   "execution_count": null,
   "metadata": {},
   "outputs": [],
   "source": []
  }
 ],
 "metadata": {
  "kernelspec": {
   "display_name": "Python 3",
   "language": "python",
   "name": "python3"
  },
  "language_info": {
   "codemirror_mode": {
    "name": "ipython",
    "version": 2
   },
   "file_extension": ".py",
   "mimetype": "text/x-python",
   "name": "python",
   "nbconvert_exporter": "python",
   "pygments_lexer": "ipython2",
   "version": "2.7.17"
  }
 },
 "nbformat": 4,
 "nbformat_minor": 2
}
