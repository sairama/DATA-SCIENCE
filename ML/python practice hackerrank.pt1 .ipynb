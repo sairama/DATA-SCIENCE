{
 "cells": [
  {
   "cell_type": "code",
   "execution_count": 1,
   "metadata": {},
   "outputs": [
    {
     "name": "stdout",
     "output_type": "stream",
     "text": [
      "3\n"
     ]
    }
   ],
   "source": [
    "n = int(input())\n"
   ]
  },
  {
   "cell_type": "code",
   "execution_count": 2,
   "metadata": {},
   "outputs": [
    {
     "name": "stdout",
     "output_type": "stream",
     "text": [
      "1 2 3 4 5\n"
     ]
    }
   ],
   "source": [
    "\n",
    "arr = list(map(int, input().split()))\n",
    "\n"
   ]
  },
  {
   "cell_type": "code",
   "execution_count": 3,
   "metadata": {},
   "outputs": [],
   "source": [
    "n= [1, 2 ,3 ,4 ,5]\n"
   ]
  },
  {
   "cell_type": "code",
   "execution_count": 4,
   "metadata": {},
   "outputs": [
    {
     "name": "stdout",
     "output_type": "stream",
     "text": [
      "[1, 2, 3, 4, 5]\n"
     ]
    }
   ],
   "source": [
    "print(arr)"
   ]
  },
  {
   "cell_type": "code",
   "execution_count": 5,
   "metadata": {},
   "outputs": [],
   "source": [
    "listnew=[]"
   ]
  },
  {
   "cell_type": "code",
   "execution_count": 6,
   "metadata": {},
   "outputs": [],
   "source": [
    "for i in arr:\n",
    "\n",
    "    if i not in listnew:\n",
    "        listnew.append(i)\n",
    "\n",
    "    listnew.sort(reverse=True)\n"
   ]
  },
  {
   "cell_type": "code",
   "execution_count": 7,
   "metadata": {},
   "outputs": [
    {
     "name": "stdout",
     "output_type": "stream",
     "text": [
      "3\n"
     ]
    }
   ],
   "source": [
    "print(listnew[2])"
   ]
  },
  {
   "cell_type": "code",
   "execution_count": 8,
   "metadata": {},
   "outputs": [],
   "source": [
    "# Python program to demonstrate working \n",
    "# of map. \n",
    "  \n",
    "# Return double of n \n",
    "def addition(n): \n",
    "    return n + n \n",
    "  \n"
   ]
  },
  {
   "cell_type": "code",
   "execution_count": 9,
   "metadata": {},
   "outputs": [
    {
     "name": "stdout",
     "output_type": "stream",
     "text": [
      "[2, 4, 6, 8]\n"
     ]
    }
   ],
   "source": [
    "# We double all numbers using map() \n",
    "numbers = (1, 2, 3, 4) \n",
    "result = map(addition, numbers) \n",
    "print(list(result)) "
   ]
  },
  {
   "cell_type": "code",
   "execution_count": 10,
   "metadata": {},
   "outputs": [
    {
     "name": "stdout",
     "output_type": "stream",
     "text": [
      "5\n",
      " 1 2 3 4 5\n"
     ]
    }
   ],
   "source": [
    "n = int(input())\n",
    "arr = list(map(int, input().split()))\n"
   ]
  },
  {
   "cell_type": "code",
   "execution_count": 11,
   "metadata": {},
   "outputs": [
    {
     "name": "stdout",
     "output_type": "stream",
     "text": [
      "[1, 2, 3, 4, 5]\n"
     ]
    }
   ],
   "source": [
    "print(arr)"
   ]
  },
  {
   "cell_type": "code",
   "execution_count": 14,
   "metadata": {},
   "outputs": [
    {
     "name": "stdout",
     "output_type": "stream",
     "text": [
      "1\n",
      " 3 4 5\n",
      "4\n"
     ]
    }
   ],
   "source": [
    "n = int(input())\n",
    "arr = list(map(int, input().split()))\n",
    "zes = max(arr)\n",
    "i=0\n",
    "while(i<n):\n",
    "    if zes ==max(arr):\n",
    "        arr.remove(max(arr))\n",
    "    i+=1\n",
    "print(max(arr))"
   ]
  },
  {
   "cell_type": "code",
   "execution_count": null,
   "metadata": {},
   "outputs": [],
   "source": [
    "n = int(input())\n",
    "arr = list(map(int, input().split()))\n",
    "largest = max(arr)\n",
    "\n",
    "for i in range(n):\n",
    "    if largest == max(arr):\n",
    "        arr.remove(max(arr))\n",
    "\n",
    "print(max(arr))"
   ]
  },
  {
   "cell_type": "code",
   "execution_count": null,
   "metadata": {},
   "outputs": [],
   "source": [
    "print(largest)"
   ]
  },
  {
   "cell_type": "code",
   "execution_count": null,
   "metadata": {},
   "outputs": [],
   "source": [
    "n = int(input())\n",
    "arr = list(map(int, input().split()))\n",
    "a = max(arr)\n",
    "for x in range(len(arr)-1,-1,-1):\n",
    "    if arr[x] == a:\n",
    "        arr.remove(arr[x])\n",
    "        \n",
    "print(max(arr))"
   ]
  },
  {
   "cell_type": "code",
   "execution_count": null,
   "metadata": {},
   "outputs": [],
   "source": [
    "a=range(len(arr)-1,-1,-1)\n",
    "a"
   ]
  },
  {
   "cell_type": "code",
   "execution_count": null,
   "metadata": {},
   "outputs": [],
   "source": [
    "#using sort function in python\n",
    "n = int(input())\n",
    "\n",
    "arr = list(map(int, input().split()))\n",
    "\n",
    "listnew=[]\n",
    "\n",
    "for i in arr:\n",
    "    if i not in listnew:\n",
    "        listnew.append(i)\n",
    "        listnew.sort(reverse=True)\n",
    "\n",
    "print(listnew[1])"
   ]
  },
  {
   "cell_type": "code",
   "execution_count": null,
   "metadata": {},
   "outputs": [],
   "source": [
    "n = int(input())\n",
    "\n",
    "nums = map(int, input().split())\n",
    "print(sorted(list(set(nums)))[-2])"
   ]
  },
  {
   "cell_type": "code",
   "execution_count": null,
   "metadata": {},
   "outputs": [],
   "source": [
    "#how map function works\n",
    "def calculateSquare(n):\n",
    "  return n*n\n",
    "\n",
    "numbers = (1, 2, 3, 4)\n",
    "result = map(calculateSquare, numbers)\n",
    "print(result)\n",
    "\n",
    "# converting map object to set\n",
    "numbersSquare = set(result)\n",
    "print(numbersSquare)"
   ]
  },
  {
   "cell_type": "code",
   "execution_count": null,
   "metadata": {},
   "outputs": [],
   "source": [
    "#python code in 1 line for getting the second largest\n",
    "print(input()==0 or sorted(list(set(map(int,input().split()))))[-2])"
   ]
  },
  {
   "cell_type": "code",
   "execution_count": 21,
   "metadata": {},
   "outputs": [
    {
     "name": "stdout",
     "output_type": "stream",
     "text": [
      "5\n",
      " 1 3 6 7 5\n",
      "6\n"
     ]
    }
   ],
   "source": [
    "dn,arr=(input() for _ in range(2))\n",
    "nums = map(int, arr.split())\n",
    "a=sorted(list(set(nums)))\n",
    "if(len(a)==1):\n",
    "    print(a[0])\n",
    "else:\n",
    "    print(a[-2])"
   ]
  },
  {
   "cell_type": "code",
   "execution_count": 22,
   "metadata": {},
   "outputs": [
    {
     "name": "stdout",
     "output_type": "stream",
     "text": [
      "5\n",
      "1 3 4 5\n",
      "5\n",
      "1 3 4 5\n"
     ]
    }
   ],
   "source": [
    "dn,arr=(input() for _ in range(2))\n",
    "print(dn)\n",
    "print(arr)"
   ]
  },
  {
   "cell_type": "code",
   "execution_count": 25,
   "metadata": {},
   "outputs": [
    {
     "name": "stdout",
     "output_type": "stream",
     "text": [
      "5\n",
      " 1 2 3 4 5\n"
     ]
    },
    {
     "ename": "TypeError",
     "evalue": "'int' object is not callable",
     "output_type": "error",
     "traceback": [
      "\u001b[1;31m---------------------------------------------------------------------------\u001b[0m",
      "\u001b[1;31mTypeError\u001b[0m                                 Traceback (most recent call last)",
      "\u001b[1;32m<ipython-input-25-c260f411391b>\u001b[0m in \u001b[0;36m<module>\u001b[1;34m()\u001b[0m\n\u001b[0;32m      1\u001b[0m \u001b[0mn\u001b[0m \u001b[1;33m=\u001b[0m \u001b[0mint\u001b[0m\u001b[1;33m(\u001b[0m\u001b[0minput\u001b[0m\u001b[1;33m(\u001b[0m\u001b[1;33m)\u001b[0m\u001b[1;33m)\u001b[0m\u001b[1;33m\u001b[0m\u001b[0m\n\u001b[0;32m      2\u001b[0m \u001b[0marr\u001b[0m \u001b[1;33m=\u001b[0m \u001b[0mmap\u001b[0m\u001b[1;33m(\u001b[0m\u001b[0mint\u001b[0m\u001b[1;33m,\u001b[0m \u001b[0minput\u001b[0m\u001b[1;33m(\u001b[0m\u001b[1;33m)\u001b[0m\u001b[1;33m.\u001b[0m\u001b[0msplit\u001b[0m\u001b[1;33m(\u001b[0m\u001b[1;33m)\u001b[0m\u001b[1;33m)\u001b[0m\u001b[1;33m\u001b[0m\u001b[0m\n\u001b[1;32m----> 3\u001b[1;33m \u001b[0ma\u001b[0m \u001b[1;33m=\u001b[0m \u001b[0mmax\u001b[0m\u001b[1;33m(\u001b[0m\u001b[0mlist\u001b[0m\u001b[1;33m)\u001b[0m\u001b[1;33m\u001b[0m\u001b[0m\n\u001b[0m\u001b[0;32m      4\u001b[0m \u001b[0mlist\u001b[0m \u001b[1;33m=\u001b[0m \u001b[0mlist\u001b[0m\u001b[1;33m(\u001b[0m\u001b[0marr\u001b[0m\u001b[1;33m)\u001b[0m\u001b[1;33m\u001b[0m\u001b[0m\n\u001b[0;32m      5\u001b[0m \u001b[0ml\u001b[0m \u001b[1;33m=\u001b[0m \u001b[1;33m[\u001b[0m\u001b[0mx\u001b[0m \u001b[1;32mfor\u001b[0m \u001b[0mx\u001b[0m \u001b[1;32min\u001b[0m \u001b[0mlist\u001b[0m \u001b[1;32mif\u001b[0m \u001b[0mx\u001b[0m \u001b[1;33m!=\u001b[0m \u001b[0ma\u001b[0m\u001b[1;33m]\u001b[0m\u001b[1;33m\u001b[0m\u001b[0m\n",
      "\u001b[1;31mTypeError\u001b[0m: 'int' object is not callable"
     ]
    }
   ],
   "source": [
    "#whyyy\n",
    "n = int(input())\n",
    "arr = map(int, input().split())\n",
    "a = max(list)\n",
    "list = list(arr)\n",
    "l = [x for x in list if x != a]\n",
    "print(max(l))"
   ]
  },
  {
   "cell_type": "code",
   "execution_count": 48,
   "metadata": {},
   "outputs": [
    {
     "name": "stdout",
     "output_type": "stream",
     "text": [
      "3\n",
      "sai\n",
      "45\n",
      "ji\n",
      "89\n",
      "ha\n",
      "90\n",
      "ji\n"
     ]
    }
   ],
   "source": [
    "lowest=[]\n",
    "secondLowest=[]\n",
    "for _ in range(int(input())):\n",
    "    name=input()\n",
    "    score=float(input())\n",
    "    if len(lowest)==0:\n",
    "        #initialize lowest list\n",
    "        lowest=[ [name,score] ]\n",
    "    elif score < lowest[0][1]:\n",
    "        secondLowest=lowest\n",
    "        lowest=[ [name,score] ]\n",
    "    elif score == lowest[0][1]:\n",
    "        lowest.append( [name,score] )\n",
    "    elif len(secondLowest)==0:\n",
    "        secondLowest=[ [name,score] ]\n",
    "    elif score < secondLowest[0][1]:\n",
    "        secondLowest=[ [name,score] ]\n",
    "    elif score == secondLowest[0][1]:\n",
    "        secondLowest.append( [name,score] )\n",
    "names=[item[0] for item in secondLowest]\n",
    "for name in sorted(names):\n",
    "    print(name)"
   ]
  },
  {
   "cell_type": "code",
   "execution_count": 52,
   "metadata": {},
   "outputs": [
    {
     "name": "stdout",
     "output_type": "stream",
     "text": [
      "3\n",
      "sai\n",
      "89\n",
      "vj\n",
      "90\n",
      "siva\n",
      "78\n",
      "sai\n"
     ]
    }
   ],
   "source": [
    "\n",
    "scores = {}\n",
    "top2 = []\n",
    "\n",
    "def logScore(score):\n",
    "    global top2\n",
    "    xs = [x for x in top2 if x < score] + [score] + [x for x in top2 if x > score]\n",
    "    top2 = xs if len(xs) < 3 else xs[0:2]\n",
    "\n",
    "for _ in range(int(input())):\n",
    "    name = input()\n",
    "    score = float(input())\n",
    "    logScore(score)\n",
    "    scores[score] = scores.get(score,[]) + [name]\n",
    "\n",
    "for name in sorted(scores[top2[1]]):\n",
    "    print(name)"
   ]
  },
  {
   "cell_type": "code",
   "execution_count": 54,
   "metadata": {},
   "outputs": [
    {
     "name": "stdout",
     "output_type": "stream",
     "text": [
      "4\n",
      "sai09\n",
      "90\n",
      "ij\n",
      "90\n",
      "ko\n",
      "32\n",
      "io\n",
      "21\n"
     ]
    }
   ],
   "source": [
    "#how\n",
    "marksheet = [[input(), float(input())] for _ in range(int(input()))]"
   ]
  },
  {
   "cell_type": "code",
   "execution_count": 7,
   "metadata": {},
   "outputs": [
    {
     "name": "stdout",
     "output_type": "stream",
     "text": [
      "4\n",
      "sai\n",
      "90\n",
      "siva\n",
      "89\n",
      "siva \n",
      "89\n",
      "hi\n",
      "80\n",
      "siva\n",
      "siva \n"
     ]
    }
   ],
   "source": [
    "#second lowest score printing\n",
    "marksheet = []\n",
    "for _ in range(0,int(input())):\n",
    "    marksheet.append([input(), float(input())])\n",
    "\n",
    "second_highest = sorted(list(set([marks for name, marks in marksheet])))[1]\n",
    "print('\\n'.join([a for a,b in sorted(marksheet) if b == second_highest])) "
   ]
  },
  {
   "cell_type": "code",
   "execution_count": 8,
   "metadata": {},
   "outputs": [
    {
     "name": "stdout",
     "output_type": "stream",
     "text": [
      "[['sai', 90.0], ['siva', 89.0], ['siva ', 89.0], ['hi', 80.0]]\n"
     ]
    }
   ],
   "source": [
    "print(marksheet)"
   ]
  },
  {
   "cell_type": "code",
   "execution_count": 9,
   "metadata": {},
   "outputs": [
    {
     "name": "stdout",
     "output_type": "stream",
     "text": [
      "89.0\n"
     ]
    }
   ],
   "source": [
    "second_highest = sorted(list(set([marks for name, marks in marksheet])))[1]\n",
    "print(second_highest)"
   ]
  },
  {
   "cell_type": "code",
   "execution_count": 11,
   "metadata": {},
   "outputs": [
    {
     "name": "stdout",
     "output_type": "stream",
     "text": [
      "4\n",
      "sai\n",
      "90\n",
      "ji\n",
      "87\n",
      "ko\n",
      "98\n",
      "hi32\n",
      "32\n",
      "ji\n"
     ]
    }
   ],
   "source": [
    "#second lowest score printing\n",
    "scores = {}\n",
    "top2 = []\n",
    "\n",
    "def logScore(score):\n",
    "    global top2\n",
    "    xs = [x for x in top2 if x < score] + [score] + [x for x in top2 if x > score]\n",
    "    top2 = xs if len(xs) < 3 else xs[0:2]\n",
    "\n",
    "for _ in range(int(input())):\n",
    "    name = input()\n",
    "    score = float(input())\n",
    "    logScore(score)\n",
    "    scores[score] = scores.get(score,[]) + [name]\n",
    "\n",
    "for name in sorted(scores[top2[1]]):\n",
    "    print(name)"
   ]
  },
  {
   "cell_type": "code",
   "execution_count": 2,
   "metadata": {},
   "outputs": [
    {
     "name": "stdout",
     "output_type": "stream",
     "text": [
      "3\n",
      "sai 98 65 78\n",
      "vj 89 65 89\n",
      "sao 96 78 54\n",
      "sao\n",
      "76.00\n"
     ]
    }
   ],
   "source": [
    "\n",
    "n = int(input())\n",
    "student_marks = {}\n",
    "for _ in range(n):\n",
    "    name, *line = input().split()\n",
    "    scores = list(map(float, line))\n",
    "    student_marks[name] = scores\n",
    "query_name = input()\n",
    "print(\"{:0.2f}\".format(sum( student_marks[query_name])/3))\n"
   ]
  },
  {
   "cell_type": "code",
   "execution_count": 3,
   "metadata": {},
   "outputs": [
    {
     "name": "stdout",
     "output_type": "stream",
     "text": [
      "{'sai': [98.0, 65.0, 78.0], 'vj': [89.0, 65.0, 89.0], 'sao': [96.0, 78.0, 54.0]}\n",
      "sao\n",
      "[96.0, 78.0, 54.0]\n"
     ]
    }
   ],
   "source": [
    "print(student_marks)\n",
    "print(query_name)\n",
    "print(student_marks[query_name])\n"
   ]
  },
  {
   "cell_type": "code",
   "execution_count": 5,
   "metadata": {},
   "outputs": [
    {
     "name": "stdout",
     "output_type": "stream",
     "text": [
      "3\n",
      "sai 98 76 54\n",
      "['sai', '98', '76', '54']\n",
      "{'sai': [98.0, 76.0, 54.0]}\n",
      "ui 87 65 78\n",
      "['ui', '87', '65', '78']\n",
      "{'sai': [98.0, 76.0, 54.0], 'ui': [87.0, 65.0, 78.0]}\n",
      "hello 98 65 78\n",
      "['hello', '98', '65', '78']\n",
      "{'sai': [98.0, 76.0, 54.0], 'ui': [87.0, 65.0, 78.0], 'hello': [98.0, 65.0, 78.0]}\n",
      "hello\n",
      "80.33\n"
     ]
    }
   ],
   "source": [
    "marks = {}\n",
    "for _ in range(int(input())):\n",
    "    line = input().split()\n",
    "    print(line)\n",
    "    marks[line[0]] = list(map(float, line[1:]))\n",
    "    print(marks)\n",
    "print('%.2f' %(sum(marks[input()])/3))"
   ]
  },
  {
   "cell_type": "code",
   "execution_count": 26,
   "metadata": {},
   "outputs": [
    {
     "name": "stdout",
     "output_type": "stream",
     "text": [
      "1\n",
      "1 2\n"
     ]
    },
    {
     "data": {
      "text/plain": [
       "3713081631934410656"
      ]
     },
     "execution_count": 26,
     "metadata": {},
     "output_type": "execute_result"
    }
   ],
   "source": [
    "n = int(input())\n",
    "integer_list = map(int, input().split())\n",
    "x = tuple(integer_list)\n",
    "hash(x)"
   ]
  },
  {
   "cell_type": "code",
   "execution_count": 11,
   "metadata": {},
   "outputs": [
    {
     "name": "stdout",
     "output_type": "stream",
     "text": [
      "['1', '2', '3']\n"
     ]
    }
   ],
   "source": [
    "inpu = '1 2 3'\n",
    "print(inpu.split())\n"
   ]
  },
  {
   "cell_type": "code",
   "execution_count": 18,
   "metadata": {},
   "outputs": [
    {
     "data": {
      "text/plain": [
       "<map at 0x5301908>"
      ]
     },
     "execution_count": 18,
     "metadata": {},
     "output_type": "execute_result"
    }
   ],
   "source": [
    "integer_list = map(int,inpu.split())\n",
    "integer_list"
   ]
  },
  {
   "cell_type": "code",
   "execution_count": 23,
   "metadata": {},
   "outputs": [
    {
     "name": "stdout",
     "output_type": "stream",
     "text": [
      "[1, 2]\n"
     ]
    }
   ],
   "source": [
    "print(list(integer_list))"
   ]
  },
  {
   "cell_type": "code",
   "execution_count": 32,
   "metadata": {},
   "outputs": [
    {
     "name": "stdout",
     "output_type": "stream",
     "text": [
      "3527539\n"
     ]
    }
   ],
   "source": [
    "x = tuple(integer_list)\n",
    "print(hash(x))"
   ]
  },
  {
   "cell_type": "code",
   "execution_count": 27,
   "metadata": {},
   "outputs": [
    {
     "name": "stdout",
     "output_type": "stream",
     "text": [
      "1\n",
      "1 2\n",
      "3713081631934410656\n"
     ]
    }
   ],
   "source": [
    "n = input()\n",
    "input_line = input()\n",
    "input_list = input_line.split()\n",
    "for i in range(len(input_list)):\n",
    "        input_list[i] = int(input_list[i])\n",
    "#input_list = map(int, input_list)\n",
    "t = tuple(input_list)\n",
    "print(hash(t))\n"
   ]
  },
  {
   "cell_type": "code",
   "execution_count": null,
   "metadata": {},
   "outputs": [],
   "source": [
    "n = int(input())\n",
    "l = []\n",
    "for l in range(n):\n",
    "    s = input().split()\n",
    "    print(s)\n",
    "    cmd = s[0]\n",
    "    print(cmd)\n",
    "    args = s[1:]\n",
    "    print(args)\n",
    "    if cmd !=\"print\":\n",
    "        cmd += \"(\"+ \",\".join(args) +\")\"\n",
    "        eval(\"l.\"+cmd)\n",
    "    else:\n",
    "        print(l)"
   ]
  },
  {
   "cell_type": "code",
   "execution_count": 17,
   "metadata": {},
   "outputs": [
    {
     "name": "stdout",
     "output_type": "stream",
     "text": [
      "insert(1,3,10)\n"
     ]
    }
   ],
   "source": [
    "cmd = 'insert'\n",
    "arg1 = '1'\n",
    "arg2 = '3'\n",
    "arg3 = '10'\n",
    "\n",
    "cmd = cmd + \"(\" + \",\".join((arg1, arg2, arg3)) + \")\"\n",
    "print(cmd)"
   ]
  },
  {
   "cell_type": "code",
   "execution_count": 18,
   "metadata": {},
   "outputs": [
    {
     "name": "stdout",
     "output_type": "stream",
     "text": [
      "The age is: 23\n",
      "The age is: 23\n"
     ]
    }
   ],
   "source": [
    "class Person:\n",
    "    age = 23\n",
    "    name = \"Adam\"\n",
    "\n",
    "person = Person()\n",
    "print('The age is:', getattr(person, \"age\"))\n",
    "print('The age is:', person.age)"
   ]
  },
  {
   "cell_type": "code",
   "execution_count": 23,
   "metadata": {},
   "outputs": [
    {
     "name": "stdout",
     "output_type": "stream",
     "text": [
      "['9', '8', '6']\n"
     ]
    }
   ],
   "source": [
    "l=['9','8']\n",
    "l.insert(5,'6')\n",
    "print(l)"
   ]
  },
  {
   "cell_type": "code",
   "execution_count": 51,
   "metadata": {},
   "outputs": [
    {
     "name": "stdout",
     "output_type": "stream",
     "text": [
      "i Am SairaM\n"
     ]
    }
   ],
   "source": [
    "stri= 'i Am SairaM'\n",
    "stri.lower()\n",
    "stri.upper()\n",
    "print(stri)"
   ]
  },
  {
   "cell_type": "code",
   "execution_count": 49,
   "metadata": {},
   "outputs": [],
   "source": [
    "str1='SaIRAM'"
   ]
  },
  {
   "cell_type": "code",
   "execution_count": 50,
   "metadata": {},
   "outputs": [
    {
     "data": {
      "text/plain": [
       "False"
      ]
     },
     "execution_count": 50,
     "metadata": {},
     "output_type": "execute_result"
    }
   ],
   "source": [
    "str1[1].isupper()"
   ]
  },
  {
   "cell_type": "code",
   "execution_count": 55,
   "metadata": {},
   "outputs": [
    {
     "name": "stdout",
     "output_type": "stream",
     "text": [
      "['i', ' ', 'A', 'm', ' ', 'S', 'a', 'i', 'r', 'a', 'M']\n"
     ]
    }
   ],
   "source": [
    "str[0]\n",
    "\n",
    "len(str)\n",
    "x=list(stri)\n",
    "print(x)"
   ]
  },
  {
   "cell_type": "code",
   "execution_count": 78,
   "metadata": {},
   "outputs": [
    {
     "name": "stdout",
     "output_type": "stream",
     "text": [
      "sAiram\n"
     ]
    }
   ],
   "source": [
    "print(''.join([i.lower() if i.isupper() else i.upper() for i in str1]))\n",
    "        "
   ]
  },
  {
   "cell_type": "code",
   "execution_count": 80,
   "metadata": {},
   "outputs": [
    {
     "name": "stdout",
     "output_type": "stream",
     "text": [
      "['s', 'A', 'i', 'r', 'a', 'm']\n"
     ]
    }
   ],
   "source": [
    "s=[i.lower() if i.isupper() else i.upper() for i in str1]\n",
    "print(s)"
   ]
  },
  {
   "cell_type": "code",
   "execution_count": 84,
   "metadata": {},
   "outputs": [
    {
     "name": "stdout",
     "output_type": "stream",
     "text": [
      "s A i r a m\n",
      "s,A,i,r,a,m\n"
     ]
    }
   ],
   "source": [
    "print(' '.join(s))\n",
    "print(','.join(s))"
   ]
  },
  {
   "cell_type": "code",
   "execution_count": 85,
   "metadata": {},
   "outputs": [],
   "source": [
    "def swap_case(s):\n",
    "    a = \"\"\n",
    "    for let in s:\n",
    "        if let.isupper() == True:\n",
    "            a+=(let.lower())\n",
    "        else:\n",
    "            a+=(let.upper())\n",
    "    return a"
   ]
  },
  {
   "cell_type": "code",
   "execution_count": 96,
   "metadata": {},
   "outputs": [
    {
     "name": "stdout",
     "output_type": "stream",
     "text": [
      "sA\n",
      "sAI\n",
      "sAIrA\n"
     ]
    },
    {
     "ename": "SyntaxError",
     "evalue": "'return' outside function (<ipython-input-96-eb2e4f3301f2>, line 9)",
     "output_type": "error",
     "traceback": [
      "\u001b[1;36m  File \u001b[1;32m\"<ipython-input-96-eb2e4f3301f2>\"\u001b[1;36m, line \u001b[1;32m9\u001b[0m\n\u001b[1;33m    return a\u001b[0m\n\u001b[1;37m             ^\u001b[0m\n\u001b[1;31mSyntaxError\u001b[0m\u001b[1;31m:\u001b[0m 'return' outside function\n"
     ]
    }
   ],
   "source": [
    "s= 'SaiRaM'\n",
    "a = \"\"\n",
    "for let in s:\n",
    "    if let.isupper() == True:\n",
    "        a+=(let.lower())\n",
    "    else:\n",
    "        a+=(let.upper())\n",
    "        print(a)\n",
    "return a "
   ]
  },
  {
   "cell_type": "code",
   "execution_count": 97,
   "metadata": {},
   "outputs": [
    {
     "ename": "SyntaxError",
     "evalue": "'return' outside function (<ipython-input-97-0a60057eda7b>, line 7)",
     "output_type": "error",
     "traceback": [
      "\u001b[1;36m  File \u001b[1;32m\"<ipython-input-97-0a60057eda7b>\"\u001b[1;36m, line \u001b[1;32m7\u001b[0m\n\u001b[1;33m    return a\u001b[0m\n\u001b[1;37m            ^\u001b[0m\n\u001b[1;31mSyntaxError\u001b[0m\u001b[1;31m:\u001b[0m 'return' outside function\n"
     ]
    }
   ],
   "source": []
  },
  {
   "cell_type": "code",
   "execution_count": 98,
   "metadata": {},
   "outputs": [
    {
     "name": "stdout",
     "output_type": "stream",
     "text": [
      "[1, 2, 3, 4, 5, 6]\n",
      "1 2 3 4 5 6\n",
      "1 4 9 16 25 36\n"
     ]
    }
   ],
   "source": [
    "l = [1,2,3,4,5,6]\n",
    "print(l)\n",
    "\n",
    "print(*l)\n",
    "\n",
    "print(*map(lambda x : x**2, l))\n"
   ]
  },
  {
   "cell_type": "code",
   "execution_count": 102,
   "metadata": {},
   "outputs": [
    {
     "name": "stdout",
     "output_type": "stream",
     "text": [
      "sAIrAm\n"
     ]
    }
   ],
   "source": [
    "print(*map(lambda ch : ch.lower() if ch.isupper() else ch.upper(), s), sep=\"\")"
   ]
  },
  {
   "cell_type": "code",
   "execution_count": 104,
   "metadata": {},
   "outputs": [
    {
     "data": {
      "text/plain": [
       "'I-am-sairam'"
      ]
     },
     "execution_count": 104,
     "metadata": {},
     "output_type": "execute_result"
    }
   ],
   "source": [
    "line ='I am sairam'\n",
    "line = line.split()\n",
    "'-'.join(line)\n"
   ]
  },
  {
   "cell_type": "code",
   "execution_count": 106,
   "metadata": {},
   "outputs": [],
   "source": [
    "line ='I am sairam'"
   ]
  },
  {
   "cell_type": "code",
   "execution_count": 107,
   "metadata": {},
   "outputs": [
    {
     "name": "stdout",
     "output_type": "stream",
     "text": [
      "I-am-sairam\n"
     ]
    }
   ],
   "source": [
    "print(\"-\".join(line.split()))"
   ]
  },
  {
   "cell_type": "code",
   "execution_count": 109,
   "metadata": {},
   "outputs": [
    {
     "name": "stdout",
     "output_type": "stream",
     "text": [
      "a b c d\n",
      "['a', 'b', 'c', 'd']\n",
      "a b c d\n"
     ]
    }
   ],
   "source": [
    "letters = ['a', 'b', 'c', 'd']\n",
    "print(*letters)\n",
    "print(letters)\n",
    "print('a', 'b', 'c', 'd')"
   ]
  },
  {
   "cell_type": "code",
   "execution_count": 110,
   "metadata": {},
   "outputs": [
    {
     "name": "stdout",
     "output_type": "stream",
     "text": [
      "sai\n",
      "ram\n",
      "Hello sai ram! You just delved into python.\n"
     ]
    }
   ],
   "source": [
    "def print_full_name(a, b):\n",
    "    print(\"Hello {} {}! You just delved into python.\".format(a,b))\n",
    "\n",
    "\n",
    "\n",
    "if __name__ == '__main__':\n",
    "    first_name = input()\n",
    "    last_name = input()\n",
    "    print_full_name(first_name, last_name)"
   ]
  },
  {
   "cell_type": "code",
   "execution_count": 111,
   "metadata": {},
   "outputs": [
    {
     "name": "stdout",
     "output_type": "stream",
     "text": [
      "sai\n",
      "ram\n",
      "Hello sai ram! You just delved into python.\n"
     ]
    }
   ],
   "source": [
    "def print_full_name(a, b):\n",
    "    print ((\"Hello %s %s! You just delved into python.\") % (first_name, last_name))\n",
    "\n",
    "\n",
    "\n",
    "if __name__ == '__main__':\n",
    "    first_name = input()\n",
    "    last_name = input()\n",
    "    print_full_name(first_name, last_name)"
   ]
  },
  {
   "cell_type": "code",
   "execution_count": 112,
   "metadata": {},
   "outputs": [
    {
     "name": "stdout",
     "output_type": "stream",
     "text": [
      "sai\n",
      "ram\n",
      "Hello sai ram ! You just delved into python.\n"
     ]
    }
   ],
   "source": [
    "a=input()\n",
    "b=input()\n",
    "print(\"Hello\",a,b,\"! You just delved into python.\") "
   ]
  },
  {
   "cell_type": "code",
   "execution_count": 115,
   "metadata": {},
   "outputs": [
    {
     "name": "stdout",
     "output_type": "stream",
     "text": [
      "a\n"
     ]
    }
   ],
   "source": [
    "string = \"abracadabra\"\n",
    "print(string[5])"
   ]
  },
  {
   "cell_type": "code",
   "execution_count": 116,
   "metadata": {},
   "outputs": [
    {
     "ename": "TypeError",
     "evalue": "'str' object does not support item assignment",
     "output_type": "error",
     "traceback": [
      "\u001b[1;31m---------------------------------------------------------------------------\u001b[0m",
      "\u001b[1;31mTypeError\u001b[0m                                 Traceback (most recent call last)",
      "\u001b[1;32m<ipython-input-116-68cc1f139bdb>\u001b[0m in \u001b[0;36m<module>\u001b[1;34m()\u001b[0m\n\u001b[1;32m----> 1\u001b[1;33m \u001b[0mstring\u001b[0m\u001b[1;33m[\u001b[0m\u001b[1;36m5\u001b[0m\u001b[1;33m]\u001b[0m \u001b[1;33m=\u001b[0m \u001b[1;34m'k'\u001b[0m\u001b[1;33m\u001b[0m\u001b[0m\n\u001b[0m",
      "\u001b[1;31mTypeError\u001b[0m: 'str' object does not support item assignment"
     ]
    }
   ],
   "source": [
    "string[5] = 'k' "
   ]
  },
  {
   "cell_type": "code",
   "execution_count": 119,
   "metadata": {},
   "outputs": [
    {
     "name": "stdout",
     "output_type": "stream",
     "text": [
      "['a', 'b', 'r', 'a', 'c', 'a', 'd', 'a', 'b', 'r', 'a']\n",
      "abrackdabra\n"
     ]
    }
   ],
   "source": [
    "l = list(string)\n",
    "print(l)\n",
    "l[5] = 'k'\n",
    "string = ''.join(l)\n",
    "print(string)"
   ]
  },
  {
   "cell_type": "code",
   "execution_count": 120,
   "metadata": {},
   "outputs": [
    {
     "name": "stdout",
     "output_type": "stream",
     "text": [
      "abrackdabra\n"
     ]
    }
   ],
   "source": [
    "string = \"abracadabra\"\n",
    "string = string[:5] + \"k\" + string[6:]\n",
    "print(string)"
   ]
  },
  {
   "cell_type": "code",
   "execution_count": 128,
   "metadata": {},
   "outputs": [
    {
     "name": "stdout",
     "output_type": "stream",
     "text": [
      "sairam\n",
      "5 c\n",
      "5\n",
      "c\n",
      "sairac\n"
     ]
    }
   ],
   "source": [
    "s = input()\n",
    "i, c = input().split()\n",
    "print(i)\n",
    "print(c)\n",
    "\n",
    "\n",
    "print(s[:int(i)] + c + s[int(i)+1:])"
   ]
  },
  {
   "cell_type": "code",
   "execution_count": 132,
   "metadata": {},
   "outputs": [
    {
     "name": "stdout",
     "output_type": "stream",
     "text": [
      "['5', 'c']\n"
     ]
    }
   ],
   "source": [
    "m ='5 c'\n",
    "print(m.split())\n",
    "v,b = m.split()"
   ]
  },
  {
   "cell_type": "code",
   "execution_count": 133,
   "metadata": {},
   "outputs": [
    {
     "name": "stdout",
     "output_type": "stream",
     "text": [
      "You are learning Python\n",
      "ou ar\n",
      "arning Python\n",
      "You are le\n"
     ]
    }
   ],
   "source": [
    "s = \"You are learning Python\"\n",
    "print(s[:]) # outputs \"You are learning Python\"\n",
    "print(s[1:6]) # outputs \"ou ar\", because s[1] is \"o\", s[5] is \"r\"\n",
    "print(s[10:]) # outputs \"arning Python\" because it's the slice from index 10 to the end of the string\n",
    "print(s[:10]) # outputs \"You are le\" because it's the slice from the start to index 9"
   ]
  },
  {
   "cell_type": "code",
   "execution_count": 139,
   "metadata": {},
   "outputs": [
    {
     "name": "stdout",
     "output_type": "stream",
     "text": [
      "sasairamram\n"
     ]
    }
   ],
   "source": [
    "#why\n",
    "m ='sairam'\n",
    "l = list(m)\n",
    "l[2] = '{}'.format(m)\n",
    "string = ''.join(l)\n",
    "print(string)"
   ]
  },
  {
   "cell_type": "code",
   "execution_count": 141,
   "metadata": {},
   "outputs": [
    {
     "name": "stdout",
     "output_type": "stream",
     "text": [
      "Original String: Hello World!\n"
     ]
    }
   ],
   "source": [
    "testString1 = \"Hello World!\"\n",
    "print(\"Original String: \"+ testString1)"
   ]
  },
  {
   "cell_type": "code",
   "execution_count": 142,
   "metadata": {},
   "outputs": [
    {
     "name": "stdout",
     "output_type": "stream",
     "text": [
      "Converting to LowerCase\n",
      "hello world!\n",
      "Converting to Upper Case\n",
      "HELLO WORLD!\n"
     ]
    }
   ],
   "source": [
    "# Converting a string to lower case\n",
    "print(\"Converting to LowerCase\")\n",
    "print(testString1.lower())\n",
    "\n",
    "# Converting a string to upper case\n",
    "print(\"Converting to Upper Case\")\n",
    "print(testString1.upper())"
   ]
  },
  {
   "cell_type": "code",
   "execution_count": 143,
   "metadata": {},
   "outputs": [
    {
     "name": "stdout",
     "output_type": "stream",
     "text": [
      "Capitalizing the String\n",
      "Hello world!\n"
     ]
    }
   ],
   "source": [
    "# Capitalizing a string\n",
    "# Only the first letter in the string will be capitalized\n",
    "print(\"Capitalizing the String\")\n",
    "print(testString1.capitalize())\n"
   ]
  },
  {
   "cell_type": "code",
   "execution_count": 144,
   "metadata": {},
   "outputs": [
    {
     "name": "stdout",
     "output_type": "stream",
     "text": [
      "Substring from index 1 to 7\n",
      "ello Wo\n",
      "Substring from the start till character at index = 7 (start of string is index 0): \n",
      "Hello Wo\n",
      "Substring from the character at index = 7, till the end of the string (remember: start of string is index 0): \n",
      "orld!\n"
     ]
    }
   ],
   "source": [
    "\n",
    "# Trying to slice out a substring between given indexes\n",
    "print(\"Substring from index 1 to 7\")\n",
    "print(testString1[1:8])\n",
    "\n",
    "#Substring from the start till character at index = 7 (start of string is index 0)\n",
    "print(\"Substring from the start till character at index = 7 (start of string is index 0): \")\n",
    "print(testString1[:8])\n",
    "\n",
    "#Substring from the character at index = 7, till the end of the string (remember: start of string is index 0)\n",
    "print(\"Substring from the character at index = 7, till the end of the string (remember: start of string is index 0): \")\n",
    "print(testString1[7:])"
   ]
  },
  {
   "cell_type": "code",
   "execution_count": 145,
   "metadata": {},
   "outputs": [
    {
     "name": "stdout",
     "output_type": "stream",
     "text": [
      "Find the index from which the substring 'llo' begins within the test string\n",
      "2\n"
     ]
    }
   ],
   "source": [
    "#Find the position of a  substring within the string\n",
    "#This gives us the first index during a left to right scan. If the string is not found, it returns -1\n",
    "print(\"Find the index from which the substring 'llo' begins within the test string\")\n",
    "print(testString1.find('llo'))"
   ]
  },
  {
   "cell_type": "code",
   "execution_count": 146,
   "metadata": {},
   "outputs": [
    {
     "name": "stdout",
     "output_type": "stream",
     "text": [
      "Now, let's look for a substring which is not a part of the given string\n",
      "-1\n"
     ]
    }
   ],
   "source": [
    "print(\"Now, let's look for a substring which is not a part of the given string\")\n",
    "print(testString1.find('xxy'))"
   ]
  },
  {
   "cell_type": "code",
   "execution_count": 147,
   "metadata": {},
   "outputs": [
    {
     "name": "stdout",
     "output_type": "stream",
     "text": [
      "Now, trying to find a substring between specified indexes only: looking for 'l' between 4 and 9\n",
      "-1\n"
     ]
    }
   ],
   "source": [
    "# Now, trying to find the index of a substring between specified indexes only\n",
    "print(\"Now, trying to find a substring between specified indexes only: looking for 'l' between 4 and 9\")\n",
    "print(testString1.find('l',4,9))"
   ]
  },
  {
   "cell_type": "code",
   "execution_count": 148,
   "metadata": {},
   "outputs": [
    {
     "name": "stdout",
     "output_type": "stream",
     "text": [
      "find('l') on the given string returns the following index (scanning the string from left to right):\n",
      "2\n"
     ]
    }
   ],
   "source": [
    "# rfind is used, to find the index from the reverse\n",
    "# So, testString1.rfind('l') will look for the last index of l in the string\n",
    "print(\"find('l') on the given string returns the following index (scanning the string from left to right):\")\n",
    "print(testString1.find('l'))"
   ]
  },
  {
   "cell_type": "code",
   "execution_count": 149,
   "metadata": {},
   "outputs": [
    {
     "name": "stdout",
     "output_type": "stream",
     "text": [
      "rfind('l') on the given string returns the following index (this scans the string from right to left):\n",
      "9\n",
      "Replacing World with Planet\n",
      "Hello Planet!\n"
     ]
    }
   ],
   "source": [
    "print(\"rfind('l') on the given string returns the following index (this scans the string from right to left):\")\n",
    "print(testString1.rfind('l'))\n",
    "\n",
    "# Now let us try to replace/substitute a substring of this string with another string\n",
    "print(\"Replacing World with Planet\")\n",
    "print(testString1.replace(\"World\",\"Planet\"))"
   ]
  },
  {
   "cell_type": "code",
   "execution_count": 150,
   "metadata": {},
   "outputs": [
    {
     "name": "stdout",
     "output_type": "stream",
     "text": [
      "Splitting the string into words, wherever there is a space\n",
      "['Hello', 'World!']\n",
      "['Hello', 'World!']\n"
     ]
    }
   ],
   "source": [
    "# Now let us try to split the string, into separate words\n",
    "# let us split it wherever there is a space\n",
    "print(\"Splitting the string into words, wherever there is a space\")\n",
    "print(testString1.split(\" \"))\n",
    "print(testString1.rsplit(\" \"))"
   ]
  },
  {
   "cell_type": "code",
   "execution_count": 157,
   "metadata": {},
   "outputs": [
    {
     "name": "stdout",
     "output_type": "stream",
     "text": [
      "sairama sai\n",
      "sai\n",
      "[1, 1]\n",
      "2\n"
     ]
    }
   ],
   "source": [
    "string, substring = (input().strip(), input().strip())\n",
    "l=[ 1 for i in range(len(string)-len(substring)+1) if string[i:i+len(substring)] == substring]\n",
    "print(l)\n",
    "print(sum([ 1 for i in range(len(string)-len(substring)+1) if string[i:i+len(substring)] == substring]))"
   ]
  },
  {
   "cell_type": "code",
   "execution_count": 179,
   "metadata": {},
   "outputs": [
    {
     "name": "stdout",
     "output_type": "stream",
     "text": [
      "sairama sai\n",
      "sai\n"
     ]
    },
    {
     "data": {
      "text/plain": [
       "2"
      ]
     },
     "execution_count": 179,
     "metadata": {},
     "output_type": "execute_result"
    }
   ],
   "source": [
    "#why\n",
    "\n",
    "\n",
    "def count_substring(string, sub_string):\n",
    "    counter=0\n",
    "    i=0\n",
    "    while i<len(string):\n",
    "        if string.find(substring,i)>=0:\n",
    "            i=string.find(substring,i)+1\n",
    "            counter+=1\n",
    "        else:\n",
    "            break\n",
    "    return counter\n",
    "\n",
    "\n",
    "string, substring = (input().strip(), input().strip())\n",
    "count_substring(string, substring)"
   ]
  },
  {
   "cell_type": "code",
   "execution_count": 181,
   "metadata": {},
   "outputs": [
    {
     "name": "stdout",
     "output_type": "stream",
     "text": [
      "siai\n"
     ]
    }
   ],
   "source": [
    "s=input()\n",
    "for test in ('isalnum', 'isalpha', 'isdigit', 'islower', 'isupper'):\n",
    "        any(eval(\"c.\" + test + \"()\") for c in s)"
   ]
  },
  {
   "cell_type": "code",
   "execution_count": 200,
   "metadata": {},
   "outputs": [
    {
     "name": "stdout",
     "output_type": "stream",
     "text": [
      "'32'\n"
     ]
    }
   ],
   "source": [
    "s='SAIram'\n",
    "print(ascii('32'))\n",
    "z=s.split()"
   ]
  },
  {
   "cell_type": "code",
   "execution_count": 212,
   "metadata": {},
   "outputs": [
    {
     "name": "stdout",
     "output_type": "stream",
     "text": [
      "['s', 'a', 'i', 'R', 'A', 'M']\n",
      "saiRAM\n"
     ]
    }
   ],
   "source": [
    "list(s)\n",
    "\n",
    "p=[]\n",
    "for element  in list(s):\n",
    "    if element.isupper():\n",
    "        p.append(element.lower())\n",
    "    else :\n",
    "        p.append(element.upper())\n",
    "        \n",
    "print(p)\n",
    "print(('').join(p))\n",
    "\n",
    "   "
   ]
  },
  {
   "cell_type": "code",
   "execution_count": 213,
   "metadata": {},
   "outputs": [
    {
     "name": "stdout",
     "output_type": "stream",
     "text": [
      "sairam\n",
      "True\n",
      "True\n",
      "False\n",
      "True\n",
      "False\n"
     ]
    }
   ],
   "source": [
    "s = input()\n",
    "for test in ('isalnum', 'isalpha', 'isdigit', 'islower', 'isupper'):\n",
    "        print(any(eval(\"c.\" + test + \"()\") for c in s))"
   ]
  },
  {
   "cell_type": "code",
   "execution_count": 214,
   "metadata": {},
   "outputs": [
    {
     "name": "stdout",
     "output_type": "stream",
     "text": [
      "saIram\n",
      "True\n",
      "True\n",
      "False\n",
      "True\n",
      "True\n"
     ]
    }
   ],
   "source": [
    "s = input()\n",
    "for f in ['isalnum', 'isalpha', 'isdigit', 'islower', 'isupper']:\n",
    "\tprint(any(getattr(c, f)() for c in s))"
   ]
  },
  {
   "cell_type": "code",
   "execution_count": 215,
   "metadata": {},
   "outputs": [
    {
     "name": "stdout",
     "output_type": "stream",
     "text": [
      "         ♥♥                  ♥♥         \n",
      "       ♥♥♥♥♥♥              ♥♥♥♥♥♥       \n",
      "    ♥♥♥♥♥♥♥♥♥♥♥♥        ♥♥♥♥♥♥♥♥♥♥♥♥    \n",
      "  ♥♥♥♥♥♥♥♥♥♥♥♥♥♥♥♥    ♥♥♥♥♥♥♥♥♥♥♥♥♥♥♥♥  \n",
      " ♥♥♥♥♥♥♥♥♥♥♥♥♥♥♥♥♥♥  ♥♥♥♥♥♥♥♥♥♥♥♥♥♥♥♥♥♥ \n",
      "♥♥♥♥♥♥♥♥♥♥♥♥♥♥♥♥♥♥♥♥♥♥♥♥♥♥♥♥♥♥♥♥♥♥♥♥♥♥♥♥\n",
      "  ♥♥♥♥♥♥♥♥♥♥♥♥♥♥♥♥♥♥♥♥♥♥♥♥♥♥♥♥♥♥♥♥♥♥♥♥  \n",
      "    ♥♥♥♥♥♥♥♥♥♥♥♥♥♥♥♥♥♥♥♥♥♥♥♥♥♥♥♥♥♥♥♥    \n",
      "      ♥♥♥♥♥♥♥♥♥♥♥♥♥♥♥♥♥♥♥♥♥♥♥♥♥♥♥♥      \n",
      "        ♥♥♥♥♥♥♥♥♥♥♥♥♥♥♥♥♥♥♥♥♥♥♥♥        \n",
      "          ♥♥♥♥♥♥♥♥♥♥♥♥♥♥♥♥♥♥♥♥          \n",
      "            ♥♥♥♥♥♥♥♥♥♥♥♥♥♥♥♥            \n",
      "              ♥♥♥♥♥♥♥♥♥♥♥♥              \n",
      "                ♥♥♥♥♥♥♥♥                \n",
      "                  ♥♥♥♥                  \n",
      "                   ♥♥                   \n"
     ]
    }
   ],
   "source": [
    "import math\n",
    "\n",
    "c='♥'\n",
    "width = 40\n",
    "\n",
    "print ((c*2).center(width//2)*2)\n",
    "\n",
    "for i in range(1,width//10+1):\n",
    "    print (((c*int(math.sin(math.radians(i*width//2))*width//4)).rjust(width//4)+\n",
    "           (c*int(math.sin(math.radians(i*width//2))*width//4)).ljust(width//4))*2)\n",
    "\n",
    "for i in range(width//4,0,-1):\n",
    "    print ((c*i*4).center(width))\n",
    "print ((c*2).center(width))"
   ]
  },
  {
   "cell_type": "code",
   "execution_count": 222,
   "metadata": {},
   "outputs": [
    {
     "name": "stdout",
     "output_type": "stream",
     "text": [
      "3\n",
      "  H  \n",
      " HHH \n",
      "HHHHH\n",
      " HHH         HHH        \n",
      " HHH         HHH        \n",
      " HHH         HHH        \n",
      " HHH         HHH        \n",
      " HHHHHHHHHHHHHHH  \n",
      " HHHHHHHHHHHHHHH  \n",
      " HHH         HHH        \n",
      " HHH         HHH        \n",
      " HHH         HHH        \n",
      " HHH         HHH        \n",
      "            HHHHH \n",
      "             HHH  \n",
      "              H   \n"
     ]
    }
   ],
   "source": [
    "#Replace all ______ with rjust, ljust or center. \n",
    "\n",
    "thickness = int(input()) #This must be an odd number\n",
    "c = 'H'\n",
    "\n",
    "#Top Cone\n",
    "for i in range(thickness):\n",
    "    print((c*i).rjust(thickness-1)+c+(c*i).ljust(thickness-1))\n",
    "\n",
    "#Top Pillars\n",
    "for i in range(thickness+1):\n",
    "    print((c*thickness).center(thickness*2)+(c*thickness).center(thickness*6))\n",
    "\n",
    "#Middle Belt\n",
    "for i in range((thickness+1)//2):\n",
    "    print((c*thickness*5).center(thickness*6))    \n",
    "\n",
    "#Bottom Pillars\n",
    "for i in range(thickness+1):\n",
    "    print((c*thickness).center(thickness*2)+(c*thickness).center(thickness*6))    \n",
    "\n",
    "#Bottom Cone\n",
    "for i in range(thickness):\n",
    "    print(((c*(thickness-i-1)).rjust(thickness)+c+(c*(thickness-i-1)).ljust(thickness)).rjust(thickness*6))"
   ]
  },
  {
   "cell_type": "code",
   "execution_count": 264,
   "metadata": {},
   "outputs": [
    {
     "name": "stdout",
     "output_type": "stream",
     "text": [
      "3\n",
      "  H  \n",
      " HHH \n",
      "HHHHH\n"
     ]
    }
   ],
   "source": [
    "#Replace all ______ with rjust, ljust or center. \n",
    "\n",
    "thickness = int(input()) #This must be an odd number\n",
    "c = 'H'\n",
    "\n",
    "#Top Cone\n",
    "for i in range(thickness):\n",
    "    print((c*i).rjust(thickness-1)+c+(c*i).ljust(thickness-1))"
   ]
  },
  {
   "cell_type": "code",
   "execution_count": 224,
   "metadata": {},
   "outputs": [
    {
     "name": "stdout",
     "output_type": "stream",
     "text": [
      "3\n",
      "  \n",
      " H\n",
      "HH\n"
     ]
    }
   ],
   "source": [
    "#Replace all ______ with rjust, ljust or center. \n",
    "\n",
    "thickness = int(input()) #This must be an odd number\n",
    "c = 'H'\n",
    "\n",
    "#Top Cone\n",
    "for i in range(thickness):\n",
    "    print((c*i).rjust(thickness-1))"
   ]
  },
  {
   "cell_type": "code",
   "execution_count": 225,
   "metadata": {},
   "outputs": [
    {
     "name": "stdout",
     "output_type": "stream",
     "text": [
      "3\n",
      "  H\n",
      " HH\n",
      "HHH\n"
     ]
    }
   ],
   "source": [
    "thickness = int(input()) #This must be an odd number\n",
    "c = 'H'\n",
    "\n",
    "#Top Cone\n",
    "for i in range(thickness):\n",
    "    print((c*i).rjust(thickness-1)+c)"
   ]
  },
  {
   "cell_type": "code",
   "execution_count": 228,
   "metadata": {},
   "outputs": [
    {
     "name": "stdout",
     "output_type": "stream",
     "text": [
      "3\n",
      "H  \n",
      "HH \n",
      "HHH\n"
     ]
    }
   ],
   "source": [
    "\n",
    "thickness = int(input()) #This must be an odd number\n",
    "c = 'H'\n",
    "\n",
    "#Top Cone\n",
    "for i in range(thickness):\n",
    "    print(c+(c*i).ljust(thickness-1))"
   ]
  },
  {
   "cell_type": "code",
   "execution_count": 229,
   "metadata": {},
   "outputs": [
    {
     "name": "stdout",
     "output_type": "stream",
     "text": [
      "3\n",
      "H\n",
      "H\n",
      "H\n"
     ]
    }
   ],
   "source": [
    "\n",
    "thickness = int(input()) #This must be an odd number\n",
    "c = 'H'\n",
    "\n",
    "#Top Cone\n",
    "for i in range(thickness):\n",
    "    print(c)"
   ]
  },
  {
   "cell_type": "code",
   "execution_count": 253,
   "metadata": {},
   "outputs": [
    {
     "name": "stdout",
     "output_type": "stream",
     "text": [
      "   HHH   \n",
      "  HHHHH  \n"
     ]
    }
   ],
   "source": [
    "print(('H'*1).rjust(4)+'H'+('H'*1).ljust(4))\n",
    "print(('H'*2).rjust(4)+'H'+('H'*2).ljust(4))"
   ]
  },
  {
   "cell_type": "code",
   "execution_count": 270,
   "metadata": {},
   "outputs": [
    {
     "name": "stdout",
     "output_type": "stream",
     "text": [
      "   HHH   \n",
      "  HHHHH  \n",
      " HHHHHHH \n",
      "HHHHHHHHH\n"
     ]
    }
   ],
   "source": [
    "print(('H'*1).rjust(4)+'H'+('H'*1).ljust(4))\n",
    "print(('H'*2).rjust(4)+'H'+('H'*2).ljust(4))\n",
    "print(('H'*3).rjust(4)+'H'+('H'*3).ljust(4))\n",
    "print(('H'*4).rjust(4)+'H'+('H'*4).ljust(4))"
   ]
  },
  {
   "cell_type": "code",
   "execution_count": 271,
   "metadata": {},
   "outputs": [
    {
     "name": "stdout",
     "output_type": "stream",
     "text": [
      "   HHHHHHHHHHHHHHHHHHHHHHHHHHHHHHHHHHH    \n",
      "   HHHHHHHHHHHHHHHHHHHHHHHHHHHHHHHHHHH    \n",
      "   HHHHHHHHHHHHHHHHHHHHHHHHHHHHHHHHHHH    \n",
      "   HHHHHHHHHHHHHHHHHHHHHHHHHHHHHHHHHHH    \n"
     ]
    }
   ],
   "source": [
    "for i in range((8)//2):\n",
    "    print(('H'*7*5).center(7*6)) "
   ]
  },
  {
   "cell_type": "code",
   "execution_count": 307,
   "metadata": {},
   "outputs": [
    {
     "name": "stdout",
     "output_type": "stream",
     "text": [
      "yrrrytyttytr\n",
      "3\n",
      "yrr\n",
      "ryt\n",
      "ytt\n",
      "ytr\n",
      "None\n"
     ]
    }
   ],
   "source": [
    "#why\n",
    "\n",
    "import textwrap\n",
    "\n",
    "def wrap(string, max_width):\n",
    "    wrapper = textwrap.TextWrapper(width=max_width) \n",
    "    word_list = wrapper.wrap(text=string)\n",
    "    for i in word_list:\n",
    "        print(i)\n",
    "    \n",
    "    \n",
    "        \n",
    "\n",
    "\n",
    "\n",
    "if __name__ == '__main__':\n",
    "    string, max_width = input(), int(input())\n",
    "    result = wrap(string, max_width)\n",
    "    print(result)"
   ]
  },
  {
   "cell_type": "code",
   "execution_count": 279,
   "metadata": {},
   "outputs": [
    {
     "name": "stdout",
     "output_type": "stream",
     "text": [
      "gergegeggeger\n",
      "3\n",
      "ger\n",
      "geg\n",
      "egg\n",
      "ege\n",
      "r\n"
     ]
    }
   ],
   "source": [
    "#cool\n",
    "def wrap(string, max_width):\n",
    "    return \"\\n\".join([string[i:i+max_width] for i in range(0, len(string), max_width)])\n",
    "if __name__ == '__main__':\n",
    "    string, max_width = input(), int(input())\n",
    "    result = wrap(string, max_width)\n",
    "    print(result)"
   ]
  },
  {
   "cell_type": "code",
   "execution_count": 303,
   "metadata": {},
   "outputs": [
    {
     "name": "stdout",
     "output_type": "stream",
     "text": [
      "ewe\n",
      "rwere\n",
      "rwerere\n",
      "rere\n",
      "r\n",
      "wer\n",
      "r\n"
     ]
    }
   ],
   "source": [
    "list =['ewe','rwere','rwerere','rere','r','wer','r']\n",
    "for i in list:\n",
    "    print(i)"
   ]
  },
  {
   "cell_type": "code",
   "execution_count": 334,
   "metadata": {},
   "outputs": [
    {
     "name": "stdout",
     "output_type": "stream",
     "text": [
      "7 21\n",
      "---------.|.---------\n",
      "------.|..|..|.------\n",
      "---.|..|..|..|..|.---\n",
      "-------WELCOME-------\n",
      "---.|..|..|..|..|.---\n",
      "------.|..|..|.------\n",
      "---------.|.---------\n"
     ]
    }
   ],
   "source": [
    "n, m = map(int,input().split())\n",
    "pattern = [('.|.'*(2*i + 1)).center(m, '-') for i in range(n//2)]\n",
    "print('\\n'.join(pattern + ['WELCOME'.center(m, '-')] + pattern[::-1]))\n",
    "    "
   ]
  },
  {
   "cell_type": "code",
   "execution_count": 335,
   "metadata": {},
   "outputs": [
    {
     "name": "stdout",
     "output_type": "stream",
     "text": [
      "7 21\n",
      "['---------.|.---------', '------.|..|..|.------', '---.|..|..|..|..|.---']\n"
     ]
    }
   ],
   "source": [
    "n, m = map(int,input().split())\n",
    "pattern = [('.|.'*(2*i + 1)).center(m, '-') for i in range(n//2)]\n",
    "print(pattern)"
   ]
  },
  {
   "cell_type": "code",
   "execution_count": 330,
   "metadata": {},
   "outputs": [
    {
     "name": "stdout",
     "output_type": "stream",
     "text": [
      "1\n",
      "1.5\n"
     ]
    }
   ],
   "source": [
    "print(3//2)\n",
    "print(3/2)\n"
   ]
  },
  {
   "cell_type": "code",
   "execution_count": 339,
   "metadata": {},
   "outputs": [
    {
     "name": "stdout",
     "output_type": "stream",
     "text": [
      "---------.|.---------\n",
      "------.|..|..|.------\n",
      "---.|..|..|..|..|.---\n"
     ]
    }
   ],
   "source": [
    "#print('\\n'.join(pattern + ['WELCOME'.center(21, '-')] + pattern[::-1]))\n",
    "print('\\n'.join(pattern))"
   ]
  },
  {
   "cell_type": "code",
   "execution_count": 351,
   "metadata": {},
   "outputs": [
    {
     "name": "stdout",
     "output_type": "stream",
     "text": [
      "['---.|..|..|..|..|.---', '------.|..|..|.------', '---------.|.---------']\n",
      "2\n"
     ]
    },
    {
     "data": {
      "text/plain": [
       "'0b00001110'"
      ]
     },
     "execution_count": 351,
     "metadata": {},
     "output_type": "execute_result"
    }
   ],
   "source": [
    "print(pattern[::-1])\n",
    "width = len(\"{0:b}\".format(3))\n",
    "print(width)\n",
    "format(14, '#010b')"
   ]
  },
  {
   "cell_type": "code",
   "execution_count": 346,
   "metadata": {},
   "outputs": [
    {
     "name": "stdout",
     "output_type": "stream",
     "text": [
      "12\n",
      "   1    1    1    1\n",
      "   2    2    2   10\n",
      "   3    3    3   11\n",
      "   4    4    4  100\n",
      "   5    5    5  101\n",
      "   6    6    6  110\n",
      "   7    7    7  111\n",
      "   8   10    8 1000\n",
      "   9   11    9 1001\n",
      "  10   12    A 1010\n",
      "  11   13    B 1011\n",
      "  12   14    C 1100\n"
     ]
    }
   ],
   "source": [
    "n = int(input())\n",
    "width = len(\"{0:b}\".format(n))\n",
    "for i in range(1,n+1):\n",
    "  print(\"{0:{width}d} {0:{width}o} {0:{width}X} {0:{width}b}\".format(i, width=width))"
   ]
  },
  {
   "cell_type": "code",
   "execution_count": 367,
   "metadata": {},
   "outputs": [
    {
     "name": "stdout",
     "output_type": "stream",
     "text": [
      "17\n",
      "5\n"
     ]
    }
   ],
   "source": [
    "n = int(input())\n",
    "width = len(\"{0:b}\".format(n))\n",
    "print(width)"
   ]
  },
  {
   "cell_type": "code",
   "execution_count": 366,
   "metadata": {},
   "outputs": [
    {
     "name": "stdout",
     "output_type": "stream",
     "text": [
      "17\n",
      "10001\n",
      "None\n"
     ]
    }
   ],
   "source": [
    "n = int(input())\n",
    "width = print(\"{0:b}\".format(n))\n",
    "print(width)"
   ]
  },
  {
   "cell_type": "code",
   "execution_count": 387,
   "metadata": {},
   "outputs": [
    {
     "ename": "TypeError",
     "evalue": "list indices must be integers or slices, not str",
     "output_type": "error",
     "traceback": [
      "\u001b[1;31m---------------------------------------------------------------------------\u001b[0m",
      "\u001b[1;31mTypeError\u001b[0m                                 Traceback (most recent call last)",
      "\u001b[1;32m<ipython-input-387-a15f5d81845a>\u001b[0m in \u001b[0;36m<module>\u001b[1;34m()\u001b[0m\n\u001b[0;32m      2\u001b[0m \u001b[1;33m\u001b[0m\u001b[0m\n\u001b[0;32m      3\u001b[0m \u001b[1;32mfor\u001b[0m \u001b[0mi\u001b[0m \u001b[1;32min\u001b[0m \u001b[0ml\u001b[0m\u001b[1;33m:\u001b[0m\u001b[1;33m\u001b[0m\u001b[0m\n\u001b[1;32m----> 4\u001b[1;33m     \u001b[1;32mif\u001b[0m \u001b[0ml\u001b[0m\u001b[1;33m[\u001b[0m\u001b[0mi\u001b[0m\u001b[1;33m]\u001b[0m\u001b[1;33m==\u001b[0m\u001b[1;36m0\u001b[0m\u001b[1;33m:\u001b[0m\u001b[1;33m\u001b[0m\u001b[0m\n\u001b[0m\u001b[0;32m      5\u001b[0m         \u001b[0mprint\u001b[0m\u001b[1;33m(\u001b[0m\u001b[0mi\u001b[0m\u001b[1;33m)\u001b[0m\u001b[1;33m\u001b[0m\u001b[0m\n\u001b[0;32m      6\u001b[0m     \u001b[1;32melse\u001b[0m\u001b[1;33m:\u001b[0m\u001b[1;33m\u001b[0m\u001b[0m\n",
      "\u001b[1;31mTypeError\u001b[0m: list indices must be integers or slices, not str"
     ]
    }
   ],
   "source": [
    "l=['a','b','c','d','e']\n",
    "\n",
    "for i in l:\n",
    "    if l[i]==0:\n",
    "        print(i)\n",
    "    else:\n",
    "        x=i*x\n",
    "        print(x)"
   ]
  },
  {
   "cell_type": "code",
   "execution_count": 388,
   "metadata": {},
   "outputs": [
    {
     "data": {
      "text/plain": [
       "'b'"
      ]
     },
     "execution_count": 388,
     "metadata": {},
     "output_type": "execute_result"
    }
   ],
   "source": [
    "l[1]"
   ]
  },
  {
   "cell_type": "code",
   "execution_count": 407,
   "metadata": {},
   "outputs": [
    {
     "name": "stdout",
     "output_type": "stream",
     "text": [
      "a-\n",
      "b-a-\n",
      "c-b-a-\n",
      "d-c-b-a-\n"
     ]
    }
   ],
   "source": [
    "alpha=['a','b','c','d']\n",
    "x=4\n",
    "i=0\n",
    "b=''\n",
    "a=''\n",
    "while(i<x):\n",
    "    j=0;\n",
    "    b=''\n",
    "    while( j<=i) :\n",
    "        a=alpha[j]\n",
    "        b=a+'-'+b\n",
    "        j=j+1\n",
    "    print(b)    \n",
    "    i=i+1 "
   ]
  },
  {
   "cell_type": "code",
   "execution_count": 442,
   "metadata": {},
   "outputs": [
    {
     "name": "stdout",
     "output_type": "stream",
     "text": [
      "abcdefghijklmnopqrstuvwxyz\n",
      "ABCDEFGHIJKLMNOPQRSTUVWXYZ\n",
      "4\n",
      "a-b-c-d\n",
      "['d-c-b-a-b-c-d']\n",
      "b-c-d\n",
      "['d-c-b-a-b-c-d', '--d-c-b-c-d--']\n",
      "c-d\n",
      "['d-c-b-a-b-c-d', '--d-c-b-c-d--', '----d-c-d----']\n",
      "d\n",
      "['d-c-b-a-b-c-d', '--d-c-b-c-d--', '----d-c-d----', '------d------']\n",
      "------d------\n",
      "----d-c-d----\n",
      "--d-c-b-c-d--\n",
      "------d------\n",
      "----d-c-d----\n",
      "--d-c-b-c-d--\n",
      "d-c-b-a-b-c-d\n",
      "--d-c-b-c-d--\n",
      "----d-c-d----\n",
      "------d------\n"
     ]
    }
   ],
   "source": [
    "import string\n",
    "alpha = string.ascii_lowercase\n",
    "beta = string.ascii_uppercase\n",
    "print(alpha)\n",
    "print(beta)\n",
    "n = int(input())\n",
    "L = []\n",
    "for i in range(n):\n",
    "    s = \"-\".join(alpha[i:n])\n",
    "    print(s)\n",
    "    L.append((s[::-1]+s[1:]).center(4*n-3, \"-\"))\n",
    "    print(L)\n",
    "print('\\n'.join(L[:0:-1]))\n",
    "print('\\n'.join(L[:0:-1]+L))"
   ]
  },
  {
   "cell_type": "code",
   "execution_count": 441,
   "metadata": {},
   "outputs": [
    {
     "name": "stdout",
     "output_type": "stream",
     "text": [
      "['------d------', '----d-c-d----', '--d-c-b-c-d--']\n",
      "['------d------', '----d-c-d----']\n",
      "['------d------', '----d-c-d----', '--d-c-b-c-d--', 'd-c-b-a-b-c-d']\n",
      "['d-c-b-a-b-c-d', '--d-c-b-c-d--', '----d-c-d----']\n",
      "['------d------', '--d-c-b-c-d--']\n"
     ]
    }
   ],
   "source": [
    "M = ['d-c-b-a-b-c-d', '--d-c-b-c-d--', '----d-c-d----', '------d------']\n",
    "#print('\\n'.join(M[:0:-1]+M))\n",
    "print(M[:0:-1])\n",
    "print(M[:1:-1])\n",
    "print(M[::-1])\n",
    "print(M[0:-1])\n",
    "print(M[:0:-2])\n"
   ]
  }
 ],
 "metadata": {
  "kernelspec": {
   "display_name": "Python 3",
   "language": "python",
   "name": "python3"
  },
  "language_info": {
   "codemirror_mode": {
    "name": "ipython",
    "version": 3
   },
   "file_extension": ".py",
   "mimetype": "text/x-python",
   "name": "python",
   "nbconvert_exporter": "python",
   "pygments_lexer": "ipython3",
   "version": "3.6.5"
  }
 },
 "nbformat": 4,
 "nbformat_minor": 2
}
