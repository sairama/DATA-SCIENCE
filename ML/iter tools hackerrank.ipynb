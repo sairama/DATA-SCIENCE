{
 "cells": [
  {
   "cell_type": "code",
   "execution_count": 11,
   "metadata": {},
   "outputs": [
    {
     "name": "stdout",
     "output_type": "stream",
     "text": [
      "hack 2\n",
      "ac\n",
      "ah\n",
      "ak\n",
      "ca\n",
      "ch\n",
      "ck\n",
      "ha\n",
      "hc\n",
      "hk\n",
      "ka\n",
      "kc\n",
      "kh\n"
     ]
    }
   ],
   "source": [
    "from itertools import permutations\n",
    "l,b=input().split()\n",
    "l1=list(permutations(l,int(b)))\n",
    "for i in sorted(l1):\n",
    "    print(*i,sep='')"
   ]
  },
  {
   "cell_type": "code",
   "execution_count": 13,
   "metadata": {},
   "outputs": [
    {
     "name": "stdout",
     "output_type": "stream",
     "text": [
      "hack 2\n",
      "ac\n",
      "ah\n",
      "ak\n",
      "ca\n",
      "ch\n",
      "ck\n",
      "ha\n",
      "hc\n",
      "hk\n",
      "ka\n",
      "kc\n",
      "kh\n"
     ]
    }
   ],
   "source": [
    "from itertools import permutations\n",
    "s,n = input().split()\n",
    "print(*[''.join(i) for i in permutations(sorted(s),int(n))],sep='\\n')"
   ]
  },
  {
   "cell_type": "code",
   "execution_count": 15,
   "metadata": {},
   "outputs": [
    {
     "name": "stdout",
     "output_type": "stream",
     "text": [
      "hack 2\n",
      "aa\n",
      "ac\n",
      "ah\n",
      "ak\n",
      "cc\n",
      "ch\n",
      "ck\n",
      "hh\n",
      "hk\n",
      "kk\n"
     ]
    }
   ],
   "source": [
    "from itertools import combinations_with_replacement as combs\n",
    "\n",
    "s, k = input().split()\n",
    "print(*[''.join(p) for p in combs(sorted(s), int(k))], sep='\\n')\n",
    "      "
   ]
  },
  {
   "cell_type": "code",
   "execution_count": 13,
   "metadata": {},
   "outputs": [
    {
     "name": "stdout",
     "output_type": "stream",
     "text": [
      "hack 2\n",
      "ac\n",
      "ah\n",
      "ak\n",
      "ca\n",
      "ch\n",
      "ck\n",
      "ha\n",
      "hc\n",
      "hk\n",
      "ka\n",
      "kc\n",
      "kh\n"
     ]
    }
   ],
   "source": [
    "from itertools import permutations\n",
    "s,n = input().split()\n",
    "print([''.join(i) for i in permutations(sorted(s),int(n))],sep='\\n')"
   ]
  },
  {
   "cell_type": "code",
   "execution_count": 15,
   "metadata": {},
   "outputs": [
    {
     "name": "stdout",
     "output_type": "stream",
     "text": [
      "hack 2\n",
      "[('a', 'c'), ('a', 'h'), ('a', 'k'), ('c', 'a'), ('c', 'h'), ('c', 'k'), ('h', 'a'), ('h', 'c'), ('h', 'k'), ('k', 'a'), ('k', 'c'), ('k', 'h')]\n"
     ]
    }
   ],
   "source": [
    "from itertools import permutations\n",
    "s,n = input().split()\n",
    "print([i for i in permutations(sorted(s),int(n))],sep='\\n')"
   ]
  },
  {
   "cell_type": "code",
   "execution_count": 8,
   "metadata": {},
   "outputs": [
    {
     "name": "stdout",
     "output_type": "stream",
     "text": [
      "hack 2\n",
      "a\n",
      "c\n",
      "h\n",
      "k\n",
      "ac\n",
      "ah\n",
      "ak\n",
      "ch\n",
      "ck\n",
      "hk\n"
     ]
    }
   ],
   "source": [
    "\n",
    "from itertools import combinations\n",
    "s,n = input().split()\n",
    "#print([i for i in combinations(sorted(s),range(1,int(n)))],sep='\\n')\n",
    "\n",
    "for i in range(1,int(n)+1):\n",
    "    l3=list( combinations(sorted(s),int(i)))\n",
    "    for i in sorted(l3):\n",
    "        print(*i,sep='')\n",
    "    "
   ]
  },
  {
   "cell_type": "code",
   "execution_count": 9,
   "metadata": {},
   "outputs": [
    {
     "name": "stdout",
     "output_type": "stream",
     "text": [
      "hack 2\n",
      "a\n",
      "c\n",
      "h\n",
      "k\n",
      "ac\n",
      "ah\n",
      "ak\n",
      "ch\n",
      "ck\n",
      "hk\n"
     ]
    }
   ],
   "source": [
    "from itertools import *\n",
    "\n",
    "s,k = input().split(' ')\n",
    "\n",
    "for l in range(1,int(k)+1):\n",
    "    for c in combinations (sorted(s),l):\n",
    "        print(''.join(c))"
   ]
  },
  {
   "cell_type": "code",
   "execution_count": 11,
   "metadata": {},
   "outputs": [
    {
     "name": "stdout",
     "output_type": "stream",
     "text": [
      "hack 2\n",
      "a\n",
      "c\n",
      "h\n",
      "k\n",
      "ac\n",
      "ah\n",
      "ak\n",
      "ch\n",
      "ck\n",
      "hk\n"
     ]
    }
   ],
   "source": [
    "s, n = input().split()\n",
    "print(\"\\n\".join([(''.join(p)) for i in range(1,int(n)+1) for p in combinations(sorted(s), i)]))"
   ]
  },
  {
   "cell_type": "code",
   "execution_count": 16,
   "metadata": {},
   "outputs": [
    {
     "name": "stdout",
     "output_type": "stream",
     "text": [
      "hack 2\n",
      "aa\n",
      "ac\n",
      "ah\n",
      "ak\n",
      "cc\n",
      "ch\n",
      "ck\n",
      "hh\n",
      "hk\n",
      "kk\n"
     ]
    }
   ],
   "source": [
    "from itertools import combinations_with_replacement as combs\n",
    "\n",
    "s, k = input().split()\n",
    "print(*[''.join(p) for p in combs(sorted(s), int(k))], sep='\\n')"
   ]
  },
  {
   "cell_type": "code",
   "execution_count": 20,
   "metadata": {},
   "outputs": [
    {
     "name": "stdout",
     "output_type": "stream",
     "text": [
      "hack 2\n",
      "aa ac ah ak cc ch ck hh hk kk\n"
     ]
    }
   ],
   "source": [
    "from itertools import combinations_with_replacement as combs\n",
    "\n",
    "s, k = input().split()\n",
    "print(*[''.join(p) for p in combs(sorted(s), int(k))])"
   ]
  },
  {
   "cell_type": "code",
   "execution_count": 23,
   "metadata": {},
   "outputs": [
    {
     "name": "stdout",
     "output_type": "stream",
     "text": [
      "hack 2\n",
      "aa ac ah ak cc ch ck hh hk kk\n"
     ]
    }
   ],
   "source": [
    "from itertools import combinations_with_replacement as combs\n",
    "\n",
    "s, k = input().split()\n",
    "print(*[''.join(p) for p in combs(sorted(s), int(k))])"
   ]
  },
  {
   "cell_type": "code",
   "execution_count": 25,
   "metadata": {},
   "outputs": [
    {
     "name": "stdout",
     "output_type": "stream",
     "text": [
      "122231\n",
      "(1, 1) (3, 2) (1, 3) (1, 1)\n"
     ]
    }
   ],
   "source": [
    "from itertools import groupby\n",
    "print(*[(len(list(c)), int(k)) for k, c in groupby(input())])"
   ]
  },
  {
   "cell_type": "code",
   "execution_count": 30,
   "metadata": {},
   "outputs": [
    {
     "name": "stdout",
     "output_type": "stream",
     "text": [
      "111331a\n",
      "<itertools._grouper object at 0x0000023EAE7C81D0>\n",
      "['1', '1', '1']\n",
      "1\n",
      "0\n",
      "<itertools._grouper object at 0x0000023EAE7C4710>\n",
      "['3', '3']\n",
      "3\n",
      "0\n",
      "<itertools._grouper object at 0x0000023EAE7C81D0>\n",
      "['1']\n",
      "1\n",
      "0\n",
      "<itertools._grouper object at 0x0000023EAE7C8128>\n",
      "['a']\n",
      "a\n",
      "0\n"
     ]
    }
   ],
   "source": [
    "from itertools import groupby\n",
    "for k,c in groupby(input()):\n",
    "    print(c)\n",
    "    print(list(c))\n",
    "    print(k)\n",
    "    print(len(list(c)))\n",
    "    "
   ]
  },
  {
   "cell_type": "code",
   "execution_count": 7,
   "metadata": {},
   "outputs": [
    {
     "name": "stdout",
     "output_type": "stream",
     "text": [
      "333221\n",
      "['3', '3', '3']\n",
      "0\n",
      "3\n",
      "(0, 3) ['2', '2']\n",
      "0\n",
      "2\n",
      "(0, 2) ['1']\n",
      "0\n",
      "1\n",
      "(0, 1) "
     ]
    }
   ],
   "source": [
    "from itertools import groupby\n",
    "for k, g in groupby(input()):\n",
    "    print(list(g))\n",
    "    print(len(list(g)))\n",
    "    print(k)\n",
    "    print(\"({}, {})\".format(len(list(g)), k), end=\" \")"
   ]
  },
  {
   "cell_type": "code",
   "execution_count": 8,
   "metadata": {},
   "outputs": [
    {
     "name": "stdout",
     "output_type": "stream",
     "text": [
      "22231\n",
      "(3, 2) (1, 3) (1, 1) "
     ]
    }
   ],
   "source": [
    "i =0\n",
    "s = input()\n",
    "while i in range(len(s)) :\n",
    "    temp = s[i]\n",
    "    k = i+1\n",
    "    c = 1\n",
    "    while k<len(s) :\n",
    "        if s[k] != temp:\n",
    "            break\n",
    "        c += 1        \n",
    "        k += 1\n",
    "    print((c,int(s[i])),end=' ')\n",
    "    i = k"
   ]
  },
  {
   "cell_type": "code",
   "execution_count": 2,
   "metadata": {},
   "outputs": [
    {
     "name": "stdout",
     "output_type": "stream",
     "text": [
      "4\n",
      "a a c d\n",
      "2\n",
      "[('a', 'a'), ('a', 'c'), ('a', 'd'), ('a', 'c'), ('a', 'd'), ('c', 'd')]\n",
      "0.833\n"
     ]
    }
   ],
   "source": [
    "from itertools import combinations\n",
    "\n",
    "N = int(input())\n",
    "L = input().split()\n",
    "K = int(input())\n",
    "\n",
    "C = list(combinations(L, K))\n",
    "print(C)\n",
    "F = filter(lambda c: 'a' in c, C)\n",
    "print(\"{0:.3}\".format(len(list(F))/len(C)))"
   ]
  },
  {
   "cell_type": "code",
   "execution_count": 13,
   "metadata": {},
   "outputs": [
    {
     "name": "stdout",
     "output_type": "stream",
     "text": [
      "[('a', 'a'), ('a', 'c'), ('a', 'd'), ('a', 'c'), ('a', 'd'), ('c', 'd')]\n"
     ]
    }
   ],
   "source": [
    "F= filter(lambda c: 'a' in c, C)\n",
    "print(C)\n"
   ]
  },
  {
   "cell_type": "code",
   "execution_count": 14,
   "metadata": {},
   "outputs": [
    {
     "name": "stdout",
     "output_type": "stream",
     "text": [
      "4\n",
      "a d a c\n",
      "2\n",
      "0.833\n"
     ]
    }
   ],
   "source": [
    "from math import factorial\n",
    "\n",
    "\n",
    "def C(n, k):\n",
    "    if n < k:\n",
    "        return 0\n",
    "    return factorial(n) // factorial(n-k)\n",
    "\n",
    "N = int(input())\n",
    "n_a = input().split().count('a')\n",
    "K = int(input())\n",
    "\n",
    "print('%.3f' % (1 - C(N - n_a, K) / C(N, K)))"
   ]
  },
  {
   "cell_type": "code",
   "execution_count": 16,
   "metadata": {},
   "outputs": [
    {
     "name": "stdout",
     "output_type": "stream",
     "text": [
      "3 1000\n",
      "3\n",
      "1000\n",
      "2 5 4\n",
      "3 7 8 9\n",
      "5 5 7 8 9 10\n"
     ]
    }
   ],
   "source": [
    "s,k= list(map(int,input().split()))\n",
    "print(s)\n",
    "print(k)\n",
    "l1=sorted(list(map(int,input().split())))[1:][-1]\n",
    "l2=sorted(list(map(int,input().split())))[1:][-1]\n",
    "l3=sorted(list(map(int,input().split())))[1:][-1]\n"
   ]
  },
  {
   "cell_type": "code",
   "execution_count": 4,
   "metadata": {},
   "outputs": [
    {
     "name": "stdout",
     "output_type": "stream",
     "text": [
      "5\n",
      "9\n",
      "10\n"
     ]
    }
   ],
   "source": [
    "print(l1)\n",
    "print(l2)\n",
    "print(l3)"
   ]
  },
  {
   "cell_type": "code",
   "execution_count": 17,
   "metadata": {},
   "outputs": [
    {
     "name": "stdout",
     "output_type": "stream",
     "text": [
      "206\n"
     ]
    }
   ],
   "source": [
    "print(sum(list(map(lambda x:x**2,[l1,l2,l3])))%k)\n"
   ]
  },
  {
   "cell_type": "code",
   "execution_count": 24,
   "metadata": {},
   "outputs": [
    {
     "name": "stdout",
     "output_type": "stream",
     "text": [
      "3 1000\n",
      "3\n",
      "1000\n",
      "<generator object <genexpr> at 0x00000168F142E258>\n",
      "2 5 4\n",
      "3 7 8 9\n",
      "5 5 7 8 9 10\n",
      "<map object at 0x00000168F14445F8>\n",
      "206\n"
     ]
    }
   ],
   "source": [
    "from itertools import product\n",
    "\n",
    "K,M = map(int,input().split())\n",
    "print(K)\n",
    "print(M)\n",
    "N = (list(map(int, input().split()))[1:] for _ in range(K))\n",
    "print(N)\n",
    "results = map(lambda x: sum(i**2 for i in x)%M, product(*N))\n",
    "print(results)\n",
    "print(max(results))"
   ]
  },
  {
   "cell_type": "code",
   "execution_count": 29,
   "metadata": {},
   "outputs": [
    {
     "name": "stdout",
     "output_type": "stream",
     "text": [
      "3 1000\n",
      "2 5 4\n",
      "3 7 8 9\n",
      "5 5 7 8 9 10\n",
      "[[5, 4], [7, 8, 9], [5, 7, 8, 9, 10]]\n",
      "[(5, 7, 5), (5, 7, 7), (5, 7, 8), (5, 7, 9), (5, 7, 10), (5, 8, 5), (5, 8, 7), (5, 8, 8), (5, 8, 9), (5, 8, 10), (5, 9, 5), (5, 9, 7), (5, 9, 8), (5, 9, 9), (5, 9, 10), (4, 7, 5), (4, 7, 7), (4, 7, 8), (4, 7, 9), (4, 7, 10), (4, 8, 5), (4, 8, 7), (4, 8, 8), (4, 8, 9), (4, 8, 10), (4, 9, 5), (4, 9, 7), (4, 9, 8), (4, 9, 9), (4, 9, 10)]\n",
      "206\n"
     ]
    }
   ],
   "source": [
    "K, M = [int(x) for x in input().split()]\n",
    "arrayN = []\n",
    "for _i_ in range(K):\n",
    "    arrayN.append([int(x) for x in input().split()][1:])\n",
    "print(arrayN)   \n",
    "from itertools import product\n",
    "possible_combination = list(product(*arrayN))\n",
    "print(possible_combination)\n",
    "def func(nums):\n",
    "    return sum(x*x for x in nums) % M\n",
    "\n",
    "print(max(list(map(func, possible_combination))))\n",
    "\n"
   ]
  },
  {
   "cell_type": "code",
   "execution_count": 30,
   "metadata": {},
   "outputs": [
    {
     "name": "stdout",
     "output_type": "stream",
     "text": [
      "[99, 123, 138, 155, 174, 114, 138, 153, 170, 189, 131, 155, 170, 187, 206, 90, 114, 129, 146, 165, 105, 129, 144, 161, 180, 122, 146, 161, 178, 197]\n"
     ]
    }
   ],
   "source": [
    "print(list(map(func, possible_combination)))"
   ]
  }
 ],
 "metadata": {
  "kernelspec": {
   "display_name": "Python 3",
   "language": "python",
   "name": "python3"
  },
  "language_info": {
   "codemirror_mode": {
    "name": "ipython",
    "version": 3
   },
   "file_extension": ".py",
   "mimetype": "text/x-python",
   "name": "python",
   "nbconvert_exporter": "python",
   "pygments_lexer": "ipython3",
   "version": "3.6.4"
  }
 },
 "nbformat": 4,
 "nbformat_minor": 2
}
